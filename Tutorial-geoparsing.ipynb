{
 "cells": [
  {
   "cell_type": "markdown",
   "metadata": {
    "colab_type": "text",
    "id": "YrOKr9pwkxJw"
   },
   "source": [
    "# Creating Geospatial Data from Historical Texts in French\n",
    "\n",
    "This notebook is proposed by [L. Moncla](https://ludovicmoncla.github.io/) and [K. McDonough](https://www.turing.ac.uk/people/researchers/katherine-mcdonough) as part of the [GEODE](https://geode-project.github.io) (2020-2024) project.\n",
    "\n",
    "[![Open In Colab](https://colab.research.google.com/assets/colab-badge.svg)](http://colab.research.google.com/github/GEODE-project/perdido-geoparsing-notebook/master/Tutorial-geoparsing.ipynb)\n",
    "[![Binder](https://mybinder.org/badge_logo.svg)](https://mybinder.org/v2/gh/GEODE-project/perdido-geoparsing-notebook/master?filepath=Tutorial-geoparsing.ipynb)\n",
    "\n",
    "\n",
    "## 1. Overview\n",
    "\n",
    "\n",
    "In this tutorial, we'll learn about a few different things:\n",
    "\n",
    "\n",
    "- Load a dataset from the `Perdido` library as a Python dataframe (articles from Diderot and d'Alembert's *Encyclopédie*)\n",
    "- Load data from TEI-XML files into a Python dataframe\n",
    "- Use a dataframe for simple data analysis\n",
    "- Use the `Perdido Geoparser` library for geoparsing French texts (geotagging + geocoding)\n",
    "  - Display geotagging results\n",
    "  - Map geocoding results\n",
    "- Compare `Perdido` NER results with `spaCy` and `Stanza` (python libraries)\n",
    "- Reflect on the limits of geoparsing historical French (and multilingual) texts.\n"
   ]
  },
  {
   "cell_type": "markdown",
   "metadata": {
    "colab_type": "text",
    "id": "5gi1PFqtkxJy"
   },
   "source": [
    "## 2. Introduction\n",
    "\n",
    "Geoparsing (also known as toponym resolution) refers to the process of extracting place names from text and assigning geographic coordinates to them.\n",
    "This involves two main tasks: geotagging and geocoding.\n",
    "Geotagging consists to identify spans of text referring to place names while geocoding (or toponym resolution) consists to find unambiguous geographic coordinates.\n",
    "\n",
    "Geographic text analysis research in the digital humanities has focused on projects analyzing modern English-language corpora. \n",
    "In this tutorial we propose to highlight the difficulties of extracting and mapping geographical information from historical French texts.\n",
    "As we'll see in the following, in addition to the problem of language when it comes to historical documents, the early-modern period lacks temporally appropriate gazetteers.\n",
    "\n",
    "> McDonough, K., Moncla, L., & van de Camp, M. (2019). Named entity recognition goes to old regime France: geographic text analysis for early modern French corpora. International Journal of Geographical Information Science, 33, 2498–2522.\n",
    "\n"
   ]
  },
  {
   "cell_type": "markdown",
   "metadata": {},
   "source": [
    "### 2.1 The Perdido Geoparser python library\n",
    "\n",
    "[Perdido](https://github.com/ludovicmoncla/perdido) is a python text geoparser. It provides NLP and GIS methods for geoparsing French texts.\n",
    "It has initially been developed as a REST API for extracting and retrieving displacements from French hiking descriptions, under the framework of the [PERDIDO](http://erig.univ-pau.fr/PERDIDO/) and [ANR Choucas](http://choucas.ign.fr) projects.\n",
    "\n",
    "More recently, as part of the [GEODE project](https://geode-project.github.io) we have developed a custom version for historical documents and more specifically for the Encyclopédie.\n",
    "\n",
    "\n",
    "In this tutorial we'll see how to use the `Perdido` python library for geoparsing French texts. \n",
    "We will apply geoparsing on volume 7 of Encyclopedie corpus version released by the [ARTFL project](https://encyclopedie.uchicago.edu/) and we'll show the limits of geotagging and geocoding historical documents.\n",
    "\n",
    "### 2.2 Acknowledgement\n",
    "\n",
    "Data courtesy the [ARTFL Encyclopédie Project](https://artfl-project.uchicago.edu/), University of Chicago.\n"
   ]
  },
  {
   "cell_type": "markdown",
   "metadata": {},
   "source": [
    "## 3. Setting up the environment\n",
    "\n"
   ]
  },
  {
   "cell_type": "markdown",
   "metadata": {},
   "source": [
    "### 3.1 Install python packages\n",
    "\n",
    "* If you already configured your environment using conda (`environment.yml`) or pip (`requirements.txt`), you can skip this step and go to section [3.2 Import the libraries](3.2-Import-the-libraries).\n"
   ]
  },
  {
   "cell_type": "code",
   "execution_count": null,
   "metadata": {},
   "outputs": [],
   "source": [
    "!pip install perdido==0.1.27\n",
    "!pip install stanza==1.4.2"
   ]
  },
  {
   "cell_type": "markdown",
   "metadata": {},
   "source": [
    "### 3.2 Import the libraries\n",
    "\n",
    "First, we will load some specific libraries from `Perdido` that we will use in this notebook. Next, we import some tools that will help us parse and visualize the text."
   ]
  },
  {
   "cell_type": "code",
   "execution_count": 1,
   "metadata": {},
   "outputs": [],
   "source": [
    "import warnings\n",
    "warnings.filterwarnings('ignore')\n",
    "\n",
    "from perdido.geoparser import Geoparser\n",
    "from perdido.geocoder import Geocoder\n",
    "from perdido.datasets import load_edda_artfl, load_edda_perdido\n",
    "from spacy import displacy\n",
    "\n",
    "import os\n",
    "import lxml.etree as etree\n",
    "import xml.dom.minidom as xml\n",
    "import pandas as pd"
   ]
  },
  {
   "cell_type": "markdown",
   "metadata": {
    "colab_type": "text",
    "id": "b9ZN6YgcnxdK"
   },
   "source": [
    "\n",
    "## 4. Getting started\n",
    "\n",
    "In this notebook, we'll test out some basic queries of the *Encyclopédie* articles from volume 7 (H - Itzehoa, published in 1765). You can learn more about the other volumes [here](https://encyclopedie.uchicago.edu/node/102).\n",
    "\n"
   ]
  },
  {
   "cell_type": "markdown",
   "metadata": {},
   "source": [
    "\n",
    "### 4.1 Loading the ARTFL *Encyclopédie* dataset from the Perdido library\n",
    "\n",
    "Now we will see how we can load the dataset directly from the Perdido library. \n",
    "\n",
    "The next cell loads the data from the Perdido library, defines the data as `dataset`, and shows you the top 5 records (using the [head()](https://pandas.pydata.org/docs/reference/api/pandas.DataFrame.head.html) method from the [Pandas](https://pandas.pydata.org/docs/index.html) library). The data has been saved as a dataframe."
   ]
  },
  {
   "cell_type": "code",
   "execution_count": 2,
   "metadata": {},
   "outputs": [
    {
     "data": {
      "text/html": [
       "<div>\n",
       "<style scoped>\n",
       "    .dataframe tbody tr th:only-of-type {\n",
       "        vertical-align: middle;\n",
       "    }\n",
       "\n",
       "    .dataframe tbody tr th {\n",
       "        vertical-align: top;\n",
       "    }\n",
       "\n",
       "    .dataframe thead th {\n",
       "        text-align: right;\n",
       "    }\n",
       "</style>\n",
       "<table border=\"1\" class=\"dataframe\">\n",
       "  <thead>\n",
       "    <tr style=\"text-align: right;\">\n",
       "      <th></th>\n",
       "      <th>filename</th>\n",
       "      <th>volume</th>\n",
       "      <th>number</th>\n",
       "      <th>head</th>\n",
       "      <th>normClass</th>\n",
       "      <th>author</th>\n",
       "      <th>text</th>\n",
       "    </tr>\n",
       "  </thead>\n",
       "  <tbody>\n",
       "    <tr>\n",
       "      <th>0</th>\n",
       "      <td>volume07-1.tei</td>\n",
       "      <td>7</td>\n",
       "      <td>1</td>\n",
       "      <td>Title Page</td>\n",
       "      <td>unclassified</td>\n",
       "      <td>unsigned</td>\n",
       "      <td>ENCYCLOPÉDIE, ou DICTIONNAIRE RAISONNÉ DES SCI...</td>\n",
       "    </tr>\n",
       "    <tr>\n",
       "      <th>1</th>\n",
       "      <td>volume07-10.tei</td>\n",
       "      <td>7</td>\n",
       "      <td>10</td>\n",
       "      <td>FOESNE ou FOUANE</td>\n",
       "      <td>Marine | Pêche</td>\n",
       "      <td>Bellin</td>\n",
       "      <td>FOESNE ou FOUANE, sub. s. (Marine &amp; Pêche.) c'...</td>\n",
       "    </tr>\n",
       "    <tr>\n",
       "      <th>2</th>\n",
       "      <td>volume07-100.tei</td>\n",
       "      <td>7</td>\n",
       "      <td>100</td>\n",
       "      <td>Fond de la hune</td>\n",
       "      <td>unclassified</td>\n",
       "      <td>Bellin</td>\n",
       "      <td>Fond de la hune ; ce sont les planches qu on p...</td>\n",
       "    </tr>\n",
       "    <tr>\n",
       "      <th>3</th>\n",
       "      <td>volume07-1000.tei</td>\n",
       "      <td>7</td>\n",
       "      <td>1000</td>\n",
       "      <td>Fronteau</td>\n",
       "      <td>Bourrelier | Sellier</td>\n",
       "      <td>Diderot</td>\n",
       "      <td>* Fronteau, terme de Sellier-Bourrelier ; c'es...</td>\n",
       "    </tr>\n",
       "    <tr>\n",
       "      <th>4</th>\n",
       "      <td>volume07-1001.tei</td>\n",
       "      <td>7</td>\n",
       "      <td>1001</td>\n",
       "      <td>FRONTIERE</td>\n",
       "      <td>Géographie</td>\n",
       "      <td>Diderot</td>\n",
       "      <td>* FRONTIERE, s. f. (Géog.) se dit des limites,...</td>\n",
       "    </tr>\n",
       "    <tr>\n",
       "      <th>5</th>\n",
       "      <td>volume07-1002.tei</td>\n",
       "      <td>7</td>\n",
       "      <td>1002</td>\n",
       "      <td>FRONTIGNAN</td>\n",
       "      <td>Géographie</td>\n",
       "      <td>Jaucourt</td>\n",
       "      <td>FRONTIGNAN, (Géog.) petite ville de France. au...</td>\n",
       "    </tr>\n",
       "    <tr>\n",
       "      <th>6</th>\n",
       "      <td>volume07-1003.tei</td>\n",
       "      <td>7</td>\n",
       "      <td>1003</td>\n",
       "      <td>FRONTISPICE</td>\n",
       "      <td>Architecture</td>\n",
       "      <td>unsigned</td>\n",
       "      <td>FRONTISPICE, s. m. (Architecture.) Voyez Façade.</td>\n",
       "    </tr>\n",
       "    <tr>\n",
       "      <th>7</th>\n",
       "      <td>volume07-1004.tei</td>\n",
       "      <td>7</td>\n",
       "      <td>1004</td>\n",
       "      <td>Frontispice</td>\n",
       "      <td>Imprimerie</td>\n",
       "      <td>unsigned</td>\n",
       "      <td>Frontispice, (Imprimerie.) dans l'usage de l'I...</td>\n",
       "    </tr>\n",
       "    <tr>\n",
       "      <th>8</th>\n",
       "      <td>volume07-1005.tei</td>\n",
       "      <td>7</td>\n",
       "      <td>1005</td>\n",
       "      <td>FRONTON</td>\n",
       "      <td>Architecture</td>\n",
       "      <td>Blondel</td>\n",
       "      <td>FRONTON, s. m. (Architect.) on entend sous ce ...</td>\n",
       "    </tr>\n",
       "    <tr>\n",
       "      <th>9</th>\n",
       "      <td>volume07-1006.tei</td>\n",
       "      <td>7</td>\n",
       "      <td>1006</td>\n",
       "      <td>Fronton ou Miroir</td>\n",
       "      <td>Marine</td>\n",
       "      <td>Bellin</td>\n",
       "      <td>Fronton ou Miroir, (Marine.) c'est un cadre ou...</td>\n",
       "    </tr>\n",
       "  </tbody>\n",
       "</table>\n",
       "</div>"
      ],
      "text/plain": [
       "            filename  volume  number               head             normClass  \\\n",
       "0     volume07-1.tei       7       1         Title Page          unclassified   \n",
       "1    volume07-10.tei       7      10   FOESNE ou FOUANE        Marine | Pêche   \n",
       "2   volume07-100.tei       7     100    Fond de la hune          unclassified   \n",
       "3  volume07-1000.tei       7    1000           Fronteau  Bourrelier | Sellier   \n",
       "4  volume07-1001.tei       7    1001          FRONTIERE            Géographie   \n",
       "5  volume07-1002.tei       7    1002         FRONTIGNAN            Géographie   \n",
       "6  volume07-1003.tei       7    1003        FRONTISPICE          Architecture   \n",
       "7  volume07-1004.tei       7    1004        Frontispice            Imprimerie   \n",
       "8  volume07-1005.tei       7    1005            FRONTON          Architecture   \n",
       "9  volume07-1006.tei       7    1006  Fronton ou Miroir                Marine   \n",
       "\n",
       "     author                                               text  \n",
       "0  unsigned  ENCYCLOPÉDIE, ou DICTIONNAIRE RAISONNÉ DES SCI...  \n",
       "1    Bellin  FOESNE ou FOUANE, sub. s. (Marine & Pêche.) c'...  \n",
       "2    Bellin  Fond de la hune ; ce sont les planches qu on p...  \n",
       "3   Diderot  * Fronteau, terme de Sellier-Bourrelier ; c'es...  \n",
       "4   Diderot  * FRONTIERE, s. f. (Géog.) se dit des limites,...  \n",
       "5  Jaucourt  FRONTIGNAN, (Géog.) petite ville de France. au...  \n",
       "6  unsigned   FRONTISPICE, s. m. (Architecture.) Voyez Façade.  \n",
       "7  unsigned  Frontispice, (Imprimerie.) dans l'usage de l'I...  \n",
       "8   Blondel  FRONTON, s. m. (Architect.) on entend sous ce ...  \n",
       "9    Bellin  Fronton ou Miroir, (Marine.) c'est un cadre ou...  "
      ]
     },
     "execution_count": 2,
     "metadata": {},
     "output_type": "execute_result"
    }
   ],
   "source": [
    "# Use the load_edda_artfl function to get the dataset\n",
    "d = load_edda_artfl()\n",
    "\n",
    "# The load_edda_artfl function returns a Python dictionnary, containing the dataset as a dataframe in the data entry\n",
    "dataset = d['data']\n",
    "\n",
    "# Display the 10 first row of the dataframe\n",
    "dataset.head(10)"
   ]
  },
  {
   "cell_type": "markdown",
   "metadata": {},
   "source": [
    "### 4.2 Exploring the data"
   ]
  },
  {
   "cell_type": "markdown",
   "metadata": {},
   "source": [
    "Now we have access to all the attributes and methods of the [dataframe](https://pandas.pydata.org/pandas-docs/stable/reference/api/pandas.DataFrame.html) object. "
   ]
  },
  {
   "cell_type": "code",
   "execution_count": null,
   "metadata": {},
   "outputs": [],
   "source": [
    "dataset.info()"
   ]
  },
  {
   "cell_type": "markdown",
   "metadata": {},
   "source": [
    "We can notice that all the columns do not have the same number of records (3384 vs. 3385). \n",
    "One record do not have values for head, normClass and author.\n",
    "\n",
    "* Show this record:"
   ]
  },
  {
   "cell_type": "code",
   "execution_count": null,
   "metadata": {},
   "outputs": [],
   "source": [
    "dataset.loc[dataset['head'].isna()]"
   ]
  },
  {
   "cell_type": "markdown",
   "metadata": {},
   "source": [
    "It seems that this record does not refer to an article but only to a title. \n",
    "Having rows with missing values can cause issues depending on the process you do with the data. It is then better to remove this row from the dataset."
   ]
  },
  {
   "cell_type": "code",
   "execution_count": null,
   "metadata": {},
   "outputs": [],
   "source": [
    "dataset.dropna(inplace=True)     # dataset = dataset.dropna()"
   ]
  },
  {
   "cell_type": "markdown",
   "metadata": {},
   "source": [
    "Now, print the number of rows in our dataframe which correspond to the number of articles in our corpus:"
   ]
  },
  {
   "cell_type": "code",
   "execution_count": null,
   "metadata": {},
   "outputs": [],
   "source": [
    "n = dataset.shape[0]\n",
    "print('There are ' + str(n) + ' articles in the dataset.')"
   ]
  },
  {
   "cell_type": "markdown",
   "metadata": {},
   "source": [
    "It is possible to display and search the full text content of the articles stored in the dataframe. \n",
    "\n",
    "* Show full text for a specific article:"
   ]
  },
  {
   "cell_type": "code",
   "execution_count": null,
   "metadata": {},
   "outputs": [],
   "source": [
    "dataset.loc[dataset['head'] == 'FRONTIGNAN'].text.item()"
   ]
  },
  {
   "cell_type": "markdown",
   "metadata": {},
   "source": [
    "More examples of how you can search and filter the dataframe structure are given in Section XXX"
   ]
  },
  {
   "cell_type": "markdown",
   "metadata": {
    "colab_type": "text",
    "id": "nTcr95AokxKh"
   },
   "source": [
    "## 5. Perdido Geoparser\n",
    "\n",
    "\n",
    "In Natural Language Processing (NLP), the main first steps before processing text content consist in tokenizing sentences and words and assigning to each word its grammatical category (Part-of-Speech). \n",
    "\n",
    "This allows the construction of more complex rules or queries compared to a simple keyword search. E.g. we would know that \"city\" is a noun, and we can perform a search for all nouns in the corpus.\n",
    "\n",
    "\n",
    "These preprocessing steps are language dependent, and therefore we have to choose the right tool according to the language, style and period of our documents. This is a major difficulty when dealing with historical or ancient texts. For instance, for French it is difficult to find a POS tagger for pre-20th century French as major well known taggers are trained on contemporary corpora.\n",
    "\n",
    "> McDonough, K., Moncla, L., & van de Camp, M. (2019). Named entity recognition goes to old regime France: geographic text analysis for early modern French corpora. International Journal of Geographical Information Science, 33, 2498–2522.\n",
    "\n",
    "For now, the `Perdido` geoparser uses [Treetagger](https://www.cis.uni-muenchen.de/~schmid/tools/TreeTagger/) for preprocessing (tokenzation, lemmatization and part-of-speech tagging). \n",
    "\n",
    "\n",
    "The geotagging step of `Perdido` is perform using a cascade of finite-state transducers defining specific patterns for NER and identification of geographic information (spatial relations, etc.). \n",
    "> Mauro Gaio and Ludovic Moncla (2019). “Geoparsing and geocoding places in a dynamic space context.“ In The Semantics of Dynamic Space in French: Descriptive, experimental and formal studies on motion expression, 66, 353.\n",
    "\n",
    "Geoparsing in the digital humanities began with projects analyzing modern English-language corpora. But now, many researchers are developing projects for automatically identifying and geolocating places named in texts of many languages. \n",
    "\n",
    "Here we highlight the difficulties of extracting and mapping geographical information from historical French texts. In addition to language-related problems which impact the quality of tokenization, POS tagging, and NER, geocoding presents its own challenges. Once place names have been identifed in a text, correctly associating geographical coordinates with that place is a challenge. **Gazetteers** are knowledge bases that help researchers link place names with information about place, including its location. \n",
    "\n",
    "For our custom version of the `Perdido` Geoparser, the geocoding task uses a simple gazetteer lookup method. Several gazetteers can be used:\n",
    " - Nominatim (ie, OpenStreetMap) by default, \n",
    " - Geonames, \n",
    " - World Historical Gazetteer, \n",
    " - Pleiades\n",
    "\n",
    "Like using the most appropriate POS tagger, finding the best gazetteer for your corpus can be challenging. Luckily, for the ancient world, there are some excellent options. Here, you will also be able to test the [Pleiades gazetteer](https://pleiades.stoa.org/) and compare the results with the other contemporary gazetteers.\n",
    "\n"
   ]
  },
  {
   "cell_type": "markdown",
   "metadata": {},
   "source": [
    "### 5.1 Getting started with `Perdido`\n",
    "\n",
    "* Get the content from the article 'FRONTIGNAN' ([https://artflsrv03.uchicago.edu/philologic4/encyclopedie1117/navigate/7/1002/](https://artflsrv03.uchicago.edu/philologic4/encyclopedie1117/navigate/7/1002/)) from the dataset:"
   ]
  },
  {
   "cell_type": "code",
   "execution_count": null,
   "metadata": {},
   "outputs": [],
   "source": [
    "content = dataset.loc[dataset['head'] == 'FRONTIGNAN'].text.item()\n",
    "content"
   ]
  },
  {
   "cell_type": "markdown",
   "metadata": {},
   "source": [
    "* Create a Geoparser object from the `Perdido` library. Specify that we are working with the *Encyclopédie* version."
   ]
  },
  {
   "cell_type": "code",
   "execution_count": null,
   "metadata": {},
   "outputs": [],
   "source": [
    "geoparser = Geoparser(version=\"Encyclopedie\")"
   ]
  },
  {
   "cell_type": "markdown",
   "metadata": {},
   "source": [
    "* Now you can use this geoparser for geoparsing text content. Let's try with the `content` variable that we declare before:"
   ]
  },
  {
   "cell_type": "code",
   "execution_count": null,
   "metadata": {},
   "outputs": [],
   "source": [
    "doc = geoparser(content)"
   ]
  },
  {
   "cell_type": "markdown",
   "metadata": {},
   "source": [
    "The geoparser return a `Perdido` object. This object has several attributes and methods. We'll now see some of them.\n",
    "\n",
    "* Accessing the XML-TEI result:"
   ]
  },
  {
   "cell_type": "code",
   "execution_count": null,
   "metadata": {},
   "outputs": [],
   "source": [
    "doc.tei"
   ]
  },
  {
   "cell_type": "markdown",
   "metadata": {},
   "source": [
    "* We can use the `xml` library to get something easier to read:"
   ]
  },
  {
   "cell_type": "code",
   "execution_count": null,
   "metadata": {},
   "outputs": [],
   "source": [
    "print(xml.parseString(doc.tei).toprettyxml(indent=' ')) "
   ]
  },
  {
   "cell_type": "markdown",
   "metadata": {},
   "source": [
    "* Accessing the geojson results generate during the geocoding phase:"
   ]
  },
  {
   "cell_type": "code",
   "execution_count": null,
   "metadata": {},
   "outputs": [],
   "source": [
    "doc.geojson"
   ]
  },
  {
   "cell_type": "markdown",
   "metadata": {},
   "source": [
    "* Transform the Perdido object into a dataframe (only some of the attributes are kept):"
   ]
  },
  {
   "cell_type": "code",
   "execution_count": null,
   "metadata": {},
   "outputs": [],
   "source": [
    "df = doc.to_dataframe()\n",
    "df.head()"
   ]
  },
  {
   "cell_type": "markdown",
   "metadata": {},
   "source": [
    "### 5.2 Display named entities\n",
    "\n",
    "Often, it is useful to vizualize the output in sentence form. The `spacy` library provides a useful tool for this: `displacy`.\n"
   ]
  },
  {
   "cell_type": "code",
   "execution_count": null,
   "metadata": {},
   "outputs": [],
   "source": [
    "displacy.render(doc.to_spacy_doc(), style=\"ent\", jupyter=True)"
   ]
  },
  {
   "cell_type": "code",
   "execution_count": null,
   "metadata": {},
   "outputs": [],
   "source": [
    "displacy.render(doc.to_spacy_doc(), style=\"span\", jupyter=True)"
   ]
  },
  {
   "cell_type": "markdown",
   "metadata": {
    "colab_type": "text",
    "id": "B7bw9rWGkxKx"
   },
   "source": [
    "### 5.3 Map place names\n",
    "\n",
    "\n",
    "For many projects, it is important to view the results of geoparsing on a map. Here, we can see the results plotted on a map. But remember, these are only the results for which coordinates could be found. Results that could not be matched to records in the gazetteer will not be mapped.\n",
    "\n",
    "* Here we see the geocoding results for 'Frontignan' mapped:\n"
   ]
  },
  {
   "cell_type": "code",
   "execution_count": null,
   "metadata": {
    "colab": {
     "base_uri": "https://localhost:8080/",
     "height": 1000
    },
    "colab_type": "code",
    "id": "Ay5XDTM1kxKy",
    "outputId": "93df6728-dd7e-40c7-c2c5-fae62699a7c0"
   },
   "outputs": [],
   "source": [
    "doc.get_folium_map()"
   ]
  },
  {
   "cell_type": "markdown",
   "metadata": {},
   "source": [
    "### 5.4 Save/export the results in files"
   ]
  },
  {
   "cell_type": "code",
   "execution_count": null,
   "metadata": {},
   "outputs": [],
   "source": [
    "doc.to_xml('FRONTIGNAN-perdido.xml')"
   ]
  },
  {
   "cell_type": "code",
   "execution_count": null,
   "metadata": {},
   "outputs": [],
   "source": [
    "doc.to_geojson('FRONTIGNAN-perdido.geojson')"
   ]
  },
  {
   "cell_type": "code",
   "execution_count": null,
   "metadata": {},
   "outputs": [],
   "source": [
    "doc.to_csv('FRONTIGNAN-perdido.csv')"
   ]
  },
  {
   "cell_type": "markdown",
   "metadata": {},
   "source": [
    "### 5.5 Try another example\n",
    "\n",
    "GESSORIACUM - https://artflsrv03.uchicago.edu/philologic4/encyclopedie1117/navigate/7/2046/\n",
    "\n"
   ]
  },
  {
   "cell_type": "code",
   "execution_count": null,
   "metadata": {},
   "outputs": [],
   "source": [
    "content = dataset.loc[dataset['head'] == 'GESSORIACUM'].text.item()\n",
    "content"
   ]
  },
  {
   "cell_type": "code",
   "execution_count": null,
   "metadata": {
    "scrolled": true
   },
   "outputs": [],
   "source": [
    "doc = geoparser(content)\n",
    "displacy.render(doc.to_spacy_doc(), style=\"ent\", jupyter=True)"
   ]
  },
  {
   "cell_type": "code",
   "execution_count": null,
   "metadata": {},
   "outputs": [],
   "source": [
    "doc.get_folium_map()"
   ]
  },
  {
   "cell_type": "markdown",
   "metadata": {},
   "source": [
    "## 6. Comparison to other NER tools\n",
    "\n",
    "`Perdido` is a custom geoparsing library for French language documents. How does it compare to other state-of-the-art libraries?\n",
    "\n",
    "Comparing `Perdido`, `SpaCy`, and `Stanza` outputs, even for just 1-2 articles from our corpus, allows us to see common errors. One library might excel at identifying people, but struggle with complex place names. Another is better at capturing places named within phrases, but mixes up people and places. It is important to test multiple geoparsers for your corpus, and to understand how they can be adapted, in order to get the best results.\n",
    "\n",
    "### 6.1 SpaCy\n",
    "\n",
    "[SpaCy](https://spacy.io/) is a commonly-used NLP library that supports documents in many languages. `SpaCy` uses Machine Learning to perform NER (versus being a rule-based system)."
   ]
  },
  {
   "cell_type": "markdown",
   "metadata": {},
   "source": [
    "* Install the `spaCy` french pre-trained language model:"
   ]
  },
  {
   "cell_type": "code",
   "execution_count": null,
   "metadata": {},
   "outputs": [],
   "source": [
    "!python -m spacy download fr_core_news_sm"
   ]
  },
  {
   "cell_type": "markdown",
   "metadata": {},
   "source": [
    "* Import the `spaCy` library"
   ]
  },
  {
   "cell_type": "code",
   "execution_count": null,
   "metadata": {},
   "outputs": [],
   "source": [
    "import spacy"
   ]
  },
  {
   "cell_type": "markdown",
   "metadata": {},
   "source": [
    "* Load the `spaCy` french pre-trained language model"
   ]
  },
  {
   "cell_type": "code",
   "execution_count": null,
   "metadata": {},
   "outputs": [],
   "source": [
    "spacy_parser = spacy.load('fr_core_news_sm')"
   ]
  },
  {
   "cell_type": "markdown",
   "metadata": {},
   "source": [
    "* Run the NER pipeline"
   ]
  },
  {
   "cell_type": "code",
   "execution_count": null,
   "metadata": {},
   "outputs": [],
   "source": [
    "doc = spacy_parser(content)"
   ]
  },
  {
   "cell_type": "markdown",
   "metadata": {},
   "source": [
    "* Show the named entities"
   ]
  },
  {
   "cell_type": "code",
   "execution_count": null,
   "metadata": {},
   "outputs": [],
   "source": [
    "for ent in doc.ents:\n",
    "    print(ent.text, ent.label_)"
   ]
  },
  {
   "cell_type": "markdown",
   "metadata": {},
   "source": [
    "* Display the named entities with `displaCy`"
   ]
  },
  {
   "cell_type": "code",
   "execution_count": null,
   "metadata": {},
   "outputs": [],
   "source": [
    "displacy.render(doc, style=\"ent\", jupyter=True) "
   ]
  },
  {
   "cell_type": "markdown",
   "metadata": {},
   "source": [
    "### 6.2 Stanza\n",
    "\n",
    "[Stanza](https://stanfordnlp.github.io/stanza/) is another NLP ML library developed by Stanford that is designed to work across many languages."
   ]
  },
  {
   "cell_type": "markdown",
   "metadata": {},
   "source": [
    "* Import the `Stanza` library and download the pre-trained french language model:"
   ]
  },
  {
   "cell_type": "code",
   "execution_count": null,
   "metadata": {},
   "outputs": [],
   "source": [
    "import stanza\n",
    "# This can take a while depending on your internet connection (fr model is 572M)\n",
    "stanza.download('fr')"
   ]
  },
  {
   "cell_type": "markdown",
   "metadata": {},
   "source": [
    "* Declare the NER pipeline:"
   ]
  },
  {
   "cell_type": "code",
   "execution_count": null,
   "metadata": {},
   "outputs": [],
   "source": [
    "stanza_parser = stanza.Pipeline(lang='fr', processors='tokenize,ner')"
   ]
  },
  {
   "cell_type": "markdown",
   "metadata": {},
   "source": [
    "* Run the NER pipeline:"
   ]
  },
  {
   "cell_type": "code",
   "execution_count": null,
   "metadata": {},
   "outputs": [],
   "source": [
    "doc = stanza_parser(content)\n"
   ]
  },
  {
   "cell_type": "markdown",
   "metadata": {},
   "source": [
    "* Show the named entities:"
   ]
  },
  {
   "cell_type": "code",
   "execution_count": null,
   "metadata": {},
   "outputs": [],
   "source": [
    "for ent in doc.ents:\n",
    "    print(ent.text, ent.type)"
   ]
  },
  {
   "cell_type": "markdown",
   "metadata": {},
   "source": [
    "## 7. Geocoding / Toponym resolution\n",
    "\n",
    "\n",
    "\n",
    "http://bboxfinder.com\n",
    "\n"
   ]
  },
  {
   "cell_type": "code",
   "execution_count": null,
   "metadata": {},
   "outputs": [],
   "source": []
  },
  {
   "cell_type": "markdown",
   "metadata": {},
   "source": [
    "### 7.1 Quick start with the Geocoder class from the `Perdido` library\n",
    "\n",
    "The `Geocoder()` can take several parameters (all optional) such as:\n",
    "1. sources: list of gazetteers (possible values are: 'nominatim' (default), 'geonames', 'whg', 'pleiades', 'ign' (only for France))\n",
    "2. max_rows: maximum number of toponym candidates return by the gazetteer (default = 1)\n",
    "3. country_code: filter the results per country\n",
    "4. bbox: filter the results with a bounding box"
   ]
  },
  {
   "cell_type": "markdown",
   "metadata": {},
   "source": [
    "* The next cell shows how to create a geocoder and geocode 'Frontignan':"
   ]
  },
  {
   "cell_type": "code",
   "execution_count": 3,
   "metadata": {},
   "outputs": [],
   "source": [
    "geocoder = Geocoder()\n",
    "doc = geocoder('Frontignan')"
   ]
  },
  {
   "cell_type": "markdown",
   "metadata": {},
   "source": [
    "* Show the geojson results:"
   ]
  },
  {
   "cell_type": "code",
   "execution_count": 4,
   "metadata": {},
   "outputs": [
    {
     "data": {
      "text/plain": [
       "{'type': 'FeatureCollection',\n",
       " 'features': [{'type': 'Feature',\n",
       "   'geometry': {'type': 'Point', 'coordinates': [3.753064, 43.448762]},\n",
       "   'properties': {'id': 0,\n",
       "    'name': 'Frontignan',\n",
       "    'sourceName': 'Frontignan, Montpellier, Hérault, Occitanie, France métropolitaine, 34110, France',\n",
       "    'type': 'administrative',\n",
       "    'country': 'France',\n",
       "    'source': 'nominatim'}}]}"
      ]
     },
     "execution_count": 4,
     "metadata": {},
     "output_type": "execute_result"
    }
   ],
   "source": [
    "doc.geojson"
   ]
  },
  {
   "cell_type": "markdown",
   "metadata": {},
   "source": [
    "* Map the results:"
   ]
  },
  {
   "cell_type": "code",
   "execution_count": 5,
   "metadata": {},
   "outputs": [
    {
     "data": {
      "text/html": [
       "<div style=\"width:100%;\"><div style=\"position:relative;width:100%;height:0;padding-bottom:60%;\"><span style=\"color:#565656\">Make this Notebook Trusted to load map: File -> Trust Notebook</span><iframe srcdoc=\"&lt;!DOCTYPE html&gt;\n",
       "&lt;head&gt;    \n",
       "    &lt;meta http-equiv=&quot;content-type&quot; content=&quot;text/html; charset=UTF-8&quot; /&gt;\n",
       "    \n",
       "        &lt;script&gt;\n",
       "            L_NO_TOUCH = false;\n",
       "            L_DISABLE_3D = false;\n",
       "        &lt;/script&gt;\n",
       "    \n",
       "    &lt;style&gt;html, body {width: 100%;height: 100%;margin: 0;padding: 0;}&lt;/style&gt;\n",
       "    &lt;style&gt;#map {position:absolute;top:0;bottom:0;right:0;left:0;}&lt;/style&gt;\n",
       "    &lt;script src=&quot;https://cdn.jsdelivr.net/npm/leaflet@1.6.0/dist/leaflet.js&quot;&gt;&lt;/script&gt;\n",
       "    &lt;script src=&quot;https://code.jquery.com/jquery-1.12.4.min.js&quot;&gt;&lt;/script&gt;\n",
       "    &lt;script src=&quot;https://maxcdn.bootstrapcdn.com/bootstrap/3.2.0/js/bootstrap.min.js&quot;&gt;&lt;/script&gt;\n",
       "    &lt;script src=&quot;https://cdnjs.cloudflare.com/ajax/libs/Leaflet.awesome-markers/2.0.2/leaflet.awesome-markers.js&quot;&gt;&lt;/script&gt;\n",
       "    &lt;link rel=&quot;stylesheet&quot; href=&quot;https://cdn.jsdelivr.net/npm/leaflet@1.6.0/dist/leaflet.css&quot;/&gt;\n",
       "    &lt;link rel=&quot;stylesheet&quot; href=&quot;https://maxcdn.bootstrapcdn.com/bootstrap/3.2.0/css/bootstrap.min.css&quot;/&gt;\n",
       "    &lt;link rel=&quot;stylesheet&quot; href=&quot;https://maxcdn.bootstrapcdn.com/bootstrap/3.2.0/css/bootstrap-theme.min.css&quot;/&gt;\n",
       "    &lt;link rel=&quot;stylesheet&quot; href=&quot;https://maxcdn.bootstrapcdn.com/font-awesome/4.6.3/css/font-awesome.min.css&quot;/&gt;\n",
       "    &lt;link rel=&quot;stylesheet&quot; href=&quot;https://cdnjs.cloudflare.com/ajax/libs/Leaflet.awesome-markers/2.0.2/leaflet.awesome-markers.css&quot;/&gt;\n",
       "    &lt;link rel=&quot;stylesheet&quot; href=&quot;https://cdn.jsdelivr.net/gh/python-visualization/folium/folium/templates/leaflet.awesome.rotate.min.css&quot;/&gt;\n",
       "    \n",
       "            &lt;meta name=&quot;viewport&quot; content=&quot;width=device-width,\n",
       "                initial-scale=1.0, maximum-scale=1.0, user-scalable=no&quot; /&gt;\n",
       "            &lt;style&gt;\n",
       "                #map_b682ddb501cf3df7c2b52e76bea7341f {\n",
       "                    position: relative;\n",
       "                    width: 100.0%;\n",
       "                    height: 100.0%;\n",
       "                    left: 0.0%;\n",
       "                    top: 0.0%;\n",
       "                }\n",
       "            &lt;/style&gt;\n",
       "        \n",
       "    \n",
       "                    &lt;style&gt;\n",
       "                        .foliumtooltip {\n",
       "                            \n",
       "                        }\n",
       "                       .foliumtooltip table{\n",
       "                            margin: auto;\n",
       "                        }\n",
       "                        .foliumtooltip tr{\n",
       "                            text-align: left;\n",
       "                        }\n",
       "                        .foliumtooltip th{\n",
       "                            padding: 2px; padding-right: 8px;\n",
       "                        }\n",
       "                    &lt;/style&gt;\n",
       "            \n",
       "&lt;/head&gt;\n",
       "&lt;body&gt;    \n",
       "    \n",
       "            &lt;div class=&quot;folium-map&quot; id=&quot;map_b682ddb501cf3df7c2b52e76bea7341f&quot; &gt;&lt;/div&gt;\n",
       "        \n",
       "&lt;/body&gt;\n",
       "&lt;script&gt;    \n",
       "    \n",
       "            var map_b682ddb501cf3df7c2b52e76bea7341f = L.map(\n",
       "                &quot;map_b682ddb501cf3df7c2b52e76bea7341f&quot;,\n",
       "                {\n",
       "                    center: [0, 0],\n",
       "                    crs: L.CRS.EPSG3857,\n",
       "                    zoom: 1,\n",
       "                    zoomControl: true,\n",
       "                    preferCanvas: false,\n",
       "                }\n",
       "            );\n",
       "\n",
       "            \n",
       "\n",
       "        \n",
       "    \n",
       "            var tile_layer_bfde06c403b1357a3760d42e6f77a3ad = L.tileLayer(\n",
       "                &quot;https://{s}.tile.openstreetmap.org/{z}/{x}/{y}.png&quot;,\n",
       "                {&quot;attribution&quot;: &quot;Data by \\u0026copy; \\u003ca href=\\&quot;http://openstreetmap.org\\&quot;\\u003eOpenStreetMap\\u003c/a\\u003e, under \\u003ca href=\\&quot;http://www.openstreetmap.org/copyright\\&quot;\\u003eODbL\\u003c/a\\u003e.&quot;, &quot;detectRetina&quot;: false, &quot;maxNativeZoom&quot;: 18, &quot;maxZoom&quot;: 18, &quot;minZoom&quot;: 0, &quot;noWrap&quot;: false, &quot;opacity&quot;: 1, &quot;subdomains&quot;: &quot;abc&quot;, &quot;tms&quot;: false}\n",
       "            ).addTo(map_b682ddb501cf3df7c2b52e76bea7341f);\n",
       "        \n",
       "    \n",
       "            map_b682ddb501cf3df7c2b52e76bea7341f.fitBounds(\n",
       "                [[43.448762, 3.753064], [43.448762, 3.753064]],\n",
       "                {}\n",
       "            );\n",
       "        \n",
       "    \n",
       "\n",
       "        function geo_json_ada1fac3587690c2a9043599a82c81ee_onEachFeature(feature, layer) {\n",
       "            layer.on({\n",
       "            });\n",
       "        };\n",
       "        var geo_json_ada1fac3587690c2a9043599a82c81ee = L.geoJson(null, {\n",
       "                onEachFeature: geo_json_ada1fac3587690c2a9043599a82c81ee_onEachFeature,\n",
       "            \n",
       "        });\n",
       "\n",
       "        function geo_json_ada1fac3587690c2a9043599a82c81ee_add (data) {\n",
       "            geo_json_ada1fac3587690c2a9043599a82c81ee\n",
       "                .addData(data)\n",
       "                .addTo(map_b682ddb501cf3df7c2b52e76bea7341f);\n",
       "        }\n",
       "            geo_json_ada1fac3587690c2a9043599a82c81ee_add({&quot;features&quot;: [{&quot;geometry&quot;: {&quot;coordinates&quot;: [3.753064, 43.448762], &quot;type&quot;: &quot;Point&quot;}, &quot;properties&quot;: {&quot;country&quot;: &quot;France&quot;, &quot;id&quot;: 0, &quot;name&quot;: &quot;Frontignan&quot;, &quot;source&quot;: &quot;nominatim&quot;, &quot;sourceName&quot;: &quot;Frontignan, Montpellier, H\\u00e9rault, Occitanie, France m\\u00e9tropolitaine, 34110, France&quot;, &quot;type&quot;: &quot;administrative&quot;}, &quot;type&quot;: &quot;Feature&quot;}], &quot;type&quot;: &quot;FeatureCollection&quot;});\n",
       "\n",
       "        \n",
       "    \n",
       "    geo_json_ada1fac3587690c2a9043599a82c81ee.bindTooltip(\n",
       "    function(layer){\n",
       "    let div = L.DomUtil.create(&#x27;div&#x27;);\n",
       "    \n",
       "    let handleObject = feature=&gt;typeof(feature)==&#x27;object&#x27; ? JSON.stringify(feature) : feature;\n",
       "    let fields = [&quot;name&quot;, &quot;source&quot;];\n",
       "    let aliases = [&quot;name&quot;, &quot;source&quot;];\n",
       "    let table = &#x27;&lt;table&gt;&#x27; +\n",
       "        String(\n",
       "        fields.map(\n",
       "        (v,i)=&gt;\n",
       "        `&lt;tr&gt;\n",
       "            &lt;th&gt;${aliases[i].toLocaleString()}&lt;/th&gt;\n",
       "            \n",
       "            &lt;td&gt;${handleObject(layer.feature.properties[v]).toLocaleString()}&lt;/td&gt;\n",
       "        &lt;/tr&gt;`).join(&#x27;&#x27;))\n",
       "    +&#x27;&lt;/table&gt;&#x27;;\n",
       "    div.innerHTML=table;\n",
       "    \n",
       "    return div\n",
       "    }\n",
       "    ,{&quot;className&quot;: &quot;foliumtooltip&quot;, &quot;sticky&quot;: true});\n",
       "                     \n",
       "&lt;/script&gt;\" style=\"position:absolute;width:100%;height:100%;left:0;top:0;border:none !important;\" allowfullscreen webkitallowfullscreen mozallowfullscreen></iframe></div></div>"
      ],
      "text/plain": [
       "<folium.folium.Map at 0x16174ddf0>"
      ]
     },
     "execution_count": 5,
     "metadata": {},
     "output_type": "execute_result"
    }
   ],
   "source": [
    "doc.get_folium_map()"
   ]
  },
  {
   "cell_type": "markdown",
   "metadata": {},
   "source": [
    "* Another example with 'Formose':"
   ]
  },
  {
   "cell_type": "code",
   "execution_count": 47,
   "metadata": {},
   "outputs": [
    {
     "data": {
      "text/plain": [
       "\"FORMOSE, (Geog.) selon le P. Duhalde, grande île de la mer de la Chine, à l'orient de la province de Fokien, & qui s'étend du nord au sud 22d. 8'. de lat. septentrionale jusqu'au 25d. 20'. Une chaîne de montagnes  la sépare dans cette longueur, en orientale & occidentale. La partie orientale n'est habitée que par les naturels du pays. La partie occidentale est sous la domination des Chinois, qui la cultivent avec soin ; ils en ont chassé les Hollandois en 1661, & y ont nommé un viceroi en 1682. Voyez le P. Duhalde, descript. de la Chine, & le P. Charlevoix, hist. du Japon. Le Tai-Ouang-Fou est la capitale de cette île. Long. 139. 10-141. 28. lat. 22.8-25. 20. (D.J.)\""
      ]
     },
     "execution_count": 47,
     "metadata": {},
     "output_type": "execute_result"
    }
   ],
   "source": [
    "content = dataset.loc[dataset['head'] == 'FORMOSE'].text.item()\n",
    "content"
   ]
  },
  {
   "cell_type": "code",
   "execution_count": 45,
   "metadata": {},
   "outputs": [
    {
     "data": {
      "text/html": [
       "<div style=\"width:100%;\"><div style=\"position:relative;width:100%;height:0;padding-bottom:60%;\"><span style=\"color:#565656\">Make this Notebook Trusted to load map: File -> Trust Notebook</span><iframe srcdoc=\"&lt;!DOCTYPE html&gt;\n",
       "&lt;head&gt;    \n",
       "    &lt;meta http-equiv=&quot;content-type&quot; content=&quot;text/html; charset=UTF-8&quot; /&gt;\n",
       "    \n",
       "        &lt;script&gt;\n",
       "            L_NO_TOUCH = false;\n",
       "            L_DISABLE_3D = false;\n",
       "        &lt;/script&gt;\n",
       "    \n",
       "    &lt;style&gt;html, body {width: 100%;height: 100%;margin: 0;padding: 0;}&lt;/style&gt;\n",
       "    &lt;style&gt;#map {position:absolute;top:0;bottom:0;right:0;left:0;}&lt;/style&gt;\n",
       "    &lt;script src=&quot;https://cdn.jsdelivr.net/npm/leaflet@1.6.0/dist/leaflet.js&quot;&gt;&lt;/script&gt;\n",
       "    &lt;script src=&quot;https://code.jquery.com/jquery-1.12.4.min.js&quot;&gt;&lt;/script&gt;\n",
       "    &lt;script src=&quot;https://maxcdn.bootstrapcdn.com/bootstrap/3.2.0/js/bootstrap.min.js&quot;&gt;&lt;/script&gt;\n",
       "    &lt;script src=&quot;https://cdnjs.cloudflare.com/ajax/libs/Leaflet.awesome-markers/2.0.2/leaflet.awesome-markers.js&quot;&gt;&lt;/script&gt;\n",
       "    &lt;link rel=&quot;stylesheet&quot; href=&quot;https://cdn.jsdelivr.net/npm/leaflet@1.6.0/dist/leaflet.css&quot;/&gt;\n",
       "    &lt;link rel=&quot;stylesheet&quot; href=&quot;https://maxcdn.bootstrapcdn.com/bootstrap/3.2.0/css/bootstrap.min.css&quot;/&gt;\n",
       "    &lt;link rel=&quot;stylesheet&quot; href=&quot;https://maxcdn.bootstrapcdn.com/bootstrap/3.2.0/css/bootstrap-theme.min.css&quot;/&gt;\n",
       "    &lt;link rel=&quot;stylesheet&quot; href=&quot;https://maxcdn.bootstrapcdn.com/font-awesome/4.6.3/css/font-awesome.min.css&quot;/&gt;\n",
       "    &lt;link rel=&quot;stylesheet&quot; href=&quot;https://cdnjs.cloudflare.com/ajax/libs/Leaflet.awesome-markers/2.0.2/leaflet.awesome-markers.css&quot;/&gt;\n",
       "    &lt;link rel=&quot;stylesheet&quot; href=&quot;https://cdn.jsdelivr.net/gh/python-visualization/folium/folium/templates/leaflet.awesome.rotate.min.css&quot;/&gt;\n",
       "    \n",
       "            &lt;meta name=&quot;viewport&quot; content=&quot;width=device-width,\n",
       "                initial-scale=1.0, maximum-scale=1.0, user-scalable=no&quot; /&gt;\n",
       "            &lt;style&gt;\n",
       "                #map_74a6cfb40558c454501a75fc27aab2e3 {\n",
       "                    position: relative;\n",
       "                    width: 100.0%;\n",
       "                    height: 100.0%;\n",
       "                    left: 0.0%;\n",
       "                    top: 0.0%;\n",
       "                }\n",
       "            &lt;/style&gt;\n",
       "        \n",
       "    \n",
       "                    &lt;style&gt;\n",
       "                        .foliumtooltip {\n",
       "                            \n",
       "                        }\n",
       "                       .foliumtooltip table{\n",
       "                            margin: auto;\n",
       "                        }\n",
       "                        .foliumtooltip tr{\n",
       "                            text-align: left;\n",
       "                        }\n",
       "                        .foliumtooltip th{\n",
       "                            padding: 2px; padding-right: 8px;\n",
       "                        }\n",
       "                    &lt;/style&gt;\n",
       "            \n",
       "&lt;/head&gt;\n",
       "&lt;body&gt;    \n",
       "    \n",
       "            &lt;div class=&quot;folium-map&quot; id=&quot;map_74a6cfb40558c454501a75fc27aab2e3&quot; &gt;&lt;/div&gt;\n",
       "        \n",
       "&lt;/body&gt;\n",
       "&lt;script&gt;    \n",
       "    \n",
       "            var map_74a6cfb40558c454501a75fc27aab2e3 = L.map(\n",
       "                &quot;map_74a6cfb40558c454501a75fc27aab2e3&quot;,\n",
       "                {\n",
       "                    center: [0, 0],\n",
       "                    crs: L.CRS.EPSG3857,\n",
       "                    zoom: 1,\n",
       "                    zoomControl: true,\n",
       "                    preferCanvas: false,\n",
       "                }\n",
       "            );\n",
       "\n",
       "            \n",
       "\n",
       "        \n",
       "    \n",
       "            var tile_layer_ed8fb00146ed00862f495f7533bef77b = L.tileLayer(\n",
       "                &quot;https://{s}.tile.openstreetmap.org/{z}/{x}/{y}.png&quot;,\n",
       "                {&quot;attribution&quot;: &quot;Data by \\u0026copy; \\u003ca href=\\&quot;http://openstreetmap.org\\&quot;\\u003eOpenStreetMap\\u003c/a\\u003e, under \\u003ca href=\\&quot;http://www.openstreetmap.org/copyright\\&quot;\\u003eODbL\\u003c/a\\u003e.&quot;, &quot;detectRetina&quot;: false, &quot;maxNativeZoom&quot;: 18, &quot;maxZoom&quot;: 18, &quot;minZoom&quot;: 0, &quot;noWrap&quot;: false, &quot;opacity&quot;: 1, &quot;subdomains&quot;: &quot;abc&quot;, &quot;tms&quot;: false}\n",
       "            ).addTo(map_74a6cfb40558c454501a75fc27aab2e3);\n",
       "        \n",
       "    \n",
       "            map_74a6cfb40558c454501a75fc27aab2e3.fitBounds(\n",
       "                [[23.973937, 120.982018], [23.973937, 120.982018]],\n",
       "                {}\n",
       "            );\n",
       "        \n",
       "    \n",
       "\n",
       "        function geo_json_7d5560eb5c4292a6fee1624b30d47e7b_onEachFeature(feature, layer) {\n",
       "            layer.on({\n",
       "            });\n",
       "        };\n",
       "        var geo_json_7d5560eb5c4292a6fee1624b30d47e7b = L.geoJson(null, {\n",
       "                onEachFeature: geo_json_7d5560eb5c4292a6fee1624b30d47e7b_onEachFeature,\n",
       "            \n",
       "        });\n",
       "\n",
       "        function geo_json_7d5560eb5c4292a6fee1624b30d47e7b_add (data) {\n",
       "            geo_json_7d5560eb5c4292a6fee1624b30d47e7b\n",
       "                .addData(data)\n",
       "                .addTo(map_74a6cfb40558c454501a75fc27aab2e3);\n",
       "        }\n",
       "            geo_json_7d5560eb5c4292a6fee1624b30d47e7b_add({&quot;features&quot;: [{&quot;geometry&quot;: {&quot;coordinates&quot;: [120.982018, 23.973937], &quot;type&quot;: &quot;Point&quot;}, &quot;properties&quot;: {&quot;country&quot;: &quot;\\u81fa\\u7063&quot;, &quot;id&quot;: 0, &quot;name&quot;: &quot;Formose&quot;, &quot;source&quot;: &quot;nominatim&quot;, &quot;sourceName&quot;: &quot;\\u81fa\\u7063&quot;, &quot;type&quot;: &quot;administrative&quot;}, &quot;type&quot;: &quot;Feature&quot;}], &quot;type&quot;: &quot;FeatureCollection&quot;});\n",
       "\n",
       "        \n",
       "    \n",
       "    geo_json_7d5560eb5c4292a6fee1624b30d47e7b.bindTooltip(\n",
       "    function(layer){\n",
       "    let div = L.DomUtil.create(&#x27;div&#x27;);\n",
       "    \n",
       "    let handleObject = feature=&gt;typeof(feature)==&#x27;object&#x27; ? JSON.stringify(feature) : feature;\n",
       "    let fields = [&quot;name&quot;, &quot;source&quot;];\n",
       "    let aliases = [&quot;name&quot;, &quot;source&quot;];\n",
       "    let table = &#x27;&lt;table&gt;&#x27; +\n",
       "        String(\n",
       "        fields.map(\n",
       "        (v,i)=&gt;\n",
       "        `&lt;tr&gt;\n",
       "            &lt;th&gt;${aliases[i].toLocaleString()}&lt;/th&gt;\n",
       "            \n",
       "            &lt;td&gt;${handleObject(layer.feature.properties[v]).toLocaleString()}&lt;/td&gt;\n",
       "        &lt;/tr&gt;`).join(&#x27;&#x27;))\n",
       "    +&#x27;&lt;/table&gt;&#x27;;\n",
       "    div.innerHTML=table;\n",
       "    \n",
       "    return div\n",
       "    }\n",
       "    ,{&quot;className&quot;: &quot;foliumtooltip&quot;, &quot;sticky&quot;: true});\n",
       "                     \n",
       "&lt;/script&gt;\" style=\"position:absolute;width:100%;height:100%;left:0;top:0;border:none !important;\" allowfullscreen webkitallowfullscreen mozallowfullscreen></iframe></div></div>"
      ],
      "text/plain": [
       "<folium.folium.Map at 0x161845940>"
      ]
     },
     "execution_count": 45,
     "metadata": {},
     "output_type": "execute_result"
    }
   ],
   "source": [
    "geocoder = Geocoder()\n",
    "doc = geocoder('Formose')\n",
    "doc.get_folium_map()"
   ]
  },
  {
   "cell_type": "markdown",
   "metadata": {},
   "source": [
    "### 7.2 Gazetteer comparison and geocoding parameters\n",
    "\n",
    "\n"
   ]
  },
  {
   "cell_type": "markdown",
   "metadata": {},
   "source": [
    "* Geocoding 'Grumentum':"
   ]
  },
  {
   "cell_type": "code",
   "execution_count": 49,
   "metadata": {},
   "outputs": [
    {
     "data": {
      "text/plain": [
       "\"GRUMENTUM, (Géog. anc.) petite ville de la grande Grece dans la Lucanie, vers le golphe de Tarente. Titus Sempronius y remporta la victoire sur Hannon, au rapport de Tite-Live ; Ptolomée, dans sa géographie, Pline dans son histoire naturelle, & Antonin dans son itinéraire, parlent aussi de cette ville. C'est la Saponara de nos jours, qui est dans le diocèse  de Massico, ainsi qu'on l'a démontré par des inscriptions & d'autres monumens qui ont été trouvés  aux environs. Voyez Saponara. (D. J.)\""
      ]
     },
     "execution_count": 49,
     "metadata": {},
     "output_type": "execute_result"
    }
   ],
   "source": [
    "content = dataset.loc[dataset['head'] == 'GRUMENTUM'].text.item()\n",
    "content"
   ]
  },
  {
   "cell_type": "markdown",
   "metadata": {},
   "source": [
    "#### 7.2.1 Nominatim (OpenStreetMap) - default gazetteer"
   ]
  },
  {
   "cell_type": "code",
   "execution_count": 61,
   "metadata": {},
   "outputs": [
    {
     "data": {
      "text/html": [
       "<div style=\"width:100%;\"><div style=\"position:relative;width:100%;height:0;padding-bottom:60%;\"><span style=\"color:#565656\">Make this Notebook Trusted to load map: File -> Trust Notebook</span><iframe srcdoc=\"&lt;!DOCTYPE html&gt;\n",
       "&lt;head&gt;    \n",
       "    &lt;meta http-equiv=&quot;content-type&quot; content=&quot;text/html; charset=UTF-8&quot; /&gt;\n",
       "    \n",
       "        &lt;script&gt;\n",
       "            L_NO_TOUCH = false;\n",
       "            L_DISABLE_3D = false;\n",
       "        &lt;/script&gt;\n",
       "    \n",
       "    &lt;style&gt;html, body {width: 100%;height: 100%;margin: 0;padding: 0;}&lt;/style&gt;\n",
       "    &lt;style&gt;#map {position:absolute;top:0;bottom:0;right:0;left:0;}&lt;/style&gt;\n",
       "    &lt;script src=&quot;https://cdn.jsdelivr.net/npm/leaflet@1.6.0/dist/leaflet.js&quot;&gt;&lt;/script&gt;\n",
       "    &lt;script src=&quot;https://code.jquery.com/jquery-1.12.4.min.js&quot;&gt;&lt;/script&gt;\n",
       "    &lt;script src=&quot;https://maxcdn.bootstrapcdn.com/bootstrap/3.2.0/js/bootstrap.min.js&quot;&gt;&lt;/script&gt;\n",
       "    &lt;script src=&quot;https://cdnjs.cloudflare.com/ajax/libs/Leaflet.awesome-markers/2.0.2/leaflet.awesome-markers.js&quot;&gt;&lt;/script&gt;\n",
       "    &lt;link rel=&quot;stylesheet&quot; href=&quot;https://cdn.jsdelivr.net/npm/leaflet@1.6.0/dist/leaflet.css&quot;/&gt;\n",
       "    &lt;link rel=&quot;stylesheet&quot; href=&quot;https://maxcdn.bootstrapcdn.com/bootstrap/3.2.0/css/bootstrap.min.css&quot;/&gt;\n",
       "    &lt;link rel=&quot;stylesheet&quot; href=&quot;https://maxcdn.bootstrapcdn.com/bootstrap/3.2.0/css/bootstrap-theme.min.css&quot;/&gt;\n",
       "    &lt;link rel=&quot;stylesheet&quot; href=&quot;https://maxcdn.bootstrapcdn.com/font-awesome/4.6.3/css/font-awesome.min.css&quot;/&gt;\n",
       "    &lt;link rel=&quot;stylesheet&quot; href=&quot;https://cdnjs.cloudflare.com/ajax/libs/Leaflet.awesome-markers/2.0.2/leaflet.awesome-markers.css&quot;/&gt;\n",
       "    &lt;link rel=&quot;stylesheet&quot; href=&quot;https://cdn.jsdelivr.net/gh/python-visualization/folium/folium/templates/leaflet.awesome.rotate.min.css&quot;/&gt;\n",
       "    \n",
       "            &lt;meta name=&quot;viewport&quot; content=&quot;width=device-width,\n",
       "                initial-scale=1.0, maximum-scale=1.0, user-scalable=no&quot; /&gt;\n",
       "            &lt;style&gt;\n",
       "                #map_5a24f975be12900a6c942fe863e77084 {\n",
       "                    position: relative;\n",
       "                    width: 100.0%;\n",
       "                    height: 100.0%;\n",
       "                    left: 0.0%;\n",
       "                    top: 0.0%;\n",
       "                }\n",
       "            &lt;/style&gt;\n",
       "        \n",
       "    \n",
       "                    &lt;style&gt;\n",
       "                        .foliumtooltip {\n",
       "                            \n",
       "                        }\n",
       "                       .foliumtooltip table{\n",
       "                            margin: auto;\n",
       "                        }\n",
       "                        .foliumtooltip tr{\n",
       "                            text-align: left;\n",
       "                        }\n",
       "                        .foliumtooltip th{\n",
       "                            padding: 2px; padding-right: 8px;\n",
       "                        }\n",
       "                    &lt;/style&gt;\n",
       "            \n",
       "&lt;/head&gt;\n",
       "&lt;body&gt;    \n",
       "    \n",
       "            &lt;div class=&quot;folium-map&quot; id=&quot;map_5a24f975be12900a6c942fe863e77084&quot; &gt;&lt;/div&gt;\n",
       "        \n",
       "&lt;/body&gt;\n",
       "&lt;script&gt;    \n",
       "    \n",
       "            var map_5a24f975be12900a6c942fe863e77084 = L.map(\n",
       "                &quot;map_5a24f975be12900a6c942fe863e77084&quot;,\n",
       "                {\n",
       "                    center: [0, 0],\n",
       "                    crs: L.CRS.EPSG3857,\n",
       "                    zoom: 1,\n",
       "                    zoomControl: true,\n",
       "                    preferCanvas: false,\n",
       "                }\n",
       "            );\n",
       "\n",
       "            \n",
       "\n",
       "        \n",
       "    \n",
       "            var tile_layer_47044e31503509970982e422bac8cc53 = L.tileLayer(\n",
       "                &quot;https://{s}.tile.openstreetmap.org/{z}/{x}/{y}.png&quot;,\n",
       "                {&quot;attribution&quot;: &quot;Data by \\u0026copy; \\u003ca href=\\&quot;http://openstreetmap.org\\&quot;\\u003eOpenStreetMap\\u003c/a\\u003e, under \\u003ca href=\\&quot;http://www.openstreetmap.org/copyright\\&quot;\\u003eODbL\\u003c/a\\u003e.&quot;, &quot;detectRetina&quot;: false, &quot;maxNativeZoom&quot;: 18, &quot;maxZoom&quot;: 18, &quot;minZoom&quot;: 0, &quot;noWrap&quot;: false, &quot;opacity&quot;: 1, &quot;subdomains&quot;: &quot;abc&quot;, &quot;tms&quot;: false}\n",
       "            ).addTo(map_5a24f975be12900a6c942fe863e77084);\n",
       "        \n",
       "    \n",
       "            map_5a24f975be12900a6c942fe863e77084.fitBounds(\n",
       "                [[40.28558, 15.907311], [40.28558, 15.907311]],\n",
       "                {}\n",
       "            );\n",
       "        \n",
       "    \n",
       "\n",
       "        function geo_json_5c89892c78909378047a8e6f149baf0a_onEachFeature(feature, layer) {\n",
       "            layer.on({\n",
       "            });\n",
       "        };\n",
       "        var geo_json_5c89892c78909378047a8e6f149baf0a = L.geoJson(null, {\n",
       "                onEachFeature: geo_json_5c89892c78909378047a8e6f149baf0a_onEachFeature,\n",
       "            \n",
       "        });\n",
       "\n",
       "        function geo_json_5c89892c78909378047a8e6f149baf0a_add (data) {\n",
       "            geo_json_5c89892c78909378047a8e6f149baf0a\n",
       "                .addData(data)\n",
       "                .addTo(map_5a24f975be12900a6c942fe863e77084);\n",
       "        }\n",
       "            geo_json_5c89892c78909378047a8e6f149baf0a_add({&quot;features&quot;: [{&quot;geometry&quot;: {&quot;coordinates&quot;: [15.907311, 40.28558], &quot;type&quot;: &quot;Point&quot;}, &quot;properties&quot;: {&quot;country&quot;: &quot;Italia&quot;, &quot;id&quot;: 0, &quot;name&quot;: &quot;Grumentum&quot;, &quot;source&quot;: &quot;nominatim&quot;, &quot;sourceName&quot;: &quot;Parco Archeologico di Grumentum, SPEXSS103, Grumento Nova, Potenza, Basilicata, 85047, Italia&quot;, &quot;type&quot;: &quot;archaeological_site&quot;}, &quot;type&quot;: &quot;Feature&quot;}], &quot;type&quot;: &quot;FeatureCollection&quot;});\n",
       "\n",
       "        \n",
       "    \n",
       "    geo_json_5c89892c78909378047a8e6f149baf0a.bindTooltip(\n",
       "    function(layer){\n",
       "    let div = L.DomUtil.create(&#x27;div&#x27;);\n",
       "    \n",
       "    let handleObject = feature=&gt;typeof(feature)==&#x27;object&#x27; ? JSON.stringify(feature) : feature;\n",
       "    let fields = [&quot;name&quot;, &quot;source&quot;];\n",
       "    let aliases = [&quot;name&quot;, &quot;source&quot;];\n",
       "    let table = &#x27;&lt;table&gt;&#x27; +\n",
       "        String(\n",
       "        fields.map(\n",
       "        (v,i)=&gt;\n",
       "        `&lt;tr&gt;\n",
       "            &lt;th&gt;${aliases[i].toLocaleString()}&lt;/th&gt;\n",
       "            \n",
       "            &lt;td&gt;${handleObject(layer.feature.properties[v]).toLocaleString()}&lt;/td&gt;\n",
       "        &lt;/tr&gt;`).join(&#x27;&#x27;))\n",
       "    +&#x27;&lt;/table&gt;&#x27;;\n",
       "    div.innerHTML=table;\n",
       "    \n",
       "    return div\n",
       "    }\n",
       "    ,{&quot;className&quot;: &quot;foliumtooltip&quot;, &quot;sticky&quot;: true});\n",
       "                     \n",
       "&lt;/script&gt;\" style=\"position:absolute;width:100%;height:100%;left:0;top:0;border:none !important;\" allowfullscreen webkitallowfullscreen mozallowfullscreen></iframe></div></div>"
      ],
      "text/plain": [
       "<folium.folium.Map at 0x1638855e0>"
      ]
     },
     "execution_count": 61,
     "metadata": {},
     "output_type": "execute_result"
    }
   ],
   "source": [
    "geocoder = Geocoder(sources=['nominatim'])\n",
    "doc = geocoder('Grumentum')\n",
    "doc.get_folium_map()"
   ]
  },
  {
   "cell_type": "markdown",
   "metadata": {},
   "source": [
    "#### 7.2.2 Geonames\n",
    "\n",
    "http://www.geonames.org\n",
    "\n"
   ]
  },
  {
   "cell_type": "code",
   "execution_count": 64,
   "metadata": {},
   "outputs": [
    {
     "data": {
      "text/html": [
       "<div style=\"width:100%;\"><div style=\"position:relative;width:100%;height:0;padding-bottom:60%;\"><span style=\"color:#565656\">Make this Notebook Trusted to load map: File -> Trust Notebook</span><iframe srcdoc=\"&lt;!DOCTYPE html&gt;\n",
       "&lt;head&gt;    \n",
       "    &lt;meta http-equiv=&quot;content-type&quot; content=&quot;text/html; charset=UTF-8&quot; /&gt;\n",
       "    \n",
       "        &lt;script&gt;\n",
       "            L_NO_TOUCH = false;\n",
       "            L_DISABLE_3D = false;\n",
       "        &lt;/script&gt;\n",
       "    \n",
       "    &lt;style&gt;html, body {width: 100%;height: 100%;margin: 0;padding: 0;}&lt;/style&gt;\n",
       "    &lt;style&gt;#map {position:absolute;top:0;bottom:0;right:0;left:0;}&lt;/style&gt;\n",
       "    &lt;script src=&quot;https://cdn.jsdelivr.net/npm/leaflet@1.6.0/dist/leaflet.js&quot;&gt;&lt;/script&gt;\n",
       "    &lt;script src=&quot;https://code.jquery.com/jquery-1.12.4.min.js&quot;&gt;&lt;/script&gt;\n",
       "    &lt;script src=&quot;https://maxcdn.bootstrapcdn.com/bootstrap/3.2.0/js/bootstrap.min.js&quot;&gt;&lt;/script&gt;\n",
       "    &lt;script src=&quot;https://cdnjs.cloudflare.com/ajax/libs/Leaflet.awesome-markers/2.0.2/leaflet.awesome-markers.js&quot;&gt;&lt;/script&gt;\n",
       "    &lt;link rel=&quot;stylesheet&quot; href=&quot;https://cdn.jsdelivr.net/npm/leaflet@1.6.0/dist/leaflet.css&quot;/&gt;\n",
       "    &lt;link rel=&quot;stylesheet&quot; href=&quot;https://maxcdn.bootstrapcdn.com/bootstrap/3.2.0/css/bootstrap.min.css&quot;/&gt;\n",
       "    &lt;link rel=&quot;stylesheet&quot; href=&quot;https://maxcdn.bootstrapcdn.com/bootstrap/3.2.0/css/bootstrap-theme.min.css&quot;/&gt;\n",
       "    &lt;link rel=&quot;stylesheet&quot; href=&quot;https://maxcdn.bootstrapcdn.com/font-awesome/4.6.3/css/font-awesome.min.css&quot;/&gt;\n",
       "    &lt;link rel=&quot;stylesheet&quot; href=&quot;https://cdnjs.cloudflare.com/ajax/libs/Leaflet.awesome-markers/2.0.2/leaflet.awesome-markers.css&quot;/&gt;\n",
       "    &lt;link rel=&quot;stylesheet&quot; href=&quot;https://cdn.jsdelivr.net/gh/python-visualization/folium/folium/templates/leaflet.awesome.rotate.min.css&quot;/&gt;\n",
       "    \n",
       "            &lt;meta name=&quot;viewport&quot; content=&quot;width=device-width,\n",
       "                initial-scale=1.0, maximum-scale=1.0, user-scalable=no&quot; /&gt;\n",
       "            &lt;style&gt;\n",
       "                #map_a75623b5bd2548fa11b3820278b1f236 {\n",
       "                    position: relative;\n",
       "                    width: 100.0%;\n",
       "                    height: 100.0%;\n",
       "                    left: 0.0%;\n",
       "                    top: 0.0%;\n",
       "                }\n",
       "            &lt;/style&gt;\n",
       "        \n",
       "    \n",
       "                    &lt;style&gt;\n",
       "                        .foliumtooltip {\n",
       "                            \n",
       "                        }\n",
       "                       .foliumtooltip table{\n",
       "                            margin: auto;\n",
       "                        }\n",
       "                        .foliumtooltip tr{\n",
       "                            text-align: left;\n",
       "                        }\n",
       "                        .foliumtooltip th{\n",
       "                            padding: 2px; padding-right: 8px;\n",
       "                        }\n",
       "                    &lt;/style&gt;\n",
       "            \n",
       "&lt;/head&gt;\n",
       "&lt;body&gt;    \n",
       "    \n",
       "            &lt;div class=&quot;folium-map&quot; id=&quot;map_a75623b5bd2548fa11b3820278b1f236&quot; &gt;&lt;/div&gt;\n",
       "        \n",
       "&lt;/body&gt;\n",
       "&lt;script&gt;    \n",
       "    \n",
       "            var map_a75623b5bd2548fa11b3820278b1f236 = L.map(\n",
       "                &quot;map_a75623b5bd2548fa11b3820278b1f236&quot;,\n",
       "                {\n",
       "                    center: [0, 0],\n",
       "                    crs: L.CRS.EPSG3857,\n",
       "                    zoom: 1,\n",
       "                    zoomControl: true,\n",
       "                    preferCanvas: false,\n",
       "                }\n",
       "            );\n",
       "\n",
       "            \n",
       "\n",
       "        \n",
       "    \n",
       "            var tile_layer_c3d30c9ed340c9369f1d5db04dbd1ea5 = L.tileLayer(\n",
       "                &quot;https://{s}.tile.openstreetmap.org/{z}/{x}/{y}.png&quot;,\n",
       "                {&quot;attribution&quot;: &quot;Data by \\u0026copy; \\u003ca href=\\&quot;http://openstreetmap.org\\&quot;\\u003eOpenStreetMap\\u003c/a\\u003e, under \\u003ca href=\\&quot;http://www.openstreetmap.org/copyright\\&quot;\\u003eODbL\\u003c/a\\u003e.&quot;, &quot;detectRetina&quot;: false, &quot;maxNativeZoom&quot;: 18, &quot;maxZoom&quot;: 18, &quot;minZoom&quot;: 0, &quot;noWrap&quot;: false, &quot;opacity&quot;: 1, &quot;subdomains&quot;: &quot;abc&quot;, &quot;tms&quot;: false}\n",
       "            ).addTo(map_a75623b5bd2548fa11b3820278b1f236);\n",
       "        \n",
       "    \n",
       "            map_a75623b5bd2548fa11b3820278b1f236.fitBounds(\n",
       "                [[40.28522, 15.90707], [40.28522, 15.90707]],\n",
       "                {}\n",
       "            );\n",
       "        \n",
       "    \n",
       "\n",
       "        function geo_json_248703ba123a3cb8b4559274ca8e4916_onEachFeature(feature, layer) {\n",
       "            layer.on({\n",
       "            });\n",
       "        };\n",
       "        var geo_json_248703ba123a3cb8b4559274ca8e4916 = L.geoJson(null, {\n",
       "                onEachFeature: geo_json_248703ba123a3cb8b4559274ca8e4916_onEachFeature,\n",
       "            \n",
       "        });\n",
       "\n",
       "        function geo_json_248703ba123a3cb8b4559274ca8e4916_add (data) {\n",
       "            geo_json_248703ba123a3cb8b4559274ca8e4916\n",
       "                .addData(data)\n",
       "                .addTo(map_a75623b5bd2548fa11b3820278b1f236);\n",
       "        }\n",
       "            geo_json_248703ba123a3cb8b4559274ca8e4916_add({&quot;features&quot;: [{&quot;geometry&quot;: {&quot;coordinates&quot;: [15.90707, 40.28522], &quot;type&quot;: &quot;Point&quot;}, &quot;properties&quot;: {&quot;country&quot;: &quot;Italy&quot;, &quot;id&quot;: 0, &quot;name&quot;: &quot;Grumentum&quot;, &quot;source&quot;: &quot;geonames&quot;, &quot;sourceName&quot;: &quot;Grumentum&quot;, &quot;type&quot;: &quot;ANS&quot;}, &quot;type&quot;: &quot;Feature&quot;}], &quot;type&quot;: &quot;FeatureCollection&quot;});\n",
       "\n",
       "        \n",
       "    \n",
       "    geo_json_248703ba123a3cb8b4559274ca8e4916.bindTooltip(\n",
       "    function(layer){\n",
       "    let div = L.DomUtil.create(&#x27;div&#x27;);\n",
       "    \n",
       "    let handleObject = feature=&gt;typeof(feature)==&#x27;object&#x27; ? JSON.stringify(feature) : feature;\n",
       "    let fields = [&quot;name&quot;, &quot;source&quot;];\n",
       "    let aliases = [&quot;name&quot;, &quot;source&quot;];\n",
       "    let table = &#x27;&lt;table&gt;&#x27; +\n",
       "        String(\n",
       "        fields.map(\n",
       "        (v,i)=&gt;\n",
       "        `&lt;tr&gt;\n",
       "            &lt;th&gt;${aliases[i].toLocaleString()}&lt;/th&gt;\n",
       "            \n",
       "            &lt;td&gt;${handleObject(layer.feature.properties[v]).toLocaleString()}&lt;/td&gt;\n",
       "        &lt;/tr&gt;`).join(&#x27;&#x27;))\n",
       "    +&#x27;&lt;/table&gt;&#x27;;\n",
       "    div.innerHTML=table;\n",
       "    \n",
       "    return div\n",
       "    }\n",
       "    ,{&quot;className&quot;: &quot;foliumtooltip&quot;, &quot;sticky&quot;: true});\n",
       "                     \n",
       "&lt;/script&gt;\" style=\"position:absolute;width:100%;height:100%;left:0;top:0;border:none !important;\" allowfullscreen webkitallowfullscreen mozallowfullscreen></iframe></div></div>"
      ],
      "text/plain": [
       "<folium.folium.Map at 0x163885af0>"
      ]
     },
     "execution_count": 64,
     "metadata": {},
     "output_type": "execute_result"
    }
   ],
   "source": [
    "geocoder = Geocoder(sources=['geonames'])\n",
    "doc = geocoder('Grumentum')\n",
    "doc.get_folium_map()"
   ]
  },
  {
   "cell_type": "markdown",
   "metadata": {},
   "source": [
    "#### 7.2.2 World Historical Gazetteer\n",
    "\n",
    "\n",
    "https://whgazetteer.org"
   ]
  },
  {
   "cell_type": "code",
   "execution_count": 65,
   "metadata": {},
   "outputs": [
    {
     "data": {
      "text/html": [
       "<div style=\"width:100%;\"><div style=\"position:relative;width:100%;height:0;padding-bottom:60%;\"><span style=\"color:#565656\">Make this Notebook Trusted to load map: File -> Trust Notebook</span><iframe srcdoc=\"&lt;!DOCTYPE html&gt;\n",
       "&lt;head&gt;    \n",
       "    &lt;meta http-equiv=&quot;content-type&quot; content=&quot;text/html; charset=UTF-8&quot; /&gt;\n",
       "    \n",
       "        &lt;script&gt;\n",
       "            L_NO_TOUCH = false;\n",
       "            L_DISABLE_3D = false;\n",
       "        &lt;/script&gt;\n",
       "    \n",
       "    &lt;style&gt;html, body {width: 100%;height: 100%;margin: 0;padding: 0;}&lt;/style&gt;\n",
       "    &lt;style&gt;#map {position:absolute;top:0;bottom:0;right:0;left:0;}&lt;/style&gt;\n",
       "    &lt;script src=&quot;https://cdn.jsdelivr.net/npm/leaflet@1.6.0/dist/leaflet.js&quot;&gt;&lt;/script&gt;\n",
       "    &lt;script src=&quot;https://code.jquery.com/jquery-1.12.4.min.js&quot;&gt;&lt;/script&gt;\n",
       "    &lt;script src=&quot;https://maxcdn.bootstrapcdn.com/bootstrap/3.2.0/js/bootstrap.min.js&quot;&gt;&lt;/script&gt;\n",
       "    &lt;script src=&quot;https://cdnjs.cloudflare.com/ajax/libs/Leaflet.awesome-markers/2.0.2/leaflet.awesome-markers.js&quot;&gt;&lt;/script&gt;\n",
       "    &lt;link rel=&quot;stylesheet&quot; href=&quot;https://cdn.jsdelivr.net/npm/leaflet@1.6.0/dist/leaflet.css&quot;/&gt;\n",
       "    &lt;link rel=&quot;stylesheet&quot; href=&quot;https://maxcdn.bootstrapcdn.com/bootstrap/3.2.0/css/bootstrap.min.css&quot;/&gt;\n",
       "    &lt;link rel=&quot;stylesheet&quot; href=&quot;https://maxcdn.bootstrapcdn.com/bootstrap/3.2.0/css/bootstrap-theme.min.css&quot;/&gt;\n",
       "    &lt;link rel=&quot;stylesheet&quot; href=&quot;https://maxcdn.bootstrapcdn.com/font-awesome/4.6.3/css/font-awesome.min.css&quot;/&gt;\n",
       "    &lt;link rel=&quot;stylesheet&quot; href=&quot;https://cdnjs.cloudflare.com/ajax/libs/Leaflet.awesome-markers/2.0.2/leaflet.awesome-markers.css&quot;/&gt;\n",
       "    &lt;link rel=&quot;stylesheet&quot; href=&quot;https://cdn.jsdelivr.net/gh/python-visualization/folium/folium/templates/leaflet.awesome.rotate.min.css&quot;/&gt;\n",
       "    \n",
       "            &lt;meta name=&quot;viewport&quot; content=&quot;width=device-width,\n",
       "                initial-scale=1.0, maximum-scale=1.0, user-scalable=no&quot; /&gt;\n",
       "            &lt;style&gt;\n",
       "                #map_25804016f6bf02d93368c2a84670ccc5 {\n",
       "                    position: relative;\n",
       "                    width: 100.0%;\n",
       "                    height: 100.0%;\n",
       "                    left: 0.0%;\n",
       "                    top: 0.0%;\n",
       "                }\n",
       "            &lt;/style&gt;\n",
       "        \n",
       "    \n",
       "                    &lt;style&gt;\n",
       "                        .foliumtooltip {\n",
       "                            \n",
       "                        }\n",
       "                       .foliumtooltip table{\n",
       "                            margin: auto;\n",
       "                        }\n",
       "                        .foliumtooltip tr{\n",
       "                            text-align: left;\n",
       "                        }\n",
       "                        .foliumtooltip th{\n",
       "                            padding: 2px; padding-right: 8px;\n",
       "                        }\n",
       "                    &lt;/style&gt;\n",
       "            \n",
       "&lt;/head&gt;\n",
       "&lt;body&gt;    \n",
       "    \n",
       "            &lt;div class=&quot;folium-map&quot; id=&quot;map_25804016f6bf02d93368c2a84670ccc5&quot; &gt;&lt;/div&gt;\n",
       "        \n",
       "&lt;/body&gt;\n",
       "&lt;script&gt;    \n",
       "    \n",
       "            var map_25804016f6bf02d93368c2a84670ccc5 = L.map(\n",
       "                &quot;map_25804016f6bf02d93368c2a84670ccc5&quot;,\n",
       "                {\n",
       "                    center: [0, 0],\n",
       "                    crs: L.CRS.EPSG3857,\n",
       "                    zoom: 1,\n",
       "                    zoomControl: true,\n",
       "                    preferCanvas: false,\n",
       "                }\n",
       "            );\n",
       "\n",
       "            \n",
       "\n",
       "        \n",
       "    \n",
       "            var tile_layer_ef125fbe89e55e2f793af5df606d401b = L.tileLayer(\n",
       "                &quot;https://{s}.tile.openstreetmap.org/{z}/{x}/{y}.png&quot;,\n",
       "                {&quot;attribution&quot;: &quot;Data by \\u0026copy; \\u003ca href=\\&quot;http://openstreetmap.org\\&quot;\\u003eOpenStreetMap\\u003c/a\\u003e, under \\u003ca href=\\&quot;http://www.openstreetmap.org/copyright\\&quot;\\u003eODbL\\u003c/a\\u003e.&quot;, &quot;detectRetina&quot;: false, &quot;maxNativeZoom&quot;: 18, &quot;maxZoom&quot;: 18, &quot;minZoom&quot;: 0, &quot;noWrap&quot;: false, &quot;opacity&quot;: 1, &quot;subdomains&quot;: &quot;abc&quot;, &quot;tms&quot;: false}\n",
       "            ).addTo(map_25804016f6bf02d93368c2a84670ccc5);\n",
       "        \n",
       "    \n",
       "            map_25804016f6bf02d93368c2a84670ccc5.fitBounds(\n",
       "                [[40.2833, 15.9167], [40.2833, 15.9167]],\n",
       "                {}\n",
       "            );\n",
       "        \n",
       "    \n",
       "\n",
       "        function geo_json_4d699d169f13eb652f5d23806f524d22_onEachFeature(feature, layer) {\n",
       "            layer.on({\n",
       "            });\n",
       "        };\n",
       "        var geo_json_4d699d169f13eb652f5d23806f524d22 = L.geoJson(null, {\n",
       "                onEachFeature: geo_json_4d699d169f13eb652f5d23806f524d22_onEachFeature,\n",
       "            \n",
       "        });\n",
       "\n",
       "        function geo_json_4d699d169f13eb652f5d23806f524d22_add (data) {\n",
       "            geo_json_4d699d169f13eb652f5d23806f524d22\n",
       "                .addData(data)\n",
       "                .addTo(map_25804016f6bf02d93368c2a84670ccc5);\n",
       "        }\n",
       "            geo_json_4d699d169f13eb652f5d23806f524d22_add({&quot;features&quot;: [{&quot;geometry&quot;: {&quot;coordinates&quot;: [15.9167, 40.2833], &quot;type&quot;: &quot;Point&quot;}, &quot;properties&quot;: {&quot;country&quot;: &quot;IT&quot;, &quot;id&quot;: 0, &quot;name&quot;: &quot;Grumentum&quot;, &quot;source&quot;: &quot;whg&quot;, &quot;sourceName&quot;: &quot;Grumento&quot;, &quot;type&quot;: &quot;deserted settlements&quot;}, &quot;type&quot;: &quot;Feature&quot;}], &quot;type&quot;: &quot;FeatureCollection&quot;});\n",
       "\n",
       "        \n",
       "    \n",
       "    geo_json_4d699d169f13eb652f5d23806f524d22.bindTooltip(\n",
       "    function(layer){\n",
       "    let div = L.DomUtil.create(&#x27;div&#x27;);\n",
       "    \n",
       "    let handleObject = feature=&gt;typeof(feature)==&#x27;object&#x27; ? JSON.stringify(feature) : feature;\n",
       "    let fields = [&quot;name&quot;, &quot;source&quot;];\n",
       "    let aliases = [&quot;name&quot;, &quot;source&quot;];\n",
       "    let table = &#x27;&lt;table&gt;&#x27; +\n",
       "        String(\n",
       "        fields.map(\n",
       "        (v,i)=&gt;\n",
       "        `&lt;tr&gt;\n",
       "            &lt;th&gt;${aliases[i].toLocaleString()}&lt;/th&gt;\n",
       "            \n",
       "            &lt;td&gt;${handleObject(layer.feature.properties[v]).toLocaleString()}&lt;/td&gt;\n",
       "        &lt;/tr&gt;`).join(&#x27;&#x27;))\n",
       "    +&#x27;&lt;/table&gt;&#x27;;\n",
       "    div.innerHTML=table;\n",
       "    \n",
       "    return div\n",
       "    }\n",
       "    ,{&quot;className&quot;: &quot;foliumtooltip&quot;, &quot;sticky&quot;: true});\n",
       "                     \n",
       "&lt;/script&gt;\" style=\"position:absolute;width:100%;height:100%;left:0;top:0;border:none !important;\" allowfullscreen webkitallowfullscreen mozallowfullscreen></iframe></div></div>"
      ],
      "text/plain": [
       "<folium.folium.Map at 0x16387c490>"
      ]
     },
     "execution_count": 65,
     "metadata": {},
     "output_type": "execute_result"
    }
   ],
   "source": [
    "geocoder = Geocoder(sources=['whg'])\n",
    "doc = geocoder('Grumentum')\n",
    "doc.get_folium_map()"
   ]
  },
  {
   "cell_type": "markdown",
   "metadata": {},
   "source": [
    "#### 7.2.3 Pleiades \n",
    "\n",
    "https://pleiades.stoa.org/#\n",
    "\n",
    "There is currently an issue when quering Pleiades with Perdido. But this will be solved in the future."
   ]
  },
  {
   "cell_type": "code",
   "execution_count": 56,
   "metadata": {},
   "outputs": [
    {
     "name": "stdout",
     "output_type": "stream",
     "text": [
      "Oops! An error occured: Internal Server Error\n"
     ]
    }
   ],
   "source": [
    "geocoder = Geocoder(sources=['pleiades'])\n",
    "doc = geocoder('Grumentum')\n",
    "doc.get_folium_map()"
   ]
  },
  {
   "cell_type": "markdown",
   "metadata": {},
   "source": [
    "#### 7.2.4 Querying all gazetteers at once"
   ]
  },
  {
   "cell_type": "code",
   "execution_count": 66,
   "metadata": {},
   "outputs": [
    {
     "data": {
      "text/html": [
       "<div style=\"width:100%;\"><div style=\"position:relative;width:100%;height:0;padding-bottom:60%;\"><span style=\"color:#565656\">Make this Notebook Trusted to load map: File -> Trust Notebook</span><iframe srcdoc=\"&lt;!DOCTYPE html&gt;\n",
       "&lt;head&gt;    \n",
       "    &lt;meta http-equiv=&quot;content-type&quot; content=&quot;text/html; charset=UTF-8&quot; /&gt;\n",
       "    \n",
       "        &lt;script&gt;\n",
       "            L_NO_TOUCH = false;\n",
       "            L_DISABLE_3D = false;\n",
       "        &lt;/script&gt;\n",
       "    \n",
       "    &lt;style&gt;html, body {width: 100%;height: 100%;margin: 0;padding: 0;}&lt;/style&gt;\n",
       "    &lt;style&gt;#map {position:absolute;top:0;bottom:0;right:0;left:0;}&lt;/style&gt;\n",
       "    &lt;script src=&quot;https://cdn.jsdelivr.net/npm/leaflet@1.6.0/dist/leaflet.js&quot;&gt;&lt;/script&gt;\n",
       "    &lt;script src=&quot;https://code.jquery.com/jquery-1.12.4.min.js&quot;&gt;&lt;/script&gt;\n",
       "    &lt;script src=&quot;https://maxcdn.bootstrapcdn.com/bootstrap/3.2.0/js/bootstrap.min.js&quot;&gt;&lt;/script&gt;\n",
       "    &lt;script src=&quot;https://cdnjs.cloudflare.com/ajax/libs/Leaflet.awesome-markers/2.0.2/leaflet.awesome-markers.js&quot;&gt;&lt;/script&gt;\n",
       "    &lt;link rel=&quot;stylesheet&quot; href=&quot;https://cdn.jsdelivr.net/npm/leaflet@1.6.0/dist/leaflet.css&quot;/&gt;\n",
       "    &lt;link rel=&quot;stylesheet&quot; href=&quot;https://maxcdn.bootstrapcdn.com/bootstrap/3.2.0/css/bootstrap.min.css&quot;/&gt;\n",
       "    &lt;link rel=&quot;stylesheet&quot; href=&quot;https://maxcdn.bootstrapcdn.com/bootstrap/3.2.0/css/bootstrap-theme.min.css&quot;/&gt;\n",
       "    &lt;link rel=&quot;stylesheet&quot; href=&quot;https://maxcdn.bootstrapcdn.com/font-awesome/4.6.3/css/font-awesome.min.css&quot;/&gt;\n",
       "    &lt;link rel=&quot;stylesheet&quot; href=&quot;https://cdnjs.cloudflare.com/ajax/libs/Leaflet.awesome-markers/2.0.2/leaflet.awesome-markers.css&quot;/&gt;\n",
       "    &lt;link rel=&quot;stylesheet&quot; href=&quot;https://cdn.jsdelivr.net/gh/python-visualization/folium/folium/templates/leaflet.awesome.rotate.min.css&quot;/&gt;\n",
       "    \n",
       "            &lt;meta name=&quot;viewport&quot; content=&quot;width=device-width,\n",
       "                initial-scale=1.0, maximum-scale=1.0, user-scalable=no&quot; /&gt;\n",
       "            &lt;style&gt;\n",
       "                #map_45e27630514a6824a13151efc1b472a4 {\n",
       "                    position: relative;\n",
       "                    width: 100.0%;\n",
       "                    height: 100.0%;\n",
       "                    left: 0.0%;\n",
       "                    top: 0.0%;\n",
       "                }\n",
       "            &lt;/style&gt;\n",
       "        \n",
       "    \n",
       "                    &lt;style&gt;\n",
       "                        .foliumtooltip {\n",
       "                            \n",
       "                        }\n",
       "                       .foliumtooltip table{\n",
       "                            margin: auto;\n",
       "                        }\n",
       "                        .foliumtooltip tr{\n",
       "                            text-align: left;\n",
       "                        }\n",
       "                        .foliumtooltip th{\n",
       "                            padding: 2px; padding-right: 8px;\n",
       "                        }\n",
       "                    &lt;/style&gt;\n",
       "            \n",
       "&lt;/head&gt;\n",
       "&lt;body&gt;    \n",
       "    \n",
       "            &lt;div class=&quot;folium-map&quot; id=&quot;map_45e27630514a6824a13151efc1b472a4&quot; &gt;&lt;/div&gt;\n",
       "        \n",
       "&lt;/body&gt;\n",
       "&lt;script&gt;    \n",
       "    \n",
       "            var map_45e27630514a6824a13151efc1b472a4 = L.map(\n",
       "                &quot;map_45e27630514a6824a13151efc1b472a4&quot;,\n",
       "                {\n",
       "                    center: [0, 0],\n",
       "                    crs: L.CRS.EPSG3857,\n",
       "                    zoom: 1,\n",
       "                    zoomControl: true,\n",
       "                    preferCanvas: false,\n",
       "                }\n",
       "            );\n",
       "\n",
       "            \n",
       "\n",
       "        \n",
       "    \n",
       "            var tile_layer_5966abe20b1317268a3b5b70442adcfe = L.tileLayer(\n",
       "                &quot;https://{s}.tile.openstreetmap.org/{z}/{x}/{y}.png&quot;,\n",
       "                {&quot;attribution&quot;: &quot;Data by \\u0026copy; \\u003ca href=\\&quot;http://openstreetmap.org\\&quot;\\u003eOpenStreetMap\\u003c/a\\u003e, under \\u003ca href=\\&quot;http://www.openstreetmap.org/copyright\\&quot;\\u003eODbL\\u003c/a\\u003e.&quot;, &quot;detectRetina&quot;: false, &quot;maxNativeZoom&quot;: 18, &quot;maxZoom&quot;: 18, &quot;minZoom&quot;: 0, &quot;noWrap&quot;: false, &quot;opacity&quot;: 1, &quot;subdomains&quot;: &quot;abc&quot;, &quot;tms&quot;: false}\n",
       "            ).addTo(map_45e27630514a6824a13151efc1b472a4);\n",
       "        \n",
       "    \n",
       "            map_45e27630514a6824a13151efc1b472a4.fitBounds(\n",
       "                [[40.2833, 15.90707], [40.28558, 15.9167]],\n",
       "                {}\n",
       "            );\n",
       "        \n",
       "    \n",
       "\n",
       "        function geo_json_7058d6ba08b1d673591b67b420efd23c_onEachFeature(feature, layer) {\n",
       "            layer.on({\n",
       "            });\n",
       "        };\n",
       "        var geo_json_7058d6ba08b1d673591b67b420efd23c = L.geoJson(null, {\n",
       "                onEachFeature: geo_json_7058d6ba08b1d673591b67b420efd23c_onEachFeature,\n",
       "            \n",
       "        });\n",
       "\n",
       "        function geo_json_7058d6ba08b1d673591b67b420efd23c_add (data) {\n",
       "            geo_json_7058d6ba08b1d673591b67b420efd23c\n",
       "                .addData(data)\n",
       "                .addTo(map_45e27630514a6824a13151efc1b472a4);\n",
       "        }\n",
       "            geo_json_7058d6ba08b1d673591b67b420efd23c_add({&quot;features&quot;: [{&quot;geometry&quot;: {&quot;coordinates&quot;: [15.907311, 40.28558], &quot;type&quot;: &quot;Point&quot;}, &quot;properties&quot;: {&quot;country&quot;: &quot;Italia&quot;, &quot;id&quot;: 0, &quot;name&quot;: &quot;Grumentum&quot;, &quot;source&quot;: &quot;nominatim&quot;, &quot;sourceName&quot;: &quot;Parco Archeologico di Grumentum, SPEXSS103, Grumento Nova, Potenza, Basilicata, 85047, Italia&quot;, &quot;type&quot;: &quot;archaeological_site&quot;}, &quot;type&quot;: &quot;Feature&quot;}, {&quot;geometry&quot;: {&quot;coordinates&quot;: [15.90707, 40.28522], &quot;type&quot;: &quot;Point&quot;}, &quot;properties&quot;: {&quot;country&quot;: &quot;Italy&quot;, &quot;id&quot;: 0, &quot;name&quot;: &quot;Grumentum&quot;, &quot;source&quot;: &quot;geonames&quot;, &quot;sourceName&quot;: &quot;Grumentum&quot;, &quot;type&quot;: &quot;ANS&quot;}, &quot;type&quot;: &quot;Feature&quot;}, {&quot;geometry&quot;: {&quot;coordinates&quot;: [15.9167, 40.2833], &quot;type&quot;: &quot;Point&quot;}, &quot;properties&quot;: {&quot;country&quot;: &quot;IT&quot;, &quot;id&quot;: 0, &quot;name&quot;: &quot;Grumentum&quot;, &quot;source&quot;: &quot;whg&quot;, &quot;sourceName&quot;: &quot;Grumento&quot;, &quot;type&quot;: &quot;deserted settlements&quot;}, &quot;type&quot;: &quot;Feature&quot;}], &quot;type&quot;: &quot;FeatureCollection&quot;});\n",
       "\n",
       "        \n",
       "    \n",
       "    geo_json_7058d6ba08b1d673591b67b420efd23c.bindTooltip(\n",
       "    function(layer){\n",
       "    let div = L.DomUtil.create(&#x27;div&#x27;);\n",
       "    \n",
       "    let handleObject = feature=&gt;typeof(feature)==&#x27;object&#x27; ? JSON.stringify(feature) : feature;\n",
       "    let fields = [&quot;name&quot;, &quot;source&quot;];\n",
       "    let aliases = [&quot;name&quot;, &quot;source&quot;];\n",
       "    let table = &#x27;&lt;table&gt;&#x27; +\n",
       "        String(\n",
       "        fields.map(\n",
       "        (v,i)=&gt;\n",
       "        `&lt;tr&gt;\n",
       "            &lt;th&gt;${aliases[i].toLocaleString()}&lt;/th&gt;\n",
       "            \n",
       "            &lt;td&gt;${handleObject(layer.feature.properties[v]).toLocaleString()}&lt;/td&gt;\n",
       "        &lt;/tr&gt;`).join(&#x27;&#x27;))\n",
       "    +&#x27;&lt;/table&gt;&#x27;;\n",
       "    div.innerHTML=table;\n",
       "    \n",
       "    return div\n",
       "    }\n",
       "    ,{&quot;className&quot;: &quot;foliumtooltip&quot;, &quot;sticky&quot;: true});\n",
       "                     \n",
       "&lt;/script&gt;\" style=\"position:absolute;width:100%;height:100%;left:0;top:0;border:none !important;\" allowfullscreen webkitallowfullscreen mozallowfullscreen></iframe></div></div>"
      ],
      "text/plain": [
       "<folium.folium.Map at 0x1638726d0>"
      ]
     },
     "execution_count": 66,
     "metadata": {},
     "output_type": "execute_result"
    }
   ],
   "source": [
    "geocoder = Geocoder(sources=['nominatim', 'geonames', 'whg'])\n",
    "doc = geocoder('Grumentum')\n",
    "doc.get_folium_map()"
   ]
  },
  {
   "cell_type": "markdown",
   "metadata": {},
   "source": [
    "#### 7.2.5 Getting more records from gazetteers"
   ]
  },
  {
   "cell_type": "code",
   "execution_count": 67,
   "metadata": {},
   "outputs": [
    {
     "data": {
      "text/html": [
       "<div style=\"width:100%;\"><div style=\"position:relative;width:100%;height:0;padding-bottom:60%;\"><span style=\"color:#565656\">Make this Notebook Trusted to load map: File -> Trust Notebook</span><iframe srcdoc=\"&lt;!DOCTYPE html&gt;\n",
       "&lt;head&gt;    \n",
       "    &lt;meta http-equiv=&quot;content-type&quot; content=&quot;text/html; charset=UTF-8&quot; /&gt;\n",
       "    \n",
       "        &lt;script&gt;\n",
       "            L_NO_TOUCH = false;\n",
       "            L_DISABLE_3D = false;\n",
       "        &lt;/script&gt;\n",
       "    \n",
       "    &lt;style&gt;html, body {width: 100%;height: 100%;margin: 0;padding: 0;}&lt;/style&gt;\n",
       "    &lt;style&gt;#map {position:absolute;top:0;bottom:0;right:0;left:0;}&lt;/style&gt;\n",
       "    &lt;script src=&quot;https://cdn.jsdelivr.net/npm/leaflet@1.6.0/dist/leaflet.js&quot;&gt;&lt;/script&gt;\n",
       "    &lt;script src=&quot;https://code.jquery.com/jquery-1.12.4.min.js&quot;&gt;&lt;/script&gt;\n",
       "    &lt;script src=&quot;https://maxcdn.bootstrapcdn.com/bootstrap/3.2.0/js/bootstrap.min.js&quot;&gt;&lt;/script&gt;\n",
       "    &lt;script src=&quot;https://cdnjs.cloudflare.com/ajax/libs/Leaflet.awesome-markers/2.0.2/leaflet.awesome-markers.js&quot;&gt;&lt;/script&gt;\n",
       "    &lt;link rel=&quot;stylesheet&quot; href=&quot;https://cdn.jsdelivr.net/npm/leaflet@1.6.0/dist/leaflet.css&quot;/&gt;\n",
       "    &lt;link rel=&quot;stylesheet&quot; href=&quot;https://maxcdn.bootstrapcdn.com/bootstrap/3.2.0/css/bootstrap.min.css&quot;/&gt;\n",
       "    &lt;link rel=&quot;stylesheet&quot; href=&quot;https://maxcdn.bootstrapcdn.com/bootstrap/3.2.0/css/bootstrap-theme.min.css&quot;/&gt;\n",
       "    &lt;link rel=&quot;stylesheet&quot; href=&quot;https://maxcdn.bootstrapcdn.com/font-awesome/4.6.3/css/font-awesome.min.css&quot;/&gt;\n",
       "    &lt;link rel=&quot;stylesheet&quot; href=&quot;https://cdnjs.cloudflare.com/ajax/libs/Leaflet.awesome-markers/2.0.2/leaflet.awesome-markers.css&quot;/&gt;\n",
       "    &lt;link rel=&quot;stylesheet&quot; href=&quot;https://cdn.jsdelivr.net/gh/python-visualization/folium/folium/templates/leaflet.awesome.rotate.min.css&quot;/&gt;\n",
       "    \n",
       "            &lt;meta name=&quot;viewport&quot; content=&quot;width=device-width,\n",
       "                initial-scale=1.0, maximum-scale=1.0, user-scalable=no&quot; /&gt;\n",
       "            &lt;style&gt;\n",
       "                #map_f26d8e84db26c8b3b98be1862802d060 {\n",
       "                    position: relative;\n",
       "                    width: 100.0%;\n",
       "                    height: 100.0%;\n",
       "                    left: 0.0%;\n",
       "                    top: 0.0%;\n",
       "                }\n",
       "            &lt;/style&gt;\n",
       "        \n",
       "    \n",
       "                    &lt;style&gt;\n",
       "                        .foliumtooltip {\n",
       "                            \n",
       "                        }\n",
       "                       .foliumtooltip table{\n",
       "                            margin: auto;\n",
       "                        }\n",
       "                        .foliumtooltip tr{\n",
       "                            text-align: left;\n",
       "                        }\n",
       "                        .foliumtooltip th{\n",
       "                            padding: 2px; padding-right: 8px;\n",
       "                        }\n",
       "                    &lt;/style&gt;\n",
       "            \n",
       "&lt;/head&gt;\n",
       "&lt;body&gt;    \n",
       "    \n",
       "            &lt;div class=&quot;folium-map&quot; id=&quot;map_f26d8e84db26c8b3b98be1862802d060&quot; &gt;&lt;/div&gt;\n",
       "        \n",
       "&lt;/body&gt;\n",
       "&lt;script&gt;    \n",
       "    \n",
       "            var map_f26d8e84db26c8b3b98be1862802d060 = L.map(\n",
       "                &quot;map_f26d8e84db26c8b3b98be1862802d060&quot;,\n",
       "                {\n",
       "                    center: [0, 0],\n",
       "                    crs: L.CRS.EPSG3857,\n",
       "                    zoom: 1,\n",
       "                    zoomControl: true,\n",
       "                    preferCanvas: false,\n",
       "                }\n",
       "            );\n",
       "\n",
       "            \n",
       "\n",
       "        \n",
       "    \n",
       "            var tile_layer_1b1401d98db10dcb683b4bdcdb1c60a4 = L.tileLayer(\n",
       "                &quot;https://{s}.tile.openstreetmap.org/{z}/{x}/{y}.png&quot;,\n",
       "                {&quot;attribution&quot;: &quot;Data by \\u0026copy; \\u003ca href=\\&quot;http://openstreetmap.org\\&quot;\\u003eOpenStreetMap\\u003c/a\\u003e, under \\u003ca href=\\&quot;http://www.openstreetmap.org/copyright\\&quot;\\u003eODbL\\u003c/a\\u003e.&quot;, &quot;detectRetina&quot;: false, &quot;maxNativeZoom&quot;: 18, &quot;maxZoom&quot;: 18, &quot;minZoom&quot;: 0, &quot;noWrap&quot;: false, &quot;opacity&quot;: 1, &quot;subdomains&quot;: &quot;abc&quot;, &quot;tms&quot;: false}\n",
       "            ).addTo(map_f26d8e84db26c8b3b98be1862802d060);\n",
       "        \n",
       "    \n",
       "            map_f26d8e84db26c8b3b98be1862802d060.fitBounds(\n",
       "                [[40.2833, 15.905659], [40.286472, 15.9167]],\n",
       "                {}\n",
       "            );\n",
       "        \n",
       "    \n",
       "\n",
       "        function geo_json_6bb08489caa384592d0b3036822bed38_onEachFeature(feature, layer) {\n",
       "            layer.on({\n",
       "            });\n",
       "        };\n",
       "        var geo_json_6bb08489caa384592d0b3036822bed38 = L.geoJson(null, {\n",
       "                onEachFeature: geo_json_6bb08489caa384592d0b3036822bed38_onEachFeature,\n",
       "            \n",
       "        });\n",
       "\n",
       "        function geo_json_6bb08489caa384592d0b3036822bed38_add (data) {\n",
       "            geo_json_6bb08489caa384592d0b3036822bed38\n",
       "                .addData(data)\n",
       "                .addTo(map_f26d8e84db26c8b3b98be1862802d060);\n",
       "        }\n",
       "            geo_json_6bb08489caa384592d0b3036822bed38_add({&quot;features&quot;: [{&quot;geometry&quot;: {&quot;coordinates&quot;: [15.907311, 40.28558], &quot;type&quot;: &quot;Point&quot;}, &quot;properties&quot;: {&quot;country&quot;: &quot;Italia&quot;, &quot;id&quot;: 0, &quot;name&quot;: &quot;Grumentum&quot;, &quot;source&quot;: &quot;nominatim&quot;, &quot;sourceName&quot;: &quot;Parco Archeologico di Grumentum, SPEXSS103, Grumento Nova, Potenza, Basilicata, 85047, Italia&quot;, &quot;type&quot;: &quot;archaeological_site&quot;}, &quot;type&quot;: &quot;Feature&quot;}, {&quot;geometry&quot;: {&quot;coordinates&quot;: [15.905659, 40.28373], &quot;type&quot;: &quot;Point&quot;}, &quot;properties&quot;: {&quot;country&quot;: &quot;Italia&quot;, &quot;id&quot;: 0, &quot;name&quot;: &quot;Grumentum&quot;, &quot;source&quot;: &quot;nominatim&quot;, &quot;sourceName&quot;: &quot;Domus dei mosaici Grumentum, SPEXSS103, Grumento Nova, Potenza, Basilicata, 85047, Italia&quot;, &quot;type&quot;: &quot;ruins&quot;}, &quot;type&quot;: &quot;Feature&quot;}, {&quot;geometry&quot;: {&quot;coordinates&quot;: [15.909105, 40.286472], &quot;type&quot;: &quot;Point&quot;}, &quot;properties&quot;: {&quot;country&quot;: &quot;Italia&quot;, &quot;id&quot;: 0, &quot;name&quot;: &quot;Grumentum&quot;, &quot;source&quot;: &quot;nominatim&quot;, &quot;sourceName&quot;: &quot;Terme imperiali Grumentum, SPEXSS103, Grumento Nova, Potenza, Basilicata, 85047, Italia&quot;, &quot;type&quot;: &quot;ruins&quot;}, &quot;type&quot;: &quot;Feature&quot;}, {&quot;geometry&quot;: {&quot;coordinates&quot;: [15.90707, 40.28522], &quot;type&quot;: &quot;Point&quot;}, &quot;properties&quot;: {&quot;country&quot;: &quot;Italy&quot;, &quot;id&quot;: 0, &quot;name&quot;: &quot;Grumentum&quot;, &quot;source&quot;: &quot;geonames&quot;, &quot;sourceName&quot;: &quot;Grumentum&quot;, &quot;type&quot;: &quot;ANS&quot;}, &quot;type&quot;: &quot;Feature&quot;}, {&quot;geometry&quot;: {&quot;coordinates&quot;: [15.90726, 40.28502], &quot;type&quot;: &quot;Point&quot;}, &quot;properties&quot;: {&quot;country&quot;: &quot;Italy&quot;, &quot;id&quot;: 0, &quot;name&quot;: &quot;Grumentum&quot;, &quot;source&quot;: &quot;geonames&quot;, &quot;sourceName&quot;: &quot;(former) Roman Catholic Diocese of Grumentum&quot;, &quot;type&quot;: &quot;PPLCH&quot;}, &quot;type&quot;: &quot;Feature&quot;}, {&quot;geometry&quot;: {&quot;coordinates&quot;: [15.90666, 40.28457], &quot;type&quot;: &quot;Point&quot;}, &quot;properties&quot;: {&quot;country&quot;: &quot;Italy&quot;, &quot;id&quot;: 0, &quot;name&quot;: &quot;Grumentum&quot;, &quot;source&quot;: &quot;geonames&quot;, &quot;sourceName&quot;: &quot;Chiesa di Santa Maria Assunta, Grumentum&quot;, &quot;type&quot;: &quot;CH&quot;}, &quot;type&quot;: &quot;Feature&quot;}, {&quot;geometry&quot;: {&quot;coordinates&quot;: [15.9167, 40.2833], &quot;type&quot;: &quot;Point&quot;}, &quot;properties&quot;: {&quot;country&quot;: &quot;IT&quot;, &quot;id&quot;: 0, &quot;name&quot;: &quot;Grumentum&quot;, &quot;source&quot;: &quot;whg&quot;, &quot;sourceName&quot;: &quot;Grumento&quot;, &quot;type&quot;: &quot;deserted settlements&quot;}, &quot;type&quot;: &quot;Feature&quot;}], &quot;type&quot;: &quot;FeatureCollection&quot;});\n",
       "\n",
       "        \n",
       "    \n",
       "    geo_json_6bb08489caa384592d0b3036822bed38.bindTooltip(\n",
       "    function(layer){\n",
       "    let div = L.DomUtil.create(&#x27;div&#x27;);\n",
       "    \n",
       "    let handleObject = feature=&gt;typeof(feature)==&#x27;object&#x27; ? JSON.stringify(feature) : feature;\n",
       "    let fields = [&quot;name&quot;, &quot;source&quot;];\n",
       "    let aliases = [&quot;name&quot;, &quot;source&quot;];\n",
       "    let table = &#x27;&lt;table&gt;&#x27; +\n",
       "        String(\n",
       "        fields.map(\n",
       "        (v,i)=&gt;\n",
       "        `&lt;tr&gt;\n",
       "            &lt;th&gt;${aliases[i].toLocaleString()}&lt;/th&gt;\n",
       "            \n",
       "            &lt;td&gt;${handleObject(layer.feature.properties[v]).toLocaleString()}&lt;/td&gt;\n",
       "        &lt;/tr&gt;`).join(&#x27;&#x27;))\n",
       "    +&#x27;&lt;/table&gt;&#x27;;\n",
       "    div.innerHTML=table;\n",
       "    \n",
       "    return div\n",
       "    }\n",
       "    ,{&quot;className&quot;: &quot;foliumtooltip&quot;, &quot;sticky&quot;: true});\n",
       "                     \n",
       "&lt;/script&gt;\" style=\"position:absolute;width:100%;height:100%;left:0;top:0;border:none !important;\" allowfullscreen webkitallowfullscreen mozallowfullscreen></iframe></div></div>"
      ],
      "text/plain": [
       "<folium.folium.Map at 0x163885970>"
      ]
     },
     "execution_count": 67,
     "metadata": {},
     "output_type": "execute_result"
    }
   ],
   "source": [
    "geocoder = Geocoder(sources=['nominatim', 'geonames', 'whg'], max_rows=20)\n",
    "doc = geocoder('Grumentum')\n",
    "doc.get_folium_map()"
   ]
  },
  {
   "cell_type": "markdown",
   "metadata": {},
   "source": [
    "#### 7.2.6 Geoparsing 'Grumentum'"
   ]
  },
  {
   "cell_type": "code",
   "execution_count": 83,
   "metadata": {},
   "outputs": [
    {
     "data": {
      "text/html": [
       "<span class=\"tex2jax_ignore\"><div class=\"entities\" style=\"line-height: 2.5; direction: ltr\">\n",
       "<mark class=\"entity\" style=\"background: #ff9561; padding: 0.45em 0.6em; margin: 0 0.25em; line-height: 1; border-radius: 0.35em;\">\n",
       "    GRUMENTUM\n",
       "    <span style=\"font-size: 0.8em; font-weight: bold; line-height: 1; border-radius: 0.35em; vertical-align: middle; margin-left: 0.5rem\">LOC</span>\n",
       "</mark>\n",
       " , ( \n",
       "<mark class=\"entity\" style=\"background: #ddd; padding: 0.45em 0.6em; margin: 0 0.25em; line-height: 1; border-radius: 0.35em;\">\n",
       "    Géog\n",
       "    <span style=\"font-size: 0.8em; font-weight: bold; line-height: 1; border-radius: 0.35em; vertical-align: middle; margin-left: 0.5rem\">MISC</span>\n",
       "</mark>\n",
       " . anc . ) petite ville de la grande Grece dans la \n",
       "<mark class=\"entity\" style=\"background: #ddd; padding: 0.45em 0.6em; margin: 0 0.25em; line-height: 1; border-radius: 0.35em;\">\n",
       "    Lucanie\n",
       "    <span style=\"font-size: 0.8em; font-weight: bold; line-height: 1; border-radius: 0.35em; vertical-align: middle; margin-left: 0.5rem\">MISC</span>\n",
       "</mark>\n",
       " , vers le golphe de \n",
       "<mark class=\"entity\" style=\"background: #ff9561; padding: 0.45em 0.6em; margin: 0 0.25em; line-height: 1; border-radius: 0.35em;\">\n",
       "    Tarente\n",
       "    <span style=\"font-size: 0.8em; font-weight: bold; line-height: 1; border-radius: 0.35em; vertical-align: middle; margin-left: 0.5rem\">LOC</span>\n",
       "</mark>\n",
       " . \n",
       "<mark class=\"entity\" style=\"background: #ddd; padding: 0.45em 0.6em; margin: 0 0.25em; line-height: 1; border-radius: 0.35em;\">\n",
       "    Titus Sempronius\n",
       "    <span style=\"font-size: 0.8em; font-weight: bold; line-height: 1; border-radius: 0.35em; vertical-align: middle; margin-left: 0.5rem\">MISC</span>\n",
       "</mark>\n",
       " y remporta la victoire sur \n",
       "<mark class=\"entity\" style=\"background: #ff9561; padding: 0.45em 0.6em; margin: 0 0.25em; line-height: 1; border-radius: 0.35em;\">\n",
       "    Hannon\n",
       "    <span style=\"font-size: 0.8em; font-weight: bold; line-height: 1; border-radius: 0.35em; vertical-align: middle; margin-left: 0.5rem\">LOC</span>\n",
       "</mark>\n",
       " , au rapport de \n",
       "<mark class=\"entity\" style=\"background: #ddd; padding: 0.45em 0.6em; margin: 0 0.25em; line-height: 1; border-radius: 0.35em;\">\n",
       "    Tite-Live\n",
       "    <span style=\"font-size: 0.8em; font-weight: bold; line-height: 1; border-radius: 0.35em; vertical-align: middle; margin-left: 0.5rem\">MISC</span>\n",
       "</mark>\n",
       " ; \n",
       "<mark class=\"entity\" style=\"background: #aa9cfc; padding: 0.45em 0.6em; margin: 0 0.25em; line-height: 1; border-radius: 0.35em;\">\n",
       "    Ptolomée\n",
       "    <span style=\"font-size: 0.8em; font-weight: bold; line-height: 1; border-radius: 0.35em; vertical-align: middle; margin-left: 0.5rem\">PERSON</span>\n",
       "</mark>\n",
       " , dans sa géographie , \n",
       "<mark class=\"entity\" style=\"background: #aa9cfc; padding: 0.45em 0.6em; margin: 0 0.25em; line-height: 1; border-radius: 0.35em;\">\n",
       "    Pline\n",
       "    <span style=\"font-size: 0.8em; font-weight: bold; line-height: 1; border-radius: 0.35em; vertical-align: middle; margin-left: 0.5rem\">PERSON</span>\n",
       "</mark>\n",
       " dans son histoire naturelle , &amp; \n",
       "<mark class=\"entity\" style=\"background: #aa9cfc; padding: 0.45em 0.6em; margin: 0 0.25em; line-height: 1; border-radius: 0.35em;\">\n",
       "    Antonin\n",
       "    <span style=\"font-size: 0.8em; font-weight: bold; line-height: 1; border-radius: 0.35em; vertical-align: middle; margin-left: 0.5rem\">PERSON</span>\n",
       "</mark>\n",
       " dans son itinéraire , parlent aussi de cette ville . C' est la Saponara de nos jours , qui est dans le diocèse de \n",
       "<mark class=\"entity\" style=\"background: #ddd; padding: 0.45em 0.6em; margin: 0 0.25em; line-height: 1; border-radius: 0.35em;\">\n",
       "    Massico\n",
       "    <span style=\"font-size: 0.8em; font-weight: bold; line-height: 1; border-radius: 0.35em; vertical-align: middle; margin-left: 0.5rem\">MISC</span>\n",
       "</mark>\n",
       " , ainsi qu' on l' a démontré par des inscriptions &amp; d' autres monumens qui ont été trouvés aux environs . Voyez Saponara . ( D. J. ) </div></span>"
      ],
      "text/plain": [
       "<IPython.core.display.HTML object>"
      ]
     },
     "metadata": {},
     "output_type": "display_data"
    },
    {
     "data": {
      "text/html": [
       "<div style=\"width:100%;\"><div style=\"position:relative;width:100%;height:0;padding-bottom:60%;\"><span style=\"color:#565656\">Make this Notebook Trusted to load map: File -> Trust Notebook</span><iframe srcdoc=\"&lt;!DOCTYPE html&gt;\n",
       "&lt;head&gt;    \n",
       "    &lt;meta http-equiv=&quot;content-type&quot; content=&quot;text/html; charset=UTF-8&quot; /&gt;\n",
       "    \n",
       "        &lt;script&gt;\n",
       "            L_NO_TOUCH = false;\n",
       "            L_DISABLE_3D = false;\n",
       "        &lt;/script&gt;\n",
       "    \n",
       "    &lt;style&gt;html, body {width: 100%;height: 100%;margin: 0;padding: 0;}&lt;/style&gt;\n",
       "    &lt;style&gt;#map {position:absolute;top:0;bottom:0;right:0;left:0;}&lt;/style&gt;\n",
       "    &lt;script src=&quot;https://cdn.jsdelivr.net/npm/leaflet@1.6.0/dist/leaflet.js&quot;&gt;&lt;/script&gt;\n",
       "    &lt;script src=&quot;https://code.jquery.com/jquery-1.12.4.min.js&quot;&gt;&lt;/script&gt;\n",
       "    &lt;script src=&quot;https://maxcdn.bootstrapcdn.com/bootstrap/3.2.0/js/bootstrap.min.js&quot;&gt;&lt;/script&gt;\n",
       "    &lt;script src=&quot;https://cdnjs.cloudflare.com/ajax/libs/Leaflet.awesome-markers/2.0.2/leaflet.awesome-markers.js&quot;&gt;&lt;/script&gt;\n",
       "    &lt;link rel=&quot;stylesheet&quot; href=&quot;https://cdn.jsdelivr.net/npm/leaflet@1.6.0/dist/leaflet.css&quot;/&gt;\n",
       "    &lt;link rel=&quot;stylesheet&quot; href=&quot;https://maxcdn.bootstrapcdn.com/bootstrap/3.2.0/css/bootstrap.min.css&quot;/&gt;\n",
       "    &lt;link rel=&quot;stylesheet&quot; href=&quot;https://maxcdn.bootstrapcdn.com/bootstrap/3.2.0/css/bootstrap-theme.min.css&quot;/&gt;\n",
       "    &lt;link rel=&quot;stylesheet&quot; href=&quot;https://maxcdn.bootstrapcdn.com/font-awesome/4.6.3/css/font-awesome.min.css&quot;/&gt;\n",
       "    &lt;link rel=&quot;stylesheet&quot; href=&quot;https://cdnjs.cloudflare.com/ajax/libs/Leaflet.awesome-markers/2.0.2/leaflet.awesome-markers.css&quot;/&gt;\n",
       "    &lt;link rel=&quot;stylesheet&quot; href=&quot;https://cdn.jsdelivr.net/gh/python-visualization/folium/folium/templates/leaflet.awesome.rotate.min.css&quot;/&gt;\n",
       "    \n",
       "            &lt;meta name=&quot;viewport&quot; content=&quot;width=device-width,\n",
       "                initial-scale=1.0, maximum-scale=1.0, user-scalable=no&quot; /&gt;\n",
       "            &lt;style&gt;\n",
       "                #map_5a28ef1b7e5ed198304f8dfa28fc55e9 {\n",
       "                    position: relative;\n",
       "                    width: 100.0%;\n",
       "                    height: 100.0%;\n",
       "                    left: 0.0%;\n",
       "                    top: 0.0%;\n",
       "                }\n",
       "            &lt;/style&gt;\n",
       "        \n",
       "    \n",
       "                    &lt;style&gt;\n",
       "                        .foliumtooltip {\n",
       "                            \n",
       "                        }\n",
       "                       .foliumtooltip table{\n",
       "                            margin: auto;\n",
       "                        }\n",
       "                        .foliumtooltip tr{\n",
       "                            text-align: left;\n",
       "                        }\n",
       "                        .foliumtooltip th{\n",
       "                            padding: 2px; padding-right: 8px;\n",
       "                        }\n",
       "                    &lt;/style&gt;\n",
       "            \n",
       "&lt;/head&gt;\n",
       "&lt;body&gt;    \n",
       "    \n",
       "            &lt;div class=&quot;folium-map&quot; id=&quot;map_5a28ef1b7e5ed198304f8dfa28fc55e9&quot; &gt;&lt;/div&gt;\n",
       "        \n",
       "&lt;/body&gt;\n",
       "&lt;script&gt;    \n",
       "    \n",
       "            var map_5a28ef1b7e5ed198304f8dfa28fc55e9 = L.map(\n",
       "                &quot;map_5a28ef1b7e5ed198304f8dfa28fc55e9&quot;,\n",
       "                {\n",
       "                    center: [0, 0],\n",
       "                    crs: L.CRS.EPSG3857,\n",
       "                    zoom: 1,\n",
       "                    zoomControl: true,\n",
       "                    preferCanvas: false,\n",
       "                }\n",
       "            );\n",
       "\n",
       "            \n",
       "\n",
       "        \n",
       "    \n",
       "            var tile_layer_f186dfdbe44dcc8c6c5f030f089e4fdf = L.tileLayer(\n",
       "                &quot;https://{s}.tile.openstreetmap.org/{z}/{x}/{y}.png&quot;,\n",
       "                {&quot;attribution&quot;: &quot;Data by \\u0026copy; \\u003ca href=\\&quot;http://openstreetmap.org\\&quot;\\u003eOpenStreetMap\\u003c/a\\u003e, under \\u003ca href=\\&quot;http://www.openstreetmap.org/copyright\\&quot;\\u003eODbL\\u003c/a\\u003e.&quot;, &quot;detectRetina&quot;: false, &quot;maxNativeZoom&quot;: 18, &quot;maxZoom&quot;: 18, &quot;minZoom&quot;: 0, &quot;noWrap&quot;: false, &quot;opacity&quot;: 1, &quot;subdomains&quot;: &quot;abc&quot;, &quot;tms&quot;: false}\n",
       "            ).addTo(map_5a28ef1b7e5ed198304f8dfa28fc55e9);\n",
       "        \n",
       "    \n",
       "            map_5a28ef1b7e5ed198304f8dfa28fc55e9.fitBounds(\n",
       "                [[37.6167, -94.4833], [50.866667, 15.9167]],\n",
       "                {}\n",
       "            );\n",
       "        \n",
       "    \n",
       "\n",
       "        function geo_json_aef43320aa82c9607d2a4112169fe934_onEachFeature(feature, layer) {\n",
       "            layer.on({\n",
       "            });\n",
       "        };\n",
       "        var geo_json_aef43320aa82c9607d2a4112169fe934 = L.geoJson(null, {\n",
       "                onEachFeature: geo_json_aef43320aa82c9607d2a4112169fe934_onEachFeature,\n",
       "            \n",
       "        });\n",
       "\n",
       "        function geo_json_aef43320aa82c9607d2a4112169fe934_add (data) {\n",
       "            geo_json_aef43320aa82c9607d2a4112169fe934\n",
       "                .addData(data)\n",
       "                .addTo(map_5a28ef1b7e5ed198304f8dfa28fc55e9);\n",
       "        }\n",
       "            geo_json_aef43320aa82c9607d2a4112169fe934_add({&quot;features&quot;: [{&quot;geometry&quot;: {&quot;coordinates&quot;: [15.9167, 40.2833], &quot;type&quot;: &quot;Point&quot;}, &quot;properties&quot;: {&quot;country&quot;: &quot;IT&quot;, &quot;id&quot;: &quot;en.1&quot;, &quot;name&quot;: &quot;GRUMENTUM&quot;, &quot;source&quot;: &quot;whg&quot;, &quot;sourceName&quot;: &quot;Grumento&quot;, &quot;type&quot;: &quot;deserted settlements&quot;}, &quot;type&quot;: &quot;Feature&quot;}, {&quot;geometry&quot;: {&quot;coordinates&quot;: [-2.083333, 50.866667], &quot;type&quot;: &quot;Point&quot;}, &quot;properties&quot;: {&quot;country&quot;: &quot;GB&quot;, &quot;id&quot;: &quot;en.9&quot;, &quot;name&quot;: &quot;Tarente&quot;, &quot;source&quot;: &quot;whg&quot;, &quot;sourceName&quot;: &quot;Tarrant Monkton&quot;, &quot;type&quot;: &quot;inhabited places&quot;}, &quot;type&quot;: &quot;Feature&quot;}, {&quot;geometry&quot;: {&quot;coordinates&quot;: [-94.4833, 37.6167], &quot;type&quot;: &quot;Point&quot;}, &quot;properties&quot;: {&quot;country&quot;: &quot;US&quot;, &quot;id&quot;: &quot;en.13&quot;, &quot;name&quot;: &quot;Hannon&quot;, &quot;source&quot;: &quot;whg&quot;, &quot;sourceName&quot;: &quot;Hannon&quot;, &quot;type&quot;: &quot;inhabited places&quot;}, &quot;type&quot;: &quot;Feature&quot;}], &quot;type&quot;: &quot;FeatureCollection&quot;});\n",
       "\n",
       "        \n",
       "    \n",
       "    geo_json_aef43320aa82c9607d2a4112169fe934.bindTooltip(\n",
       "    function(layer){\n",
       "    let div = L.DomUtil.create(&#x27;div&#x27;);\n",
       "    \n",
       "    let handleObject = feature=&gt;typeof(feature)==&#x27;object&#x27; ? JSON.stringify(feature) : feature;\n",
       "    let fields = [&quot;name&quot;, &quot;source&quot;];\n",
       "    let aliases = [&quot;name&quot;, &quot;source&quot;];\n",
       "    let table = &#x27;&lt;table&gt;&#x27; +\n",
       "        String(\n",
       "        fields.map(\n",
       "        (v,i)=&gt;\n",
       "        `&lt;tr&gt;\n",
       "            &lt;th&gt;${aliases[i].toLocaleString()}&lt;/th&gt;\n",
       "            \n",
       "            &lt;td&gt;${handleObject(layer.feature.properties[v]).toLocaleString()}&lt;/td&gt;\n",
       "        &lt;/tr&gt;`).join(&#x27;&#x27;))\n",
       "    +&#x27;&lt;/table&gt;&#x27;;\n",
       "    div.innerHTML=table;\n",
       "    \n",
       "    return div\n",
       "    }\n",
       "    ,{&quot;className&quot;: &quot;foliumtooltip&quot;, &quot;sticky&quot;: true});\n",
       "                     \n",
       "&lt;/script&gt;\" style=\"position:absolute;width:100%;height:100%;left:0;top:0;border:none !important;\" allowfullscreen webkitallowfullscreen mozallowfullscreen></iframe></div></div>"
      ],
      "text/plain": [
       "<folium.folium.Map at 0x163872670>"
      ]
     },
     "execution_count": 83,
     "metadata": {},
     "output_type": "execute_result"
    }
   ],
   "source": [
    "geoparser = Geoparser(sources=['whg'])\n",
    "doc = geoparser(content)\n",
    "\n",
    "displacy.render(doc.to_spacy_doc(), style=\"ent\", jupyter=True)\n",
    "\n",
    "doc.get_folium_map()"
   ]
  },
  {
   "cell_type": "code",
   "execution_count": 87,
   "metadata": {},
   "outputs": [
    {
     "data": {
      "text/plain": [
       "['GRUMENTUM',\n",
       " 'Géog',\n",
       " 'Lucanie',\n",
       " 'Tarente',\n",
       " 'Titus Sempronius',\n",
       " 'Hannon',\n",
       " 'Tite-Live',\n",
       " 'Massico']"
      ]
     },
     "execution_count": 87,
     "metadata": {},
     "output_type": "execute_result"
    }
   ],
   "source": [
    "places = [d.text for d in doc.named_entities if d.tag == 'place' or d.tag == 'unknown']\n",
    "places"
   ]
  },
  {
   "cell_type": "markdown",
   "metadata": {},
   "source": [
    "Now, we use directly the `Geocoder` class as we already have done the geotagging and we get the list of named entities."
   ]
  },
  {
   "cell_type": "code",
   "execution_count": 88,
   "metadata": {},
   "outputs": [
    {
     "data": {
      "text/html": [
       "<div style=\"width:100%;\"><div style=\"position:relative;width:100%;height:0;padding-bottom:60%;\"><span style=\"color:#565656\">Make this Notebook Trusted to load map: File -> Trust Notebook</span><iframe srcdoc=\"&lt;!DOCTYPE html&gt;\n",
       "&lt;head&gt;    \n",
       "    &lt;meta http-equiv=&quot;content-type&quot; content=&quot;text/html; charset=UTF-8&quot; /&gt;\n",
       "    \n",
       "        &lt;script&gt;\n",
       "            L_NO_TOUCH = false;\n",
       "            L_DISABLE_3D = false;\n",
       "        &lt;/script&gt;\n",
       "    \n",
       "    &lt;style&gt;html, body {width: 100%;height: 100%;margin: 0;padding: 0;}&lt;/style&gt;\n",
       "    &lt;style&gt;#map {position:absolute;top:0;bottom:0;right:0;left:0;}&lt;/style&gt;\n",
       "    &lt;script src=&quot;https://cdn.jsdelivr.net/npm/leaflet@1.6.0/dist/leaflet.js&quot;&gt;&lt;/script&gt;\n",
       "    &lt;script src=&quot;https://code.jquery.com/jquery-1.12.4.min.js&quot;&gt;&lt;/script&gt;\n",
       "    &lt;script src=&quot;https://maxcdn.bootstrapcdn.com/bootstrap/3.2.0/js/bootstrap.min.js&quot;&gt;&lt;/script&gt;\n",
       "    &lt;script src=&quot;https://cdnjs.cloudflare.com/ajax/libs/Leaflet.awesome-markers/2.0.2/leaflet.awesome-markers.js&quot;&gt;&lt;/script&gt;\n",
       "    &lt;link rel=&quot;stylesheet&quot; href=&quot;https://cdn.jsdelivr.net/npm/leaflet@1.6.0/dist/leaflet.css&quot;/&gt;\n",
       "    &lt;link rel=&quot;stylesheet&quot; href=&quot;https://maxcdn.bootstrapcdn.com/bootstrap/3.2.0/css/bootstrap.min.css&quot;/&gt;\n",
       "    &lt;link rel=&quot;stylesheet&quot; href=&quot;https://maxcdn.bootstrapcdn.com/bootstrap/3.2.0/css/bootstrap-theme.min.css&quot;/&gt;\n",
       "    &lt;link rel=&quot;stylesheet&quot; href=&quot;https://maxcdn.bootstrapcdn.com/font-awesome/4.6.3/css/font-awesome.min.css&quot;/&gt;\n",
       "    &lt;link rel=&quot;stylesheet&quot; href=&quot;https://cdnjs.cloudflare.com/ajax/libs/Leaflet.awesome-markers/2.0.2/leaflet.awesome-markers.css&quot;/&gt;\n",
       "    &lt;link rel=&quot;stylesheet&quot; href=&quot;https://cdn.jsdelivr.net/gh/python-visualization/folium/folium/templates/leaflet.awesome.rotate.min.css&quot;/&gt;\n",
       "    \n",
       "            &lt;meta name=&quot;viewport&quot; content=&quot;width=device-width,\n",
       "                initial-scale=1.0, maximum-scale=1.0, user-scalable=no&quot; /&gt;\n",
       "            &lt;style&gt;\n",
       "                #map_8950b591d08099f7b9a6e7ac3dfe94b3 {\n",
       "                    position: relative;\n",
       "                    width: 100.0%;\n",
       "                    height: 100.0%;\n",
       "                    left: 0.0%;\n",
       "                    top: 0.0%;\n",
       "                }\n",
       "            &lt;/style&gt;\n",
       "        \n",
       "    \n",
       "                    &lt;style&gt;\n",
       "                        .foliumtooltip {\n",
       "                            \n",
       "                        }\n",
       "                       .foliumtooltip table{\n",
       "                            margin: auto;\n",
       "                        }\n",
       "                        .foliumtooltip tr{\n",
       "                            text-align: left;\n",
       "                        }\n",
       "                        .foliumtooltip th{\n",
       "                            padding: 2px; padding-right: 8px;\n",
       "                        }\n",
       "                    &lt;/style&gt;\n",
       "            \n",
       "&lt;/head&gt;\n",
       "&lt;body&gt;    \n",
       "    \n",
       "            &lt;div class=&quot;folium-map&quot; id=&quot;map_8950b591d08099f7b9a6e7ac3dfe94b3&quot; &gt;&lt;/div&gt;\n",
       "        \n",
       "&lt;/body&gt;\n",
       "&lt;script&gt;    \n",
       "    \n",
       "            var map_8950b591d08099f7b9a6e7ac3dfe94b3 = L.map(\n",
       "                &quot;map_8950b591d08099f7b9a6e7ac3dfe94b3&quot;,\n",
       "                {\n",
       "                    center: [0, 0],\n",
       "                    crs: L.CRS.EPSG3857,\n",
       "                    zoom: 1,\n",
       "                    zoomControl: true,\n",
       "                    preferCanvas: false,\n",
       "                }\n",
       "            );\n",
       "\n",
       "            \n",
       "\n",
       "        \n",
       "    \n",
       "            var tile_layer_29f5f38af979e7a6c861f6501cca495e = L.tileLayer(\n",
       "                &quot;https://{s}.tile.openstreetmap.org/{z}/{x}/{y}.png&quot;,\n",
       "                {&quot;attribution&quot;: &quot;Data by \\u0026copy; \\u003ca href=\\&quot;http://openstreetmap.org\\&quot;\\u003eOpenStreetMap\\u003c/a\\u003e, under \\u003ca href=\\&quot;http://www.openstreetmap.org/copyright\\&quot;\\u003eODbL\\u003c/a\\u003e.&quot;, &quot;detectRetina&quot;: false, &quot;maxNativeZoom&quot;: 18, &quot;maxZoom&quot;: 18, &quot;minZoom&quot;: 0, &quot;noWrap&quot;: false, &quot;opacity&quot;: 1, &quot;subdomains&quot;: &quot;abc&quot;, &quot;tms&quot;: false}\n",
       "            ).addTo(map_8950b591d08099f7b9a6e7ac3dfe94b3);\n",
       "        \n",
       "    \n",
       "            map_8950b591d08099f7b9a6e7ac3dfe94b3.fitBounds(\n",
       "                [[37.622545, -94.494121], [50.077964, 17.08058]],\n",
       "                {}\n",
       "            );\n",
       "        \n",
       "    \n",
       "\n",
       "        function geo_json_8ac6760791e8fc042e74bcb98d4cb907_onEachFeature(feature, layer) {\n",
       "            layer.on({\n",
       "            });\n",
       "        };\n",
       "        var geo_json_8ac6760791e8fc042e74bcb98d4cb907 = L.geoJson(null, {\n",
       "                onEachFeature: geo_json_8ac6760791e8fc042e74bcb98d4cb907_onEachFeature,\n",
       "            \n",
       "        });\n",
       "\n",
       "        function geo_json_8ac6760791e8fc042e74bcb98d4cb907_add (data) {\n",
       "            geo_json_8ac6760791e8fc042e74bcb98d4cb907\n",
       "                .addData(data)\n",
       "                .addTo(map_8950b591d08099f7b9a6e7ac3dfe94b3);\n",
       "        }\n",
       "            geo_json_8ac6760791e8fc042e74bcb98d4cb907_add({&quot;features&quot;: [{&quot;geometry&quot;: {&quot;coordinates&quot;: [15.907311, 40.28558], &quot;type&quot;: &quot;Point&quot;}, &quot;properties&quot;: {&quot;country&quot;: &quot;Italia&quot;, &quot;id&quot;: 0, &quot;name&quot;: &quot;GRUMENTUM&quot;, &quot;source&quot;: &quot;nominatim&quot;, &quot;sourceName&quot;: &quot;Parco Archeologico di Grumentum, SPEXSS103, Grumento Nova, Potenza, Basilicata, 85047, Italia&quot;, &quot;type&quot;: &quot;archaeological_site&quot;}, &quot;type&quot;: &quot;Feature&quot;}, {&quot;geometry&quot;: {&quot;coordinates&quot;: [14.450349, 50.077964], &quot;type&quot;: &quot;Point&quot;}, &quot;properties&quot;: {&quot;country&quot;: &quot;\\u010cesko&quot;, &quot;id&quot;: 0, &quot;name&quot;: &quot;G\\u00e9og&quot;, &quot;source&quot;: &quot;nominatim&quot;, &quot;sourceName&quot;: &quot;n\\u00e1m\\u011bst\\u00ed Ji\\u0159\\u00edho z\\u00a0Pod\\u011bbrad, Vinohrady, Hlavn\\u00ed m\\u011bsto Praha, Praha, \\u010cesko&quot;, &quot;type&quot;: &quot;square&quot;}, &quot;type&quot;: &quot;Feature&quot;}, {&quot;geometry&quot;: {&quot;coordinates&quot;: [16.081953, 40.500571], &quot;type&quot;: &quot;Point&quot;}, &quot;properties&quot;: {&quot;country&quot;: &quot;Italia&quot;, &quot;id&quot;: 0, &quot;name&quot;: &quot;Lucanie&quot;, &quot;source&quot;: &quot;nominatim&quot;, &quot;sourceName&quot;: &quot;Basilicata, Italia&quot;, &quot;type&quot;: &quot;administrative&quot;}, &quot;type&quot;: &quot;Feature&quot;}, {&quot;geometry&quot;: {&quot;coordinates&quot;: [17.08058, 40.548816], &quot;type&quot;: &quot;Point&quot;}, &quot;properties&quot;: {&quot;country&quot;: &quot;Italia&quot;, &quot;id&quot;: 0, &quot;name&quot;: &quot;Tarente&quot;, &quot;source&quot;: &quot;nominatim&quot;, &quot;sourceName&quot;: &quot;Taranto, Puglia, Italia&quot;, &quot;type&quot;: &quot;administrative&quot;}, &quot;type&quot;: &quot;Feature&quot;}, {&quot;geometry&quot;: {&quot;coordinates&quot;: [-94.494121, 37.622545], &quot;type&quot;: &quot;Point&quot;}, &quot;properties&quot;: {&quot;country&quot;: &quot;United States&quot;, &quot;id&quot;: 0, &quot;name&quot;: &quot;Hannon&quot;, &quot;source&quot;: &quot;nominatim&quot;, &quot;sourceName&quot;: &quot;Hannon, Barton County, Missouri, United States&quot;, &quot;type&quot;: &quot;hamlet&quot;}, &quot;type&quot;: &quot;Feature&quot;}, {&quot;geometry&quot;: {&quot;coordinates&quot;: [7.70196, 48.582378], &quot;type&quot;: &quot;Point&quot;}, &quot;properties&quot;: {&quot;country&quot;: &quot;France&quot;, &quot;id&quot;: 0, &quot;name&quot;: &quot;Tite-Live&quot;, &quot;source&quot;: &quot;nominatim&quot;, &quot;sourceName&quot;: &quot;Rue Tite-Live, Poteries, Strasbourg, Bas-Rhin, Grand Est, France m\\u00e9tropolitaine, 67200, France&quot;, &quot;type&quot;: &quot;residential&quot;}, &quot;type&quot;: &quot;Feature&quot;}, {&quot;geometry&quot;: {&quot;coordinates&quot;: [13.949453, 41.165122], &quot;type&quot;: &quot;Point&quot;}, &quot;properties&quot;: {&quot;country&quot;: &quot;Italia&quot;, &quot;id&quot;: 0, &quot;name&quot;: &quot;Massico&quot;, &quot;source&quot;: &quot;nominatim&quot;, &quot;sourceName&quot;: &quot;Falciano del Massico, Caserta, Campania, Italia&quot;, &quot;type&quot;: &quot;administrative&quot;}, &quot;type&quot;: &quot;Feature&quot;}], &quot;type&quot;: &quot;FeatureCollection&quot;});\n",
       "\n",
       "        \n",
       "    \n",
       "    geo_json_8ac6760791e8fc042e74bcb98d4cb907.bindTooltip(\n",
       "    function(layer){\n",
       "    let div = L.DomUtil.create(&#x27;div&#x27;);\n",
       "    \n",
       "    let handleObject = feature=&gt;typeof(feature)==&#x27;object&#x27; ? JSON.stringify(feature) : feature;\n",
       "    let fields = [&quot;name&quot;, &quot;source&quot;];\n",
       "    let aliases = [&quot;name&quot;, &quot;source&quot;];\n",
       "    let table = &#x27;&lt;table&gt;&#x27; +\n",
       "        String(\n",
       "        fields.map(\n",
       "        (v,i)=&gt;\n",
       "        `&lt;tr&gt;\n",
       "            &lt;th&gt;${aliases[i].toLocaleString()}&lt;/th&gt;\n",
       "            \n",
       "            &lt;td&gt;${handleObject(layer.feature.properties[v]).toLocaleString()}&lt;/td&gt;\n",
       "        &lt;/tr&gt;`).join(&#x27;&#x27;))\n",
       "    +&#x27;&lt;/table&gt;&#x27;;\n",
       "    div.innerHTML=table;\n",
       "    \n",
       "    return div\n",
       "    }\n",
       "    ,{&quot;className&quot;: &quot;foliumtooltip&quot;, &quot;sticky&quot;: true});\n",
       "                     \n",
       "&lt;/script&gt;\" style=\"position:absolute;width:100%;height:100%;left:0;top:0;border:none !important;\" allowfullscreen webkitallowfullscreen mozallowfullscreen></iframe></div></div>"
      ],
      "text/plain": [
       "<folium.folium.Map at 0x1639dc670>"
      ]
     },
     "execution_count": 88,
     "metadata": {},
     "output_type": "execute_result"
    }
   ],
   "source": [
    "geocoder = Geocoder(sources=['nominatim'])\n",
    "doc = geocoder(places)\n",
    "doc.get_folium_map()"
   ]
  },
  {
   "cell_type": "code",
   "execution_count": 89,
   "metadata": {},
   "outputs": [
    {
     "data": {
      "text/html": [
       "<div style=\"width:100%;\"><div style=\"position:relative;width:100%;height:0;padding-bottom:60%;\"><span style=\"color:#565656\">Make this Notebook Trusted to load map: File -> Trust Notebook</span><iframe srcdoc=\"&lt;!DOCTYPE html&gt;\n",
       "&lt;head&gt;    \n",
       "    &lt;meta http-equiv=&quot;content-type&quot; content=&quot;text/html; charset=UTF-8&quot; /&gt;\n",
       "    \n",
       "        &lt;script&gt;\n",
       "            L_NO_TOUCH = false;\n",
       "            L_DISABLE_3D = false;\n",
       "        &lt;/script&gt;\n",
       "    \n",
       "    &lt;style&gt;html, body {width: 100%;height: 100%;margin: 0;padding: 0;}&lt;/style&gt;\n",
       "    &lt;style&gt;#map {position:absolute;top:0;bottom:0;right:0;left:0;}&lt;/style&gt;\n",
       "    &lt;script src=&quot;https://cdn.jsdelivr.net/npm/leaflet@1.6.0/dist/leaflet.js&quot;&gt;&lt;/script&gt;\n",
       "    &lt;script src=&quot;https://code.jquery.com/jquery-1.12.4.min.js&quot;&gt;&lt;/script&gt;\n",
       "    &lt;script src=&quot;https://maxcdn.bootstrapcdn.com/bootstrap/3.2.0/js/bootstrap.min.js&quot;&gt;&lt;/script&gt;\n",
       "    &lt;script src=&quot;https://cdnjs.cloudflare.com/ajax/libs/Leaflet.awesome-markers/2.0.2/leaflet.awesome-markers.js&quot;&gt;&lt;/script&gt;\n",
       "    &lt;link rel=&quot;stylesheet&quot; href=&quot;https://cdn.jsdelivr.net/npm/leaflet@1.6.0/dist/leaflet.css&quot;/&gt;\n",
       "    &lt;link rel=&quot;stylesheet&quot; href=&quot;https://maxcdn.bootstrapcdn.com/bootstrap/3.2.0/css/bootstrap.min.css&quot;/&gt;\n",
       "    &lt;link rel=&quot;stylesheet&quot; href=&quot;https://maxcdn.bootstrapcdn.com/bootstrap/3.2.0/css/bootstrap-theme.min.css&quot;/&gt;\n",
       "    &lt;link rel=&quot;stylesheet&quot; href=&quot;https://maxcdn.bootstrapcdn.com/font-awesome/4.6.3/css/font-awesome.min.css&quot;/&gt;\n",
       "    &lt;link rel=&quot;stylesheet&quot; href=&quot;https://cdnjs.cloudflare.com/ajax/libs/Leaflet.awesome-markers/2.0.2/leaflet.awesome-markers.css&quot;/&gt;\n",
       "    &lt;link rel=&quot;stylesheet&quot; href=&quot;https://cdn.jsdelivr.net/gh/python-visualization/folium/folium/templates/leaflet.awesome.rotate.min.css&quot;/&gt;\n",
       "    \n",
       "            &lt;meta name=&quot;viewport&quot; content=&quot;width=device-width,\n",
       "                initial-scale=1.0, maximum-scale=1.0, user-scalable=no&quot; /&gt;\n",
       "            &lt;style&gt;\n",
       "                #map_c24beef299fe07bf87ef1a041f99abf0 {\n",
       "                    position: relative;\n",
       "                    width: 100.0%;\n",
       "                    height: 100.0%;\n",
       "                    left: 0.0%;\n",
       "                    top: 0.0%;\n",
       "                }\n",
       "            &lt;/style&gt;\n",
       "        \n",
       "    \n",
       "                    &lt;style&gt;\n",
       "                        .foliumtooltip {\n",
       "                            \n",
       "                        }\n",
       "                       .foliumtooltip table{\n",
       "                            margin: auto;\n",
       "                        }\n",
       "                        .foliumtooltip tr{\n",
       "                            text-align: left;\n",
       "                        }\n",
       "                        .foliumtooltip th{\n",
       "                            padding: 2px; padding-right: 8px;\n",
       "                        }\n",
       "                    &lt;/style&gt;\n",
       "            \n",
       "&lt;/head&gt;\n",
       "&lt;body&gt;    \n",
       "    \n",
       "            &lt;div class=&quot;folium-map&quot; id=&quot;map_c24beef299fe07bf87ef1a041f99abf0&quot; &gt;&lt;/div&gt;\n",
       "        \n",
       "&lt;/body&gt;\n",
       "&lt;script&gt;    \n",
       "    \n",
       "            var map_c24beef299fe07bf87ef1a041f99abf0 = L.map(\n",
       "                &quot;map_c24beef299fe07bf87ef1a041f99abf0&quot;,\n",
       "                {\n",
       "                    center: [0, 0],\n",
       "                    crs: L.CRS.EPSG3857,\n",
       "                    zoom: 1,\n",
       "                    zoomControl: true,\n",
       "                    preferCanvas: false,\n",
       "                }\n",
       "            );\n",
       "\n",
       "            \n",
       "\n",
       "        \n",
       "    \n",
       "            var tile_layer_d6e988c5d2a922cc79a3df1bd85c2926 = L.tileLayer(\n",
       "                &quot;https://{s}.tile.openstreetmap.org/{z}/{x}/{y}.png&quot;,\n",
       "                {&quot;attribution&quot;: &quot;Data by \\u0026copy; \\u003ca href=\\&quot;http://openstreetmap.org\\&quot;\\u003eOpenStreetMap\\u003c/a\\u003e, under \\u003ca href=\\&quot;http://www.openstreetmap.org/copyright\\&quot;\\u003eODbL\\u003c/a\\u003e.&quot;, &quot;detectRetina&quot;: false, &quot;maxNativeZoom&quot;: 18, &quot;maxZoom&quot;: 18, &quot;minZoom&quot;: 0, &quot;noWrap&quot;: false, &quot;opacity&quot;: 1, &quot;subdomains&quot;: &quot;abc&quot;, &quot;tms&quot;: false}\n",
       "            ).addTo(map_c24beef299fe07bf87ef1a041f99abf0);\n",
       "        \n",
       "    \n",
       "            map_c24beef299fe07bf87ef1a041f99abf0.fitBounds(\n",
       "                [[-77.83333, 13.91667], [41.16667, 163.63333]],\n",
       "                {}\n",
       "            );\n",
       "        \n",
       "    \n",
       "\n",
       "        function geo_json_7445887b4746a63780440936f8f74ec0_onEachFeature(feature, layer) {\n",
       "            layer.on({\n",
       "            });\n",
       "        };\n",
       "        var geo_json_7445887b4746a63780440936f8f74ec0 = L.geoJson(null, {\n",
       "                onEachFeature: geo_json_7445887b4746a63780440936f8f74ec0_onEachFeature,\n",
       "            \n",
       "        });\n",
       "\n",
       "        function geo_json_7445887b4746a63780440936f8f74ec0_add (data) {\n",
       "            geo_json_7445887b4746a63780440936f8f74ec0\n",
       "                .addData(data)\n",
       "                .addTo(map_c24beef299fe07bf87ef1a041f99abf0);\n",
       "        }\n",
       "            geo_json_7445887b4746a63780440936f8f74ec0_add({&quot;features&quot;: [{&quot;geometry&quot;: {&quot;coordinates&quot;: [15.90707, 40.28522], &quot;type&quot;: &quot;Point&quot;}, &quot;properties&quot;: {&quot;country&quot;: &quot;Italy&quot;, &quot;id&quot;: 0, &quot;name&quot;: &quot;GRUMENTUM&quot;, &quot;source&quot;: &quot;geonames&quot;, &quot;sourceName&quot;: &quot;Grumentum&quot;, &quot;type&quot;: &quot;ANS&quot;}, &quot;type&quot;: &quot;Feature&quot;}, {&quot;geometry&quot;: {&quot;coordinates&quot;: [15.80794, 40.64175], &quot;type&quot;: &quot;Point&quot;}, &quot;properties&quot;: {&quot;country&quot;: &quot;Italy&quot;, &quot;id&quot;: 0, &quot;name&quot;: &quot;Lucanie&quot;, &quot;source&quot;: &quot;geonames&quot;, &quot;sourceName&quot;: &quot;Potenza&quot;, &quot;type&quot;: &quot;PPLA&quot;}, &quot;type&quot;: &quot;Feature&quot;}, {&quot;geometry&quot;: {&quot;coordinates&quot;: [17.24707, 40.46438], &quot;type&quot;: &quot;Point&quot;}, &quot;properties&quot;: {&quot;country&quot;: &quot;Italy&quot;, &quot;id&quot;: 0, &quot;name&quot;: &quot;Tarente&quot;, &quot;source&quot;: &quot;geonames&quot;, &quot;sourceName&quot;: &quot;Taranto&quot;, &quot;type&quot;: &quot;PPLA2&quot;}, &quot;type&quot;: &quot;Feature&quot;}, {&quot;geometry&quot;: {&quot;coordinates&quot;: [163.63333, -77.83333], &quot;type&quot;: &quot;Point&quot;}, &quot;properties&quot;: {&quot;country&quot;: &quot;Antarctica&quot;, &quot;id&quot;: 0, &quot;name&quot;: &quot;Hannon&quot;, &quot;source&quot;: &quot;geonames&quot;, &quot;sourceName&quot;: &quot;Hannon Hill&quot;, &quot;type&quot;: &quot;HLL&quot;}, &quot;type&quot;: &quot;Feature&quot;}, {&quot;geometry&quot;: {&quot;coordinates&quot;: [13.91667, 41.16667], &quot;type&quot;: &quot;Point&quot;}, &quot;properties&quot;: {&quot;country&quot;: &quot;Italy&quot;, &quot;id&quot;: 0, &quot;name&quot;: &quot;Massico&quot;, &quot;source&quot;: &quot;geonames&quot;, &quot;sourceName&quot;: &quot;Monte Massico&quot;, &quot;type&quot;: &quot;MT&quot;}, &quot;type&quot;: &quot;Feature&quot;}], &quot;type&quot;: &quot;FeatureCollection&quot;});\n",
       "\n",
       "        \n",
       "    \n",
       "    geo_json_7445887b4746a63780440936f8f74ec0.bindTooltip(\n",
       "    function(layer){\n",
       "    let div = L.DomUtil.create(&#x27;div&#x27;);\n",
       "    \n",
       "    let handleObject = feature=&gt;typeof(feature)==&#x27;object&#x27; ? JSON.stringify(feature) : feature;\n",
       "    let fields = [&quot;name&quot;, &quot;source&quot;];\n",
       "    let aliases = [&quot;name&quot;, &quot;source&quot;];\n",
       "    let table = &#x27;&lt;table&gt;&#x27; +\n",
       "        String(\n",
       "        fields.map(\n",
       "        (v,i)=&gt;\n",
       "        `&lt;tr&gt;\n",
       "            &lt;th&gt;${aliases[i].toLocaleString()}&lt;/th&gt;\n",
       "            \n",
       "            &lt;td&gt;${handleObject(layer.feature.properties[v]).toLocaleString()}&lt;/td&gt;\n",
       "        &lt;/tr&gt;`).join(&#x27;&#x27;))\n",
       "    +&#x27;&lt;/table&gt;&#x27;;\n",
       "    div.innerHTML=table;\n",
       "    \n",
       "    return div\n",
       "    }\n",
       "    ,{&quot;className&quot;: &quot;foliumtooltip&quot;, &quot;sticky&quot;: true});\n",
       "                     \n",
       "&lt;/script&gt;\" style=\"position:absolute;width:100%;height:100%;left:0;top:0;border:none !important;\" allowfullscreen webkitallowfullscreen mozallowfullscreen></iframe></div></div>"
      ],
      "text/plain": [
       "<folium.folium.Map at 0x1638fe7c0>"
      ]
     },
     "execution_count": 89,
     "metadata": {},
     "output_type": "execute_result"
    }
   ],
   "source": [
    "geocoder = Geocoder(sources=['geonames'])\n",
    "doc = geocoder(places)\n",
    "doc.get_folium_map()"
   ]
  },
  {
   "cell_type": "code",
   "execution_count": 90,
   "metadata": {},
   "outputs": [
    {
     "data": {
      "text/html": [
       "<div style=\"width:100%;\"><div style=\"position:relative;width:100%;height:0;padding-bottom:60%;\"><span style=\"color:#565656\">Make this Notebook Trusted to load map: File -> Trust Notebook</span><iframe srcdoc=\"&lt;!DOCTYPE html&gt;\n",
       "&lt;head&gt;    \n",
       "    &lt;meta http-equiv=&quot;content-type&quot; content=&quot;text/html; charset=UTF-8&quot; /&gt;\n",
       "    \n",
       "        &lt;script&gt;\n",
       "            L_NO_TOUCH = false;\n",
       "            L_DISABLE_3D = false;\n",
       "        &lt;/script&gt;\n",
       "    \n",
       "    &lt;style&gt;html, body {width: 100%;height: 100%;margin: 0;padding: 0;}&lt;/style&gt;\n",
       "    &lt;style&gt;#map {position:absolute;top:0;bottom:0;right:0;left:0;}&lt;/style&gt;\n",
       "    &lt;script src=&quot;https://cdn.jsdelivr.net/npm/leaflet@1.6.0/dist/leaflet.js&quot;&gt;&lt;/script&gt;\n",
       "    &lt;script src=&quot;https://code.jquery.com/jquery-1.12.4.min.js&quot;&gt;&lt;/script&gt;\n",
       "    &lt;script src=&quot;https://maxcdn.bootstrapcdn.com/bootstrap/3.2.0/js/bootstrap.min.js&quot;&gt;&lt;/script&gt;\n",
       "    &lt;script src=&quot;https://cdnjs.cloudflare.com/ajax/libs/Leaflet.awesome-markers/2.0.2/leaflet.awesome-markers.js&quot;&gt;&lt;/script&gt;\n",
       "    &lt;link rel=&quot;stylesheet&quot; href=&quot;https://cdn.jsdelivr.net/npm/leaflet@1.6.0/dist/leaflet.css&quot;/&gt;\n",
       "    &lt;link rel=&quot;stylesheet&quot; href=&quot;https://maxcdn.bootstrapcdn.com/bootstrap/3.2.0/css/bootstrap.min.css&quot;/&gt;\n",
       "    &lt;link rel=&quot;stylesheet&quot; href=&quot;https://maxcdn.bootstrapcdn.com/bootstrap/3.2.0/css/bootstrap-theme.min.css&quot;/&gt;\n",
       "    &lt;link rel=&quot;stylesheet&quot; href=&quot;https://maxcdn.bootstrapcdn.com/font-awesome/4.6.3/css/font-awesome.min.css&quot;/&gt;\n",
       "    &lt;link rel=&quot;stylesheet&quot; href=&quot;https://cdnjs.cloudflare.com/ajax/libs/Leaflet.awesome-markers/2.0.2/leaflet.awesome-markers.css&quot;/&gt;\n",
       "    &lt;link rel=&quot;stylesheet&quot; href=&quot;https://cdn.jsdelivr.net/gh/python-visualization/folium/folium/templates/leaflet.awesome.rotate.min.css&quot;/&gt;\n",
       "    \n",
       "            &lt;meta name=&quot;viewport&quot; content=&quot;width=device-width,\n",
       "                initial-scale=1.0, maximum-scale=1.0, user-scalable=no&quot; /&gt;\n",
       "            &lt;style&gt;\n",
       "                #map_684c4152a894a08c40e873ef1301bc3e {\n",
       "                    position: relative;\n",
       "                    width: 100.0%;\n",
       "                    height: 100.0%;\n",
       "                    left: 0.0%;\n",
       "                    top: 0.0%;\n",
       "                }\n",
       "            &lt;/style&gt;\n",
       "        \n",
       "    \n",
       "                    &lt;style&gt;\n",
       "                        .foliumtooltip {\n",
       "                            \n",
       "                        }\n",
       "                       .foliumtooltip table{\n",
       "                            margin: auto;\n",
       "                        }\n",
       "                        .foliumtooltip tr{\n",
       "                            text-align: left;\n",
       "                        }\n",
       "                        .foliumtooltip th{\n",
       "                            padding: 2px; padding-right: 8px;\n",
       "                        }\n",
       "                    &lt;/style&gt;\n",
       "            \n",
       "&lt;/head&gt;\n",
       "&lt;body&gt;    \n",
       "    \n",
       "            &lt;div class=&quot;folium-map&quot; id=&quot;map_684c4152a894a08c40e873ef1301bc3e&quot; &gt;&lt;/div&gt;\n",
       "        \n",
       "&lt;/body&gt;\n",
       "&lt;script&gt;    \n",
       "    \n",
       "            var map_684c4152a894a08c40e873ef1301bc3e = L.map(\n",
       "                &quot;map_684c4152a894a08c40e873ef1301bc3e&quot;,\n",
       "                {\n",
       "                    center: [0, 0],\n",
       "                    crs: L.CRS.EPSG3857,\n",
       "                    zoom: 1,\n",
       "                    zoomControl: true,\n",
       "                    preferCanvas: false,\n",
       "                }\n",
       "            );\n",
       "\n",
       "            \n",
       "\n",
       "        \n",
       "    \n",
       "            var tile_layer_d909f2335764632a79cade2c13a2a85c = L.tileLayer(\n",
       "                &quot;https://{s}.tile.openstreetmap.org/{z}/{x}/{y}.png&quot;,\n",
       "                {&quot;attribution&quot;: &quot;Data by \\u0026copy; \\u003ca href=\\&quot;http://openstreetmap.org\\&quot;\\u003eOpenStreetMap\\u003c/a\\u003e, under \\u003ca href=\\&quot;http://www.openstreetmap.org/copyright\\&quot;\\u003eODbL\\u003c/a\\u003e.&quot;, &quot;detectRetina&quot;: false, &quot;maxNativeZoom&quot;: 18, &quot;maxZoom&quot;: 18, &quot;minZoom&quot;: 0, &quot;noWrap&quot;: false, &quot;opacity&quot;: 1, &quot;subdomains&quot;: &quot;abc&quot;, &quot;tms&quot;: false}\n",
       "            ).addTo(map_684c4152a894a08c40e873ef1301bc3e);\n",
       "        \n",
       "    \n",
       "            map_684c4152a894a08c40e873ef1301bc3e.fitBounds(\n",
       "                [[-77.83333, -122.60967], [50.940749, 163.63333]],\n",
       "                {}\n",
       "            );\n",
       "        \n",
       "    \n",
       "\n",
       "        function geo_json_756a6697e7cab6d969eb569122826adb_onEachFeature(feature, layer) {\n",
       "            layer.on({\n",
       "            });\n",
       "        };\n",
       "        var geo_json_756a6697e7cab6d969eb569122826adb = L.geoJson(null, {\n",
       "                onEachFeature: geo_json_756a6697e7cab6d969eb569122826adb_onEachFeature,\n",
       "            \n",
       "        });\n",
       "\n",
       "        function geo_json_756a6697e7cab6d969eb569122826adb_add (data) {\n",
       "            geo_json_756a6697e7cab6d969eb569122826adb\n",
       "                .addData(data)\n",
       "                .addTo(map_684c4152a894a08c40e873ef1301bc3e);\n",
       "        }\n",
       "            geo_json_756a6697e7cab6d969eb569122826adb_add({&quot;features&quot;: [{&quot;geometry&quot;: {&quot;coordinates&quot;: [15.907311, 40.28558], &quot;type&quot;: &quot;Point&quot;}, &quot;properties&quot;: {&quot;country&quot;: &quot;Italia&quot;, &quot;id&quot;: 0, &quot;name&quot;: &quot;GRUMENTUM&quot;, &quot;source&quot;: &quot;nominatim&quot;, &quot;sourceName&quot;: &quot;Parco Archeologico di Grumentum, SPEXSS103, Grumento Nova, Potenza, Basilicata, 85047, Italia&quot;, &quot;type&quot;: &quot;archaeological_site&quot;}, &quot;type&quot;: &quot;Feature&quot;}, {&quot;geometry&quot;: {&quot;coordinates&quot;: [15.905659, 40.28373], &quot;type&quot;: &quot;Point&quot;}, &quot;properties&quot;: {&quot;country&quot;: &quot;Italia&quot;, &quot;id&quot;: 0, &quot;name&quot;: &quot;GRUMENTUM&quot;, &quot;source&quot;: &quot;nominatim&quot;, &quot;sourceName&quot;: &quot;Domus dei mosaici Grumentum, SPEXSS103, Grumento Nova, Potenza, Basilicata, 85047, Italia&quot;, &quot;type&quot;: &quot;ruins&quot;}, &quot;type&quot;: &quot;Feature&quot;}, {&quot;geometry&quot;: {&quot;coordinates&quot;: [15.909105, 40.286472], &quot;type&quot;: &quot;Point&quot;}, &quot;properties&quot;: {&quot;country&quot;: &quot;Italia&quot;, &quot;id&quot;: 0, &quot;name&quot;: &quot;GRUMENTUM&quot;, &quot;source&quot;: &quot;nominatim&quot;, &quot;sourceName&quot;: &quot;Terme imperiali Grumentum, SPEXSS103, Grumento Nova, Potenza, Basilicata, 85047, Italia&quot;, &quot;type&quot;: &quot;ruins&quot;}, &quot;type&quot;: &quot;Feature&quot;}, {&quot;geometry&quot;: {&quot;coordinates&quot;: [15.90707, 40.28522], &quot;type&quot;: &quot;Point&quot;}, &quot;properties&quot;: {&quot;country&quot;: &quot;Italy&quot;, &quot;id&quot;: 0, &quot;name&quot;: &quot;GRUMENTUM&quot;, &quot;source&quot;: &quot;geonames&quot;, &quot;sourceName&quot;: &quot;Grumentum&quot;, &quot;type&quot;: &quot;ANS&quot;}, &quot;type&quot;: &quot;Feature&quot;}, {&quot;geometry&quot;: {&quot;coordinates&quot;: [15.90726, 40.28502], &quot;type&quot;: &quot;Point&quot;}, &quot;properties&quot;: {&quot;country&quot;: &quot;Italy&quot;, &quot;id&quot;: 0, &quot;name&quot;: &quot;GRUMENTUM&quot;, &quot;source&quot;: &quot;geonames&quot;, &quot;sourceName&quot;: &quot;(former) Roman Catholic Diocese of Grumentum&quot;, &quot;type&quot;: &quot;PPLCH&quot;}, &quot;type&quot;: &quot;Feature&quot;}, {&quot;geometry&quot;: {&quot;coordinates&quot;: [15.90666, 40.28457], &quot;type&quot;: &quot;Point&quot;}, &quot;properties&quot;: {&quot;country&quot;: &quot;Italy&quot;, &quot;id&quot;: 0, &quot;name&quot;: &quot;GRUMENTUM&quot;, &quot;source&quot;: &quot;geonames&quot;, &quot;sourceName&quot;: &quot;Chiesa di Santa Maria Assunta, Grumentum&quot;, &quot;type&quot;: &quot;CH&quot;}, &quot;type&quot;: &quot;Feature&quot;}, {&quot;geometry&quot;: {&quot;coordinates&quot;: [15.9167, 40.2833], &quot;type&quot;: &quot;Point&quot;}, &quot;properties&quot;: {&quot;country&quot;: &quot;IT&quot;, &quot;id&quot;: 0, &quot;name&quot;: &quot;GRUMENTUM&quot;, &quot;source&quot;: &quot;whg&quot;, &quot;sourceName&quot;: &quot;Grumento&quot;, &quot;type&quot;: &quot;deserted settlements&quot;}, &quot;type&quot;: &quot;Feature&quot;}, {&quot;geometry&quot;: {&quot;coordinates&quot;: [14.450349, 50.077964], &quot;type&quot;: &quot;Point&quot;}, &quot;properties&quot;: {&quot;country&quot;: &quot;\\u010cesko&quot;, &quot;id&quot;: 0, &quot;name&quot;: &quot;G\\u00e9og&quot;, &quot;source&quot;: &quot;nominatim&quot;, &quot;sourceName&quot;: &quot;n\\u00e1m\\u011bst\\u00ed Ji\\u0159\\u00edho z\\u00a0Pod\\u011bbrad, Vinohrady, Hlavn\\u00ed m\\u011bsto Praha, Praha, \\u010cesko&quot;, &quot;type&quot;: &quot;square&quot;}, &quot;type&quot;: &quot;Feature&quot;}, {&quot;geometry&quot;: {&quot;coordinates&quot;: [89.963396, 27.513465], &quot;type&quot;: &quot;Point&quot;}, &quot;properties&quot;: {&quot;country&quot;: &quot;\\u0f60\\u0f56\\u0fb2\\u0f74\\u0f42\\u0f61\\u0f74\\u0f63\\u0f0b&quot;, &quot;id&quot;: 0, &quot;name&quot;: &quot;G\\u00e9og&quot;, &quot;source&quot;: &quot;nominatim&quot;, &quot;sourceName&quot;: &quot;Bayul Langdra Road, Kashi Geog, Goenkhar, Phangyuel Gewog, \\u0f51\\u0f56\\u0f44\\u0f0b\\u0f60\\u0f51\\u0f74\\u0f66\\u0f0b\\u0f55\\u0f7c\\u0f0b\\u0f56\\u0fb2\\u0f44\\u0f0b\\u0f62\\u0fab\\u0f7c\\u0f44\\u0f0b\\u0f41\\u0f42\\u0f0b, \\u0f60\\u0f56\\u0fb2\\u0f74\\u0f42\\u0f61\\u0f74\\u0f63\\u0f0b&quot;, &quot;type&quot;: &quot;tertiary&quot;}, &quot;type&quot;: &quot;Feature&quot;}, {&quot;geometry&quot;: {&quot;coordinates&quot;: [89.964686, 27.520008], &quot;type&quot;: &quot;Point&quot;}, &quot;properties&quot;: {&quot;country&quot;: &quot;\\u0f60\\u0f56\\u0fb2\\u0f74\\u0f42\\u0f61\\u0f74\\u0f63\\u0f0b&quot;, &quot;id&quot;: 0, &quot;name&quot;: &quot;G\\u00e9og&quot;, &quot;source&quot;: &quot;nominatim&quot;, &quot;sourceName&quot;: &quot;Bayul Langdra Road, Kashi Geog, Chhungserkha Domkha, Phangyuel Gewog, \\u0f51\\u0f56\\u0f44\\u0f0b\\u0f60\\u0f51\\u0f74\\u0f66\\u0f0b\\u0f55\\u0f7c\\u0f0b\\u0f56\\u0fb2\\u0f44\\u0f0b\\u0f62\\u0fab\\u0f7c\\u0f44\\u0f0b\\u0f41\\u0f42\\u0f0b, \\u0f60\\u0f56\\u0fb2\\u0f74\\u0f42\\u0f61\\u0f74\\u0f63\\u0f0b&quot;, &quot;type&quot;: &quot;tertiary&quot;}, &quot;type&quot;: &quot;Feature&quot;}, {&quot;geometry&quot;: {&quot;coordinates&quot;: [90.024874, 27.554862], &quot;type&quot;: &quot;Point&quot;}, &quot;properties&quot;: {&quot;country&quot;: &quot;\\u0f60\\u0f56\\u0fb2\\u0f74\\u0f42\\u0f61\\u0f74\\u0f63\\u0f0b&quot;, &quot;id&quot;: 0, &quot;name&quot;: &quot;G\\u00e9og&quot;, &quot;source&quot;: &quot;nominatim&quot;, &quot;sourceName&quot;: &quot;Bayul Langdra Road, Kashi Geog, Chegidp, Kazhi, \\u0f51\\u0f56\\u0f44\\u0f0b\\u0f60\\u0f51\\u0f74\\u0f66\\u0f0b\\u0f55\\u0f7c\\u0f0b\\u0f56\\u0fb2\\u0f44\\u0f0b\\u0f62\\u0fab\\u0f7c\\u0f44\\u0f0b\\u0f41\\u0f42\\u0f0b, \\u0f60\\u0f56\\u0fb2\\u0f74\\u0f42\\u0f61\\u0f74\\u0f63\\u0f0b&quot;, &quot;type&quot;: &quot;tertiary&quot;}, &quot;type&quot;: &quot;Feature&quot;}, {&quot;geometry&quot;: {&quot;coordinates&quot;: [-77.095653, 39.069396], &quot;type&quot;: &quot;Point&quot;}, &quot;properties&quot;: {&quot;country&quot;: &quot;United States&quot;, &quot;id&quot;: 0, &quot;name&quot;: &quot;G\\u00e9og&quot;, &quot;source&quot;: &quot;nominatim&quot;, &quot;sourceName&quot;: &quot;OV #GEOG 310, Aspen Hill Park, Aspen Hill, Montgomery County, Maryland, 20857, United States&quot;, &quot;type&quot;: &quot;footway&quot;}, &quot;type&quot;: &quot;Feature&quot;}, {&quot;geometry&quot;: {&quot;coordinates&quot;: [11.532855, 48.208713], &quot;type&quot;: &quot;Point&quot;}, &quot;properties&quot;: {&quot;country&quot;: &quot;Deutschland&quot;, &quot;id&quot;: 0, &quot;name&quot;: &quot;G\\u00e9og&quot;, &quot;source&quot;: &quot;nominatim&quot;, &quot;sourceName&quot;: &quot;Geog-Zech-Allee, Lerchenauer Stra\\u00dfe, Feldmoching, Feldmoching-Hasenbergl, M\\u00fcnchen, Bayern, 80995, Deutschland&quot;, &quot;type&quot;: &quot;bus_stop&quot;}, &quot;type&quot;: &quot;Feature&quot;}, {&quot;geometry&quot;: {&quot;coordinates&quot;: [-77.098751, 39.071462], &quot;type&quot;: &quot;Point&quot;}, &quot;properties&quot;: {&quot;country&quot;: &quot;United States&quot;, &quot;id&quot;: 0, &quot;name&quot;: &quot;G\\u00e9og&quot;, &quot;source&quot;: &quot;nominatim&quot;, &quot;sourceName&quot;: &quot;Busstop #Geog 301, Aspen Hill Road, Aspen Hill Park, Aspen Hill, Montgomery County, Maryland, 20853, United States&quot;, &quot;type&quot;: &quot;bus_stop&quot;}, &quot;type&quot;: &quot;Feature&quot;}, {&quot;geometry&quot;: {&quot;coordinates&quot;: [91.45903, 27.062061], &quot;type&quot;: &quot;Point&quot;}, &quot;properties&quot;: {&quot;country&quot;: &quot;\\u0f60\\u0f56\\u0fb2\\u0f74\\u0f42\\u0f61\\u0f74\\u0f63\\u0f0b&quot;, &quot;id&quot;: 0, &quot;name&quot;: &quot;G\\u00e9og&quot;, &quot;source&quot;: &quot;nominatim&quot;, &quot;sourceName&quot;: &quot;Thangrong Geog Office, Mongar, Samdrup Jongkhar - Trashigang Highway, Terphu_Woongchhiloo, Nanong Gewog, \\u0f54\\u0f51\\u0fa8\\u0f0b\\u0f51\\u0f42\\u0f60\\u0f0b\\u0f5a\\u0f63\\u0f0b\\u0f62\\u0fab\\u0f7c\\u0f44\\u0f0b\\u0f41\\u0f42\\u0f0b, 00975, \\u0f60\\u0f56\\u0fb2\\u0f74\\u0f42\\u0f61\\u0f74\\u0f63\\u0f0b&quot;, &quot;type&quot;: &quot;government&quot;}, &quot;type&quot;: &quot;Feature&quot;}, {&quot;geometry&quot;: {&quot;coordinates&quot;: [89.886441, 27.416819], &quot;type&quot;: &quot;Point&quot;}, &quot;properties&quot;: {&quot;country&quot;: &quot;\\u0f60\\u0f56\\u0fb2\\u0f74\\u0f42\\u0f61\\u0f74\\u0f63\\u0f0b&quot;, &quot;id&quot;: 0, &quot;name&quot;: &quot;G\\u00e9og&quot;, &quot;source&quot;: &quot;nominatim&quot;, &quot;sourceName&quot;: &quot;Gasetshogom Geog office, Sarpang - Wangdue Highway, Dabchhaykha Matshigkha, Gase Tshogongm Gewog, \\u0f51\\u0f56\\u0f44\\u0f0b\\u0f60\\u0f51\\u0f74\\u0f66\\u0f0b\\u0f55\\u0f7c\\u0f0b\\u0f56\\u0fb2\\u0f44\\u0f0b\\u0f62\\u0fab\\u0f7c\\u0f44\\u0f0b\\u0f41\\u0f42\\u0f0b, \\u0f60\\u0f56\\u0fb2\\u0f74\\u0f42\\u0f61\\u0f74\\u0f63\\u0f0b&quot;, &quot;type&quot;: &quot;government&quot;}, &quot;type&quot;: &quot;Feature&quot;}, {&quot;geometry&quot;: {&quot;coordinates&quot;: [91.409292, 27.036498], &quot;type&quot;: &quot;Point&quot;}, &quot;properties&quot;: {&quot;country&quot;: &quot;\\u0f60\\u0f56\\u0fb2\\u0f74\\u0f42\\u0f61\\u0f74\\u0f63\\u0f0b&quot;, &quot;id&quot;: 0, &quot;name&quot;: &quot;G\\u00e9og&quot;, &quot;source&quot;: &quot;nominatim&quot;, &quot;sourceName&quot;: &quot;Shumar Geog Office, Pemagatshel, Khothagpa_Yalang By-pass Road, Khar Village, Upper Gypsum, \\u0f54\\u0f51\\u0fa8\\u0f0b\\u0f51\\u0f42\\u0f60\\u0f0b\\u0f5a\\u0f63\\u0f0b\\u0f62\\u0fab\\u0f7c\\u0f44\\u0f0b\\u0f41\\u0f42\\u0f0b, 00975, \\u0f60\\u0f56\\u0fb2\\u0f74\\u0f42\\u0f61\\u0f74\\u0f63\\u0f0b&quot;, &quot;type&quot;: &quot;government&quot;}, &quot;type&quot;: &quot;Feature&quot;}, {&quot;geometry&quot;: {&quot;coordinates&quot;: [16.081953, 40.500571], &quot;type&quot;: &quot;Point&quot;}, &quot;properties&quot;: {&quot;country&quot;: &quot;Italia&quot;, &quot;id&quot;: 0, &quot;name&quot;: &quot;Lucanie&quot;, &quot;source&quot;: &quot;nominatim&quot;, &quot;sourceName&quot;: &quot;Basilicata, Italia&quot;, &quot;type&quot;: &quot;administrative&quot;}, &quot;type&quot;: &quot;Feature&quot;}, {&quot;geometry&quot;: {&quot;coordinates&quot;: [15.80794, 40.64175], &quot;type&quot;: &quot;Point&quot;}, &quot;properties&quot;: {&quot;country&quot;: &quot;Italy&quot;, &quot;id&quot;: 0, &quot;name&quot;: &quot;Lucanie&quot;, &quot;source&quot;: &quot;geonames&quot;, &quot;sourceName&quot;: &quot;Potenza&quot;, &quot;type&quot;: &quot;PPLA&quot;}, &quot;type&quot;: &quot;Feature&quot;}, {&quot;geometry&quot;: {&quot;coordinates&quot;: [16.11396, 40.5041], &quot;type&quot;: &quot;Point&quot;}, &quot;properties&quot;: {&quot;country&quot;: &quot;Italy&quot;, &quot;id&quot;: 0, &quot;name&quot;: &quot;Lucanie&quot;, &quot;source&quot;: &quot;geonames&quot;, &quot;sourceName&quot;: &quot;Basilicata&quot;, &quot;type&quot;: &quot;ADM1&quot;}, &quot;type&quot;: &quot;Feature&quot;}, {&quot;geometry&quot;: {&quot;coordinates&quot;: [16.60463, 40.66599], &quot;type&quot;: &quot;Point&quot;}, &quot;properties&quot;: {&quot;country&quot;: &quot;Italy&quot;, &quot;id&quot;: 0, &quot;name&quot;: &quot;Lucanie&quot;, &quot;source&quot;: &quot;geonames&quot;, &quot;sourceName&quot;: &quot;Matera&quot;, &quot;type&quot;: &quot;PPLA2&quot;}, &quot;type&quot;: &quot;Feature&quot;}, {&quot;geometry&quot;: {&quot;coordinates&quot;: [15.78915, 41.04769], &quot;type&quot;: &quot;Point&quot;}, &quot;properties&quot;: {&quot;country&quot;: &quot;Italy&quot;, &quot;id&quot;: 0, &quot;name&quot;: &quot;Lucanie&quot;, &quot;source&quot;: &quot;geonames&quot;, &quot;sourceName&quot;: &quot;Lavello&quot;, &quot;type&quot;: &quot;PPLA3&quot;}, &quot;type&quot;: &quot;Feature&quot;}, {&quot;geometry&quot;: {&quot;coordinates&quot;: [15.89938, 40.46442], &quot;type&quot;: &quot;Point&quot;}, &quot;properties&quot;: {&quot;country&quot;: &quot;Italy&quot;, &quot;id&quot;: 0, &quot;name&quot;: &quot;Lucanie&quot;, &quot;source&quot;: &quot;geonames&quot;, &quot;sourceName&quot;: &quot;Provincia di Potenza&quot;, &quot;type&quot;: &quot;ADM2&quot;}, &quot;type&quot;: &quot;Feature&quot;}, {&quot;geometry&quot;: {&quot;coordinates&quot;: [15.81285, 40.96283], &quot;type&quot;: &quot;Point&quot;}, &quot;properties&quot;: {&quot;country&quot;: &quot;Italy&quot;, &quot;id&quot;: 0, &quot;name&quot;: &quot;Lucanie&quot;, &quot;source&quot;: &quot;geonames&quot;, &quot;sourceName&quot;: &quot;Venosa&quot;, &quot;type&quot;: &quot;PPLA3&quot;}, &quot;type&quot;: &quot;Feature&quot;}, {&quot;geometry&quot;: {&quot;coordinates&quot;: [15.96658, 40.26921], &quot;type&quot;: &quot;Point&quot;}, &quot;properties&quot;: {&quot;country&quot;: &quot;Italy&quot;, &quot;id&quot;: 0, &quot;name&quot;: &quot;Lucanie&quot;, &quot;source&quot;: &quot;geonames&quot;, &quot;sourceName&quot;: &quot;Spinoso&quot;, &quot;type&quot;: &quot;PPLA3&quot;}, &quot;type&quot;: &quot;Feature&quot;}, {&quot;geometry&quot;: {&quot;coordinates&quot;: [15.88837, 40.248], &quot;type&quot;: &quot;Point&quot;}, &quot;properties&quot;: {&quot;country&quot;: &quot;Italy&quot;, &quot;id&quot;: 0, &quot;name&quot;: &quot;Lucanie&quot;, &quot;source&quot;: &quot;geonames&quot;, &quot;sourceName&quot;: &quot;Sarconi&quot;, &quot;type&quot;: &quot;PPLA3&quot;}, &quot;type&quot;: &quot;Feature&quot;}, {&quot;geometry&quot;: {&quot;coordinates&quot;: [15.6711, 40.92328], &quot;type&quot;: &quot;Point&quot;}, &quot;properties&quot;: {&quot;country&quot;: &quot;Italy&quot;, &quot;id&quot;: 0, &quot;name&quot;: &quot;Lucanie&quot;, &quot;source&quot;: &quot;geonames&quot;, &quot;sourceName&quot;: &quot;Rionero in Vulture&quot;, &quot;type&quot;: &quot;PPLA3&quot;}, &quot;type&quot;: &quot;Feature&quot;}, {&quot;geometry&quot;: {&quot;coordinates&quot;: [15.99281, 40.16213], &quot;type&quot;: &quot;Point&quot;}, &quot;properties&quot;: {&quot;country&quot;: &quot;Italy&quot;, &quot;id&quot;: 0, &quot;name&quot;: &quot;Lucanie&quot;, &quot;source&quot;: &quot;geonames&quot;, &quot;sourceName&quot;: &quot;Castelsaraceno&quot;, &quot;type&quot;: &quot;PPLA3&quot;}, &quot;type&quot;: &quot;Feature&quot;}, {&quot;geometry&quot;: {&quot;coordinates&quot;: [17.08058, 40.548816], &quot;type&quot;: &quot;Point&quot;}, &quot;properties&quot;: {&quot;country&quot;: &quot;Italia&quot;, &quot;id&quot;: 0, &quot;name&quot;: &quot;Tarente&quot;, &quot;source&quot;: &quot;nominatim&quot;, &quot;sourceName&quot;: &quot;Taranto, Puglia, Italia&quot;, &quot;type&quot;: &quot;administrative&quot;}, &quot;type&quot;: &quot;Feature&quot;}, {&quot;geometry&quot;: {&quot;coordinates&quot;: [17.243228, 40.471243], &quot;type&quot;: &quot;Point&quot;}, &quot;properties&quot;: {&quot;country&quot;: &quot;Italia&quot;, &quot;id&quot;: 0, &quot;name&quot;: &quot;Tarente&quot;, &quot;source&quot;: &quot;nominatim&quot;, &quot;sourceName&quot;: &quot;Taranto, Puglia, Italia&quot;, &quot;type&quot;: &quot;administrative&quot;}, &quot;type&quot;: &quot;Feature&quot;}, {&quot;geometry&quot;: {&quot;coordinates&quot;: [17.224215, 40.483692], &quot;type&quot;: &quot;Point&quot;}, &quot;properties&quot;: {&quot;country&quot;: &quot;Italia&quot;, &quot;id&quot;: 0, &quot;name&quot;: &quot;Tarente&quot;, &quot;source&quot;: &quot;nominatim&quot;, &quot;sourceName&quot;: &quot;Taranto, Piazza Libert\\u00e0, Taranto, Puglia, 74123, Italia&quot;, &quot;type&quot;: &quot;station&quot;}, &quot;type&quot;: &quot;Feature&quot;}, {&quot;geometry&quot;: {&quot;coordinates&quot;: [-4.510662, 48.405276], &quot;type&quot;: &quot;Point&quot;}, &quot;properties&quot;: {&quot;country&quot;: &quot;France&quot;, &quot;id&quot;: 0, &quot;name&quot;: &quot;Tarente&quot;, &quot;source&quot;: &quot;nominatim&quot;, &quot;sourceName&quot;: &quot;Tarente, Avenue de Tarente, Le Bergot, Bellevue, Brest, Finist\\u00e8re, Bretagne, France m\\u00e9tropolitaine, 29200, France&quot;, &quot;type&quot;: &quot;bus_stop&quot;}, &quot;type&quot;: &quot;Feature&quot;}, {&quot;geometry&quot;: {&quot;coordinates&quot;: [17.24707, 40.46438], &quot;type&quot;: &quot;Point&quot;}, &quot;properties&quot;: {&quot;country&quot;: &quot;Italy&quot;, &quot;id&quot;: 0, &quot;name&quot;: &quot;Tarente&quot;, &quot;source&quot;: &quot;geonames&quot;, &quot;sourceName&quot;: &quot;Taranto&quot;, &quot;type&quot;: &quot;PPLA2&quot;}, &quot;type&quot;: &quot;Feature&quot;}, {&quot;geometry&quot;: {&quot;coordinates&quot;: [17.25, 40.61667], &quot;type&quot;: &quot;Point&quot;}, &quot;properties&quot;: {&quot;country&quot;: &quot;Italy&quot;, &quot;id&quot;: 0, &quot;name&quot;: &quot;Tarente&quot;, &quot;source&quot;: &quot;geonames&quot;, &quot;sourceName&quot;: &quot;Provincia di Taranto&quot;, &quot;type&quot;: &quot;ADM2&quot;}, &quot;type&quot;: &quot;Feature&quot;}, {&quot;geometry&quot;: {&quot;coordinates&quot;: [17.40321, 40.51751], &quot;type&quot;: &quot;Point&quot;}, &quot;properties&quot;: {&quot;country&quot;: &quot;Italy&quot;, &quot;id&quot;: 0, &quot;name&quot;: &quot;Tarente&quot;, &quot;source&quot;: &quot;geonames&quot;, &quot;sourceName&quot;: &quot;Taranto-Grottaglie Airport&quot;, &quot;type&quot;: &quot;AIRP&quot;}, &quot;type&quot;: &quot;Feature&quot;}, {&quot;geometry&quot;: {&quot;coordinates&quot;: [17.2401, 40.41702], &quot;type&quot;: &quot;Point&quot;}, &quot;properties&quot;: {&quot;country&quot;: &quot;Italy&quot;, &quot;id&quot;: 0, &quot;name&quot;: &quot;Tarente&quot;, &quot;source&quot;: &quot;geonames&quot;, &quot;sourceName&quot;: &quot;Taranto&quot;, &quot;type&quot;: &quot;ADM3&quot;}, &quot;type&quot;: &quot;Feature&quot;}, {&quot;geometry&quot;: {&quot;coordinates&quot;: [17.20122, 40.52856], &quot;type&quot;: &quot;Point&quot;}, &quot;properties&quot;: {&quot;country&quot;: &quot;Italy&quot;, &quot;id&quot;: 0, &quot;name&quot;: &quot;Tarente&quot;, &quot;source&quot;: &quot;geonames&quot;, &quot;sourceName&quot;: &quot;Statte&quot;, &quot;type&quot;: &quot;PPLA3&quot;}, &quot;type&quot;: &quot;Feature&quot;}, {&quot;geometry&quot;: {&quot;coordinates&quot;: [16.9329, 40.62794], &quot;type&quot;: &quot;Point&quot;}, &quot;properties&quot;: {&quot;country&quot;: &quot;Italy&quot;, &quot;id&quot;: 0, &quot;name&quot;: &quot;Tarente&quot;, &quot;source&quot;: &quot;geonames&quot;, &quot;sourceName&quot;: &quot;Castellaneta&quot;, &quot;type&quot;: &quot;PPLA3&quot;}, &quot;type&quot;: &quot;Feature&quot;}, {&quot;geometry&quot;: {&quot;coordinates&quot;: [17.11635, 40.58618], &quot;type&quot;: &quot;Point&quot;}, &quot;properties&quot;: {&quot;country&quot;: &quot;Italy&quot;, &quot;id&quot;: 0, &quot;name&quot;: &quot;Tarente&quot;, &quot;source&quot;: &quot;geonames&quot;, &quot;sourceName&quot;: &quot;Massafra&quot;, &quot;type&quot;: &quot;PPLA3&quot;}, &quot;type&quot;: &quot;Feature&quot;}, {&quot;geometry&quot;: {&quot;coordinates&quot;: [17.33814, 40.70355], &quot;type&quot;: &quot;Point&quot;}, &quot;properties&quot;: {&quot;country&quot;: &quot;Italy&quot;, &quot;id&quot;: 0, &quot;name&quot;: &quot;Tarente&quot;, &quot;source&quot;: &quot;geonames&quot;, &quot;sourceName&quot;: &quot;Martina Franca&quot;, &quot;type&quot;: &quot;PPLA3&quot;}, &quot;type&quot;: &quot;Feature&quot;}, {&quot;geometry&quot;: {&quot;coordinates&quot;: [17.63726, 40.39899], &quot;type&quot;: &quot;Point&quot;}, &quot;properties&quot;: {&quot;country&quot;: &quot;Italy&quot;, &quot;id&quot;: 0, &quot;name&quot;: &quot;Tarente&quot;, &quot;source&quot;: &quot;geonames&quot;, &quot;sourceName&quot;: &quot;Manduria&quot;, &quot;type&quot;: &quot;PPLA3&quot;}, &quot;type&quot;: &quot;Feature&quot;}, {&quot;geometry&quot;: {&quot;coordinates&quot;: [17.03812, 40.57762], &quot;type&quot;: &quot;Point&quot;}, &quot;properties&quot;: {&quot;country&quot;: &quot;Italy&quot;, &quot;id&quot;: 0, &quot;name&quot;: &quot;Tarente&quot;, &quot;source&quot;: &quot;geonames&quot;, &quot;sourceName&quot;: &quot;Palagiano&quot;, &quot;type&quot;: &quot;PPLA3&quot;}, &quot;type&quot;: &quot;Feature&quot;}, {&quot;geometry&quot;: {&quot;coordinates&quot;: [-2.083333, 50.866667], &quot;type&quot;: &quot;Point&quot;}, &quot;properties&quot;: {&quot;country&quot;: &quot;GB&quot;, &quot;id&quot;: 0, &quot;name&quot;: &quot;Tarente&quot;, &quot;source&quot;: &quot;whg&quot;, &quot;sourceName&quot;: &quot;Tarrant Monkton&quot;, &quot;type&quot;: &quot;inhabited places&quot;}, &quot;type&quot;: &quot;Feature&quot;}, {&quot;geometry&quot;: {&quot;coordinates&quot;: [-2.1, 50.8333], &quot;type&quot;: &quot;Point&quot;}, &quot;properties&quot;: {&quot;country&quot;: &quot;GB&quot;, &quot;id&quot;: 0, &quot;name&quot;: &quot;Tarente&quot;, &quot;source&quot;: &quot;whg&quot;, &quot;sourceName&quot;: &quot;Tarrant Keyneston&quot;, &quot;type&quot;: &quot;villages&quot;}, &quot;type&quot;: &quot;Feature&quot;}, {&quot;geometry&quot;: {&quot;coordinates&quot;: [-2.0667, 50.8833], &quot;type&quot;: &quot;Point&quot;}, &quot;properties&quot;: {&quot;country&quot;: &quot;GB&quot;, &quot;id&quot;: 0, &quot;name&quot;: &quot;Tarente&quot;, &quot;source&quot;: &quot;whg&quot;, &quot;sourceName&quot;: &quot;Tarrant Launceston&quot;, &quot;type&quot;: &quot;inhabited places&quot;}, &quot;type&quot;: &quot;Feature&quot;}, {&quot;geometry&quot;: {&quot;coordinates&quot;: [-2.083333, 50.9], &quot;type&quot;: &quot;Point&quot;}, &quot;properties&quot;: {&quot;country&quot;: &quot;GB&quot;, &quot;id&quot;: 0, &quot;name&quot;: &quot;Tarente&quot;, &quot;source&quot;: &quot;whg&quot;, &quot;sourceName&quot;: &quot;Tarrant Hinton&quot;, &quot;type&quot;: &quot;villages&quot;}, &quot;type&quot;: &quot;Feature&quot;}, {&quot;geometry&quot;: {&quot;coordinates&quot;: [-2.1, 50.8167], &quot;type&quot;: &quot;Point&quot;}, &quot;properties&quot;: {&quot;country&quot;: &quot;GB&quot;, &quot;id&quot;: 0, &quot;name&quot;: &quot;Tarente&quot;, &quot;source&quot;: &quot;whg&quot;, &quot;sourceName&quot;: &quot;Tarrant Crawford&quot;, &quot;type&quot;: &quot;inhabited places&quot;}, &quot;type&quot;: &quot;Feature&quot;}, {&quot;geometry&quot;: {&quot;coordinates&quot;: [-94.494121, 37.622545], &quot;type&quot;: &quot;Point&quot;}, &quot;properties&quot;: {&quot;country&quot;: &quot;United States&quot;, &quot;id&quot;: 0, &quot;name&quot;: &quot;Hannon&quot;, &quot;source&quot;: &quot;nominatim&quot;, &quot;sourceName&quot;: &quot;Hannon, Barton County, Missouri, United States&quot;, &quot;type&quot;: &quot;hamlet&quot;}, &quot;type&quot;: &quot;Feature&quot;}, {&quot;geometry&quot;: {&quot;coordinates&quot;: [-85.526058, 32.239314], &quot;type&quot;: &quot;Point&quot;}, &quot;properties&quot;: {&quot;country&quot;: &quot;United States&quot;, &quot;id&quot;: 0, &quot;name&quot;: &quot;Hannon&quot;, &quot;source&quot;: &quot;nominatim&quot;, &quot;sourceName&quot;: &quot;Hannon, Macon County, Alabama, United States&quot;, &quot;type&quot;: &quot;hamlet&quot;}, &quot;type&quot;: &quot;Feature&quot;}, {&quot;geometry&quot;: {&quot;coordinates&quot;: [-79.832835, 43.187716], &quot;type&quot;: &quot;Point&quot;}, &quot;properties&quot;: {&quot;country&quot;: &quot;Canada&quot;, &quot;id&quot;: 0, &quot;name&quot;: &quot;Hannon&quot;, &quot;source&quot;: &quot;nominatim&quot;, &quot;sourceName&quot;: &quot;Hannon, Hamilton, Golden Horseshoe, Ontario, L8W 0C6, Canada&quot;, &quot;type&quot;: &quot;locality&quot;}, &quot;type&quot;: &quot;Feature&quot;}, {&quot;geometry&quot;: {&quot;coordinates&quot;: [-79.826768, 43.195471], &quot;type&quot;: &quot;Point&quot;}, &quot;properties&quot;: {&quot;country&quot;: &quot;Canada&quot;, &quot;id&quot;: 0, &quot;name&quot;: &quot;Hannon&quot;, &quot;source&quot;: &quot;nominatim&quot;, &quot;sourceName&quot;: &quot;Hannon, Hamilton, Golden Horseshoe, Ontario, L8W 3R2, Canada&quot;, &quot;type&quot;: &quot;locality&quot;}, &quot;type&quot;: &quot;Feature&quot;}, {&quot;geometry&quot;: {&quot;coordinates&quot;: [-81.718553, 41.454551], &quot;type&quot;: &quot;Point&quot;}, &quot;properties&quot;: {&quot;country&quot;: &quot;United States&quot;, &quot;id&quot;: 0, &quot;name&quot;: &quot;Hannon&quot;, &quot;source&quot;: &quot;nominatim&quot;, &quot;sourceName&quot;: &quot;Hannon, Cleveland, Cuyahoga County, Ohio, 44109, United States&quot;, &quot;type&quot;: &quot;residential&quot;}, &quot;type&quot;: &quot;Feature&quot;}, {&quot;geometry&quot;: {&quot;coordinates&quot;: [35.237249, 32.238658], &quot;type&quot;: &quot;Point&quot;}, &quot;properties&quot;: {&quot;country&quot;: &quot;Palestinian Territory&quot;, &quot;id&quot;: 0, &quot;name&quot;: &quot;Hannon&quot;, &quot;source&quot;: &quot;nominatim&quot;, &quot;sourceName&quot;: &quot;\\u0639\\u0645\\u0627\\u0631\\u0629 \\u062d\\u0646\\u0648\\u0646, \\u0627\\u0645\\u062a\\u062f\\u0627\\u062f \\u0634\\u0627\\u0631\\u0639 \\u0627\\u0644\\u0633\\u0643\\u0629, \\u0645\\u062e\\u064a\\u0645 \\u0627\\u0644\\u0639\\u064a\\u0646, \\u0646\\u0627\\u0628\\u0644\\u0633, \\u0645\\u0646\\u0637\\u0642\\u0629 \\u0623, \\u05d4\\u05d2\\u05d3\\u05d4 \\u05d4\\u05de\\u05e2\\u05e8\\u05d1\\u05d9\\u05ea, 803, Palestinian Territory&quot;, &quot;type&quot;: &quot;alpine_hut&quot;}, &quot;type&quot;: &quot;Feature&quot;}, {&quot;geometry&quot;: {&quot;coordinates&quot;: [163.63333, -77.83333], &quot;type&quot;: &quot;Point&quot;}, &quot;properties&quot;: {&quot;country&quot;: &quot;Antarctica&quot;, &quot;id&quot;: 0, &quot;name&quot;: &quot;Hannon&quot;, &quot;source&quot;: &quot;geonames&quot;, &quot;sourceName&quot;: &quot;Hannon Hill&quot;, &quot;type&quot;: &quot;HLL&quot;}, &quot;type&quot;: &quot;Feature&quot;}, {&quot;geometry&quot;: {&quot;coordinates&quot;: [-79.83293, 43.18341], &quot;type&quot;: &quot;Point&quot;}, &quot;properties&quot;: {&quot;country&quot;: &quot;Canada&quot;, &quot;id&quot;: 0, &quot;name&quot;: &quot;Hannon&quot;, &quot;source&quot;: &quot;geonames&quot;, &quot;sourceName&quot;: &quot;Hannon&quot;, &quot;type&quot;: &quot;AREA&quot;}, &quot;type&quot;: &quot;Feature&quot;}, {&quot;geometry&quot;: {&quot;coordinates&quot;: [-94.49412, 37.62255], &quot;type&quot;: &quot;Point&quot;}, &quot;properties&quot;: {&quot;country&quot;: &quot;United States&quot;, &quot;id&quot;: 0, &quot;name&quot;: &quot;Hannon&quot;, &quot;source&quot;: &quot;geonames&quot;, &quot;sourceName&quot;: &quot;Hannon&quot;, &quot;type&quot;: &quot;PPL&quot;}, &quot;type&quot;: &quot;Feature&quot;}, {&quot;geometry&quot;: {&quot;coordinates&quot;: [-98.69202, 40.7389], &quot;type&quot;: &quot;Point&quot;}, &quot;properties&quot;: {&quot;country&quot;: &quot;United States&quot;, &quot;id&quot;: 0, &quot;name&quot;: &quot;Hannon&quot;, &quot;source&quot;: &quot;geonames&quot;, &quot;sourceName&quot;: &quot;Hannon Federal Waterfowl Production Area&quot;, &quot;type&quot;: &quot;PRK&quot;}, &quot;type&quot;: &quot;Feature&quot;}, {&quot;geometry&quot;: {&quot;coordinates&quot;: [-84.73106, 39.52005], &quot;type&quot;: &quot;Point&quot;}, &quot;properties&quot;: {&quot;country&quot;: &quot;United States&quot;, &quot;id&quot;: 0, &quot;name&quot;: &quot;Hannon&quot;, &quot;source&quot;: &quot;geonames&quot;, &quot;sourceName&quot;: &quot;Hannon Park&quot;, &quot;type&quot;: &quot;PRK&quot;}, &quot;type&quot;: &quot;Feature&quot;}, {&quot;geometry&quot;: {&quot;coordinates&quot;: [-122.60967, 47.8874], &quot;type&quot;: &quot;Point&quot;}, &quot;properties&quot;: {&quot;country&quot;: &quot;United States&quot;, &quot;id&quot;: 0, &quot;name&quot;: &quot;Hannon&quot;, &quot;source&quot;: &quot;geonames&quot;, &quot;sourceName&quot;: &quot;Point Hannon&quot;, &quot;type&quot;: &quot;CAPE&quot;}, &quot;type&quot;: &quot;Feature&quot;}, {&quot;geometry&quot;: {&quot;coordinates&quot;: [-88.07917, 30.68352], &quot;type&quot;: &quot;Point&quot;}, &quot;properties&quot;: {&quot;country&quot;: &quot;United States&quot;, &quot;id&quot;: 0, &quot;name&quot;: &quot;Hannon&quot;, &quot;source&quot;: &quot;geonames&quot;, &quot;sourceName&quot;: &quot;Hannon Park&quot;, &quot;type&quot;: &quot;PRK&quot;}, &quot;type&quot;: &quot;Feature&quot;}, {&quot;geometry&quot;: {&quot;coordinates&quot;: [-118.41722, 33.96806], &quot;type&quot;: &quot;Point&quot;}, &quot;properties&quot;: {&quot;country&quot;: &quot;United States&quot;, &quot;id&quot;: 0, &quot;name&quot;: &quot;Hannon&quot;, &quot;source&quot;: &quot;geonames&quot;, &quot;sourceName&quot;: &quot;Hannon Field&quot;, &quot;type&quot;: &quot;PRK&quot;}, &quot;type&quot;: &quot;Feature&quot;}, {&quot;geometry&quot;: {&quot;coordinates&quot;: [-85.52606, 32.23931], &quot;type&quot;: &quot;Point&quot;}, &quot;properties&quot;: {&quot;country&quot;: &quot;United States&quot;, &quot;id&quot;: 0, &quot;name&quot;: &quot;Hannon&quot;, &quot;source&quot;: &quot;geonames&quot;, &quot;sourceName&quot;: &quot;Hannon&quot;, &quot;type&quot;: &quot;PPL&quot;}, &quot;type&quot;: &quot;Feature&quot;}, {&quot;geometry&quot;: {&quot;coordinates&quot;: [-89.3107, 39.5587], &quot;type&quot;: &quot;Point&quot;}, &quot;properties&quot;: {&quot;country&quot;: &quot;United States&quot;, &quot;id&quot;: 0, &quot;name&quot;: &quot;Hannon&quot;, &quot;source&quot;: &quot;geonames&quot;, &quot;sourceName&quot;: &quot;Hannon Mobile Home Park&quot;, &quot;type&quot;: &quot;PPL&quot;}, &quot;type&quot;: &quot;Feature&quot;}, {&quot;geometry&quot;: {&quot;coordinates&quot;: [-94.4833, 37.6167], &quot;type&quot;: &quot;Point&quot;}, &quot;properties&quot;: {&quot;country&quot;: &quot;US&quot;, &quot;id&quot;: 0, &quot;name&quot;: &quot;Hannon&quot;, &quot;source&quot;: &quot;whg&quot;, &quot;sourceName&quot;: &quot;Hannon&quot;, &quot;type&quot;: &quot;inhabited places&quot;}, &quot;type&quot;: &quot;Feature&quot;}, {&quot;geometry&quot;: {&quot;coordinates&quot;: [-85.5167, 32.2333], &quot;type&quot;: &quot;Point&quot;}, &quot;properties&quot;: {&quot;country&quot;: &quot;US&quot;, &quot;id&quot;: 0, &quot;name&quot;: &quot;Hannon&quot;, &quot;source&quot;: &quot;whg&quot;, &quot;sourceName&quot;: &quot;Hannon&quot;, &quot;type&quot;: &quot;inhabited places&quot;}, &quot;type&quot;: &quot;Feature&quot;}, {&quot;geometry&quot;: {&quot;coordinates&quot;: [7.70196, 48.582378], &quot;type&quot;: &quot;Point&quot;}, &quot;properties&quot;: {&quot;country&quot;: &quot;France&quot;, &quot;id&quot;: 0, &quot;name&quot;: &quot;Tite-Live&quot;, &quot;source&quot;: &quot;nominatim&quot;, &quot;sourceName&quot;: &quot;Rue Tite-Live, Poteries, Strasbourg, Bas-Rhin, Grand Est, France m\\u00e9tropolitaine, 67200, France&quot;, &quot;type&quot;: &quot;residential&quot;}, &quot;type&quot;: &quot;Feature&quot;}, {&quot;geometry&quot;: {&quot;coordinates&quot;: [-1.539393, 47.202126], &quot;type&quot;: &quot;Point&quot;}, &quot;properties&quot;: {&quot;country&quot;: &quot;France&quot;, &quot;id&quot;: 0, &quot;name&quot;: &quot;Tite-Live&quot;, &quot;source&quot;: &quot;nominatim&quot;, &quot;sourceName&quot;: &quot;Rue Tite-Live, Mangin, Beaulieu - Mangin, \\u00cele de Nantes, Nantes, Loire-Atlantique, Pays de la Loire, France m\\u00e9tropolitaine, 44200, France&quot;, &quot;type&quot;: &quot;residential&quot;}, &quot;type&quot;: &quot;Feature&quot;}, {&quot;geometry&quot;: {&quot;coordinates&quot;: [10.321213, 36.851632], &quot;type&quot;: &quot;Point&quot;}, &quot;properties&quot;: {&quot;country&quot;: &quot;\\u062a\\u0648\\u0646\\u0633&quot;, &quot;id&quot;: 0, &quot;name&quot;: &quot;Tite-Live&quot;, &quot;source&quot;: &quot;nominatim&quot;, &quot;sourceName&quot;: &quot;Rue Tite Live, \\u0642\\u0631\\u0637\\u0627\\u062c \\u0628\\u064a\\u0631\\u0635\\u0629, \\u0642\\u0631\\u0637\\u0627\\u062c, \\u062a\\u0648\\u0646\\u0633, \\u0648\\u0644\\u0627\\u064a\\u0629 \\u062a\\u0648\\u0646\\u0633, 2016, \\u062a\\u0648\\u0646\\u0633&quot;, &quot;type&quot;: &quot;tertiary&quot;}, &quot;type&quot;: &quot;Feature&quot;}, {&quot;geometry&quot;: {&quot;coordinates&quot;: [10.317509, 36.890724], &quot;type&quot;: &quot;Point&quot;}, &quot;properties&quot;: {&quot;country&quot;: &quot;\\u062a\\u0648\\u0646\\u0633&quot;, &quot;id&quot;: 0, &quot;name&quot;: &quot;Tite-Live&quot;, &quot;source&quot;: &quot;nominatim&quot;, &quot;sourceName&quot;: &quot;Impasse Tite Live 2, \\u0627\\u0644\\u0645\\u0631\\u0633\\u0649, \\u0642\\u0645\\u0631\\u062a \\u0627\\u0644\\u0639\\u0644\\u064a\\u0627, \\u0645\\u0639\\u062a\\u0645\\u062f\\u064a\\u0629 \\u0627\\u0644\\u0645\\u0631\\u0633\\u0649, \\u062a\\u0648\\u0646\\u0633, \\u0648\\u0644\\u0627\\u064a\\u0629 \\u062a\\u0648\\u0646\\u0633, 2070, \\u062a\\u0648\\u0646\\u0633&quot;, &quot;type&quot;: &quot;residential&quot;}, &quot;type&quot;: &quot;Feature&quot;}, {&quot;geometry&quot;: {&quot;coordinates&quot;: [10.317575, 36.89159], &quot;type&quot;: &quot;Point&quot;}, &quot;properties&quot;: {&quot;country&quot;: &quot;\\u062a\\u0648\\u0646\\u0633&quot;, &quot;id&quot;: 0, &quot;name&quot;: &quot;Tite-Live&quot;, &quot;source&quot;: &quot;nominatim&quot;, &quot;sourceName&quot;: &quot;Impasse Tite Live 1, \\u0627\\u0644\\u0645\\u0631\\u0633\\u0649, \\u0642\\u0645\\u0631\\u062a \\u0627\\u0644\\u0639\\u0644\\u064a\\u0627, \\u0645\\u0639\\u062a\\u0645\\u062f\\u064a\\u0629 \\u0627\\u0644\\u0645\\u0631\\u0633\\u0649, \\u062a\\u0648\\u0646\\u0633, \\u0648\\u0644\\u0627\\u064a\\u0629 \\u062a\\u0648\\u0646\\u0633, 2070, \\u062a\\u0648\\u0646\\u0633&quot;, &quot;type&quot;: &quot;residential&quot;}, &quot;type&quot;: &quot;Feature&quot;}, {&quot;geometry&quot;: {&quot;coordinates&quot;: [10.317908, 36.890431], &quot;type&quot;: &quot;Point&quot;}, &quot;properties&quot;: {&quot;country&quot;: &quot;\\u062a\\u0648\\u0646\\u0633&quot;, &quot;id&quot;: 0, &quot;name&quot;: &quot;Tite-Live&quot;, &quot;source&quot;: &quot;nominatim&quot;, &quot;sourceName&quot;: &quot;Rue Tite Live, \\u0627\\u0644\\u0645\\u0631\\u0633\\u0649, \\u0642\\u0645\\u0631\\u062a \\u0627\\u0644\\u0639\\u0644\\u064a\\u0627, \\u0645\\u0639\\u062a\\u0645\\u062f\\u064a\\u0629 \\u0627\\u0644\\u0645\\u0631\\u0633\\u0649, \\u062a\\u0648\\u0646\\u0633, \\u0648\\u0644\\u0627\\u064a\\u0629 \\u062a\\u0648\\u0646\\u0633, 2070, \\u062a\\u0648\\u0646\\u0633&quot;, &quot;type&quot;: &quot;residential&quot;}, &quot;type&quot;: &quot;Feature&quot;}, {&quot;geometry&quot;: {&quot;coordinates&quot;: [1.874265, 50.940749], &quot;type&quot;: &quot;Point&quot;}, &quot;properties&quot;: {&quot;country&quot;: &quot;France&quot;, &quot;id&quot;: 0, &quot;name&quot;: &quot;Tite-Live&quot;, &quot;source&quot;: &quot;nominatim&quot;, &quot;sourceName&quot;: &quot;Rue Tite-Live, Calais, Pas-de-Calais, Hauts-de-France, France m\\u00e9tropolitaine, 62100, France&quot;, &quot;type&quot;: &quot;residential&quot;}, &quot;type&quot;: &quot;Feature&quot;}, {&quot;geometry&quot;: {&quot;coordinates&quot;: [7.702897, 48.739827], &quot;type&quot;: &quot;Point&quot;}, &quot;properties&quot;: {&quot;country&quot;: &quot;France&quot;, &quot;id&quot;: 0, &quot;name&quot;: &quot;Tite-Live&quot;, &quot;source&quot;: &quot;nominatim&quot;, &quot;sourceName&quot;: &quot;Rue Tite-Live, ZAC de la Scierie, Brumath, Haguenau-Wissembourg, Bas-Rhin, Grand Est, France m\\u00e9tropolitaine, 67170, France&quot;, &quot;type&quot;: &quot;residential&quot;}, &quot;type&quot;: &quot;Feature&quot;}, {&quot;geometry&quot;: {&quot;coordinates&quot;: [6.754352, 43.455242], &quot;type&quot;: &quot;Point&quot;}, &quot;properties&quot;: {&quot;country&quot;: &quot;France&quot;, &quot;id&quot;: 0, &quot;name&quot;: &quot;Tite-Live&quot;, &quot;source&quot;: &quot;nominatim&quot;, &quot;sourceName&quot;: &quot;All\\u00e9e Tite-Live, Fr\\u00e9jus, Draguignan, Var, Provence-Alpes-C\\u00f4te d\\u0027Azur, France m\\u00e9tropolitaine, 83600, France&quot;, &quot;type&quot;: &quot;residential&quot;}, &quot;type&quot;: &quot;Feature&quot;}, {&quot;geometry&quot;: {&quot;coordinates&quot;: [7.700136, 48.582413], &quot;type&quot;: &quot;Point&quot;}, &quot;properties&quot;: {&quot;country&quot;: &quot;France&quot;, &quot;id&quot;: 0, &quot;name&quot;: &quot;Tite-Live&quot;, &quot;source&quot;: &quot;nominatim&quot;, &quot;sourceName&quot;: &quot;Rue Tite-Live, Poteries, Strasbourg, Bas-Rhin, Grand Est, France m\\u00e9tropolitaine, 67200, France&quot;, &quot;type&quot;: &quot;service&quot;}, &quot;type&quot;: &quot;Feature&quot;}, {&quot;geometry&quot;: {&quot;coordinates&quot;: [13.949453, 41.165122], &quot;type&quot;: &quot;Point&quot;}, &quot;properties&quot;: {&quot;country&quot;: &quot;Italia&quot;, &quot;id&quot;: 0, &quot;name&quot;: &quot;Massico&quot;, &quot;source&quot;: &quot;nominatim&quot;, &quot;sourceName&quot;: &quot;Falciano del Massico, Caserta, Campania, Italia&quot;, &quot;type&quot;: &quot;administrative&quot;}, &quot;type&quot;: &quot;Feature&quot;}, {&quot;geometry&quot;: {&quot;coordinates&quot;: [13.916798, 41.162784], &quot;type&quot;: &quot;Point&quot;}, &quot;properties&quot;: {&quot;country&quot;: &quot;Italia&quot;, &quot;id&quot;: 0, &quot;name&quot;: &quot;Massico&quot;, &quot;source&quot;: &quot;nominatim&quot;, &quot;sourceName&quot;: &quot;Monte Massico, Mondragone, Caserta, Campania, Italia&quot;, &quot;type&quot;: &quot;peak&quot;}, &quot;type&quot;: &quot;Feature&quot;}, {&quot;geometry&quot;: {&quot;coordinates&quot;: [13.964373, 41.183051], &quot;type&quot;: &quot;Point&quot;}, &quot;properties&quot;: {&quot;country&quot;: &quot;Italia&quot;, &quot;id&quot;: 0, &quot;name&quot;: &quot;Massico&quot;, &quot;source&quot;: &quot;nominatim&quot;, &quot;sourceName&quot;: &quot;Cimitero Falciano del Massico, Falciano del Massico, Caserta, Campania, Italia&quot;, &quot;type&quot;: &quot;cemetery&quot;}, &quot;type&quot;: &quot;Feature&quot;}, {&quot;geometry&quot;: {&quot;coordinates&quot;: [12.527622, 41.951099], &quot;type&quot;: &quot;Point&quot;}, &quot;properties&quot;: {&quot;country&quot;: &quot;Italia&quot;, &quot;id&quot;: 0, &quot;name&quot;: &quot;Massico&quot;, &quot;source&quot;: &quot;nominatim&quot;, &quot;sourceName&quot;: &quot;Via Monte Massico, Monte Sacro, Municipio Roma III, Roma, Roma Capitale, Lazio, 00139, Italia&quot;, &quot;type&quot;: &quot;secondary&quot;}, &quot;type&quot;: &quot;Feature&quot;}, {&quot;geometry&quot;: {&quot;coordinates&quot;: [12.527397, 41.951083], &quot;type&quot;: &quot;Point&quot;}, &quot;properties&quot;: {&quot;country&quot;: &quot;Italia&quot;, &quot;id&quot;: 0, &quot;name&quot;: &quot;Massico&quot;, &quot;source&quot;: &quot;nominatim&quot;, &quot;sourceName&quot;: &quot;Via Monte Massico, Val Melaina, Municipio Roma III, Roma, Roma Capitale, Lazio, 00139, Italia&quot;, &quot;type&quot;: &quot;secondary&quot;}, &quot;type&quot;: &quot;Feature&quot;}, {&quot;geometry&quot;: {&quot;coordinates&quot;: [12.533973, 41.950784], &quot;type&quot;: &quot;Point&quot;}, &quot;properties&quot;: {&quot;country&quot;: &quot;Italia&quot;, &quot;id&quot;: 0, &quot;name&quot;: &quot;Massico&quot;, &quot;source&quot;: &quot;nominatim&quot;, &quot;sourceName&quot;: &quot;Via Monte Massico, Monte Sacro, Municipio Roma III, Roma, Roma Capitale, Lazio, 00139, Italia&quot;, &quot;type&quot;: &quot;residential&quot;}, &quot;type&quot;: &quot;Feature&quot;}, {&quot;geometry&quot;: {&quot;coordinates&quot;: [12.527805, 41.951274], &quot;type&quot;: &quot;Point&quot;}, &quot;properties&quot;: {&quot;country&quot;: &quot;Italia&quot;, &quot;id&quot;: 0, &quot;name&quot;: &quot;Massico&quot;, &quot;source&quot;: &quot;nominatim&quot;, &quot;sourceName&quot;: &quot;Via Monte Massico, Val Melaina, Municipio Roma III, Roma, Roma Capitale, Lazio, 00139, Italia&quot;, &quot;type&quot;: &quot;residential&quot;}, &quot;type&quot;: &quot;Feature&quot;}, {&quot;geometry&quot;: {&quot;coordinates&quot;: [13.947769, 41.169742], &quot;type&quot;: &quot;Point&quot;}, &quot;properties&quot;: {&quot;country&quot;: &quot;Italia&quot;, &quot;id&quot;: 0, &quot;name&quot;: &quot;Massico&quot;, &quot;source&quot;: &quot;nominatim&quot;, &quot;sourceName&quot;: &quot;Via Monte Massico, Falciano del Massico, Caserta, Campania, Italia&quot;, &quot;type&quot;: &quot;residential&quot;}, &quot;type&quot;: &quot;Feature&quot;}, {&quot;geometry&quot;: {&quot;coordinates&quot;: [13.918161, 41.170611], &quot;type&quot;: &quot;Point&quot;}, &quot;properties&quot;: {&quot;country&quot;: &quot;Italia&quot;, &quot;id&quot;: 0, &quot;name&quot;: &quot;Massico&quot;, &quot;source&quot;: &quot;nominatim&quot;, &quot;sourceName&quot;: &quot;Per M. Massico-sentiero non segnato, Falciano del Massico, Caserta, Campania, Italia&quot;, &quot;type&quot;: &quot;path&quot;}, &quot;type&quot;: &quot;Feature&quot;}, {&quot;geometry&quot;: {&quot;coordinates&quot;: [12.531571, 41.952106], &quot;type&quot;: &quot;Point&quot;}, &quot;properties&quot;: {&quot;country&quot;: &quot;Italia&quot;, &quot;id&quot;: 0, &quot;name&quot;: &quot;Massico&quot;, &quot;source&quot;: &quot;nominatim&quot;, &quot;sourceName&quot;: &quot;Monte Petrella/Monte Massico, Via Monte Resegone, Monte Sacro, Municipio Roma III, Roma, Roma Capitale, Lazio, 00139, Italia&quot;, &quot;type&quot;: &quot;bus_stop&quot;}, &quot;type&quot;: &quot;Feature&quot;}, {&quot;geometry&quot;: {&quot;coordinates&quot;: [13.91667, 41.16667], &quot;type&quot;: &quot;Point&quot;}, &quot;properties&quot;: {&quot;country&quot;: &quot;Italy&quot;, &quot;id&quot;: 0, &quot;name&quot;: &quot;Massico&quot;, &quot;source&quot;: &quot;geonames&quot;, &quot;sourceName&quot;: &quot;Monte Massico&quot;, &quot;type&quot;: &quot;MT&quot;}, &quot;type&quot;: &quot;Feature&quot;}, {&quot;geometry&quot;: {&quot;coordinates&quot;: [13.94812, 41.16271], &quot;type&quot;: &quot;Point&quot;}, &quot;properties&quot;: {&quot;country&quot;: &quot;Italy&quot;, &quot;id&quot;: 0, &quot;name&quot;: &quot;Massico&quot;, &quot;source&quot;: &quot;geonames&quot;, &quot;sourceName&quot;: &quot;Falciano del Massico&quot;, &quot;type&quot;: &quot;PPLA3&quot;}, &quot;type&quot;: &quot;Feature&quot;}, {&quot;geometry&quot;: {&quot;coordinates&quot;: [13.94812, 41.16271], &quot;type&quot;: &quot;Point&quot;}, &quot;properties&quot;: {&quot;country&quot;: &quot;Italy&quot;, &quot;id&quot;: 0, &quot;name&quot;: &quot;Massico&quot;, &quot;source&quot;: &quot;geonames&quot;, &quot;sourceName&quot;: &quot;Falciano del Massico&quot;, &quot;type&quot;: &quot;ADM3&quot;}, &quot;type&quot;: &quot;Feature&quot;}, {&quot;geometry&quot;: {&quot;coordinates&quot;: [-64.25, -10.75], &quot;type&quot;: &quot;Point&quot;}, &quot;properties&quot;: {&quot;country&quot;: &quot;Brazil&quot;, &quot;id&quot;: 0, &quot;name&quot;: &quot;Massico&quot;, &quot;source&quot;: &quot;geonames&quot;, &quot;sourceName&quot;: &quot;Serra dos Paca\\u00e1s Novos&quot;, &quot;type&quot;: &quot;MTS&quot;}, &quot;type&quot;: &quot;Feature&quot;}, {&quot;geometry&quot;: {&quot;coordinates&quot;: [13.95, 41.16667], &quot;type&quot;: &quot;Point&quot;}, &quot;properties&quot;: {&quot;country&quot;: &quot;Italy&quot;, &quot;id&quot;: 0, &quot;name&quot;: &quot;Massico&quot;, &quot;source&quot;: &quot;geonames&quot;, &quot;sourceName&quot;: &quot;Falciano Selice&quot;, &quot;type&quot;: &quot;PPL&quot;}, &quot;type&quot;: &quot;Feature&quot;}, {&quot;geometry&quot;: {&quot;coordinates&quot;: [13.95, 41.16667], &quot;type&quot;: &quot;Point&quot;}, &quot;properties&quot;: {&quot;country&quot;: &quot;Italy&quot;, &quot;id&quot;: 0, &quot;name&quot;: &quot;Massico&quot;, &quot;source&quot;: &quot;geonames&quot;, &quot;sourceName&quot;: &quot;Falciano Capo&quot;, &quot;type&quot;: &quot;PPL&quot;}, &quot;type&quot;: &quot;Feature&quot;}, {&quot;geometry&quot;: {&quot;coordinates&quot;: [13.97616, 41.14219], &quot;type&quot;: &quot;Point&quot;}, &quot;properties&quot;: {&quot;country&quot;: &quot;Italy&quot;, &quot;id&quot;: 0, &quot;name&quot;: &quot;Massico&quot;, &quot;source&quot;: &quot;geonames&quot;, &quot;sourceName&quot;: &quot;Hotel della Baia&quot;, &quot;type&quot;: &quot;HTL&quot;}, &quot;type&quot;: &quot;Feature&quot;}], &quot;type&quot;: &quot;FeatureCollection&quot;});\n",
       "\n",
       "        \n",
       "    \n",
       "    geo_json_756a6697e7cab6d969eb569122826adb.bindTooltip(\n",
       "    function(layer){\n",
       "    let div = L.DomUtil.create(&#x27;div&#x27;);\n",
       "    \n",
       "    let handleObject = feature=&gt;typeof(feature)==&#x27;object&#x27; ? JSON.stringify(feature) : feature;\n",
       "    let fields = [&quot;name&quot;, &quot;source&quot;];\n",
       "    let aliases = [&quot;name&quot;, &quot;source&quot;];\n",
       "    let table = &#x27;&lt;table&gt;&#x27; +\n",
       "        String(\n",
       "        fields.map(\n",
       "        (v,i)=&gt;\n",
       "        `&lt;tr&gt;\n",
       "            &lt;th&gt;${aliases[i].toLocaleString()}&lt;/th&gt;\n",
       "            \n",
       "            &lt;td&gt;${handleObject(layer.feature.properties[v]).toLocaleString()}&lt;/td&gt;\n",
       "        &lt;/tr&gt;`).join(&#x27;&#x27;))\n",
       "    +&#x27;&lt;/table&gt;&#x27;;\n",
       "    div.innerHTML=table;\n",
       "    \n",
       "    return div\n",
       "    }\n",
       "    ,{&quot;className&quot;: &quot;foliumtooltip&quot;, &quot;sticky&quot;: true});\n",
       "                     \n",
       "&lt;/script&gt;\" style=\"position:absolute;width:100%;height:100%;left:0;top:0;border:none !important;\" allowfullscreen webkitallowfullscreen mozallowfullscreen></iframe></div></div>"
      ],
      "text/plain": [
       "<folium.folium.Map at 0x1639dfbb0>"
      ]
     },
     "execution_count": 90,
     "metadata": {},
     "output_type": "execute_result"
    }
   ],
   "source": [
    "geocoder = Geocoder(sources=['nominatim', 'geonames', 'whg'], max_rows=10)\n",
    "doc = geocoder(places)\n",
    "doc.get_folium_map()"
   ]
  },
  {
   "cell_type": "markdown",
   "metadata": {},
   "source": [
    "Setting a bounding box to filter results into a specific area"
   ]
  },
  {
   "cell_type": "code",
   "execution_count": 91,
   "metadata": {},
   "outputs": [
    {
     "data": {
      "text/html": [
       "<div style=\"width:100%;\"><div style=\"position:relative;width:100%;height:0;padding-bottom:60%;\"><span style=\"color:#565656\">Make this Notebook Trusted to load map: File -> Trust Notebook</span><iframe srcdoc=\"&lt;!DOCTYPE html&gt;\n",
       "&lt;head&gt;    \n",
       "    &lt;meta http-equiv=&quot;content-type&quot; content=&quot;text/html; charset=UTF-8&quot; /&gt;\n",
       "    \n",
       "        &lt;script&gt;\n",
       "            L_NO_TOUCH = false;\n",
       "            L_DISABLE_3D = false;\n",
       "        &lt;/script&gt;\n",
       "    \n",
       "    &lt;style&gt;html, body {width: 100%;height: 100%;margin: 0;padding: 0;}&lt;/style&gt;\n",
       "    &lt;style&gt;#map {position:absolute;top:0;bottom:0;right:0;left:0;}&lt;/style&gt;\n",
       "    &lt;script src=&quot;https://cdn.jsdelivr.net/npm/leaflet@1.6.0/dist/leaflet.js&quot;&gt;&lt;/script&gt;\n",
       "    &lt;script src=&quot;https://code.jquery.com/jquery-1.12.4.min.js&quot;&gt;&lt;/script&gt;\n",
       "    &lt;script src=&quot;https://maxcdn.bootstrapcdn.com/bootstrap/3.2.0/js/bootstrap.min.js&quot;&gt;&lt;/script&gt;\n",
       "    &lt;script src=&quot;https://cdnjs.cloudflare.com/ajax/libs/Leaflet.awesome-markers/2.0.2/leaflet.awesome-markers.js&quot;&gt;&lt;/script&gt;\n",
       "    &lt;link rel=&quot;stylesheet&quot; href=&quot;https://cdn.jsdelivr.net/npm/leaflet@1.6.0/dist/leaflet.css&quot;/&gt;\n",
       "    &lt;link rel=&quot;stylesheet&quot; href=&quot;https://maxcdn.bootstrapcdn.com/bootstrap/3.2.0/css/bootstrap.min.css&quot;/&gt;\n",
       "    &lt;link rel=&quot;stylesheet&quot; href=&quot;https://maxcdn.bootstrapcdn.com/bootstrap/3.2.0/css/bootstrap-theme.min.css&quot;/&gt;\n",
       "    &lt;link rel=&quot;stylesheet&quot; href=&quot;https://maxcdn.bootstrapcdn.com/font-awesome/4.6.3/css/font-awesome.min.css&quot;/&gt;\n",
       "    &lt;link rel=&quot;stylesheet&quot; href=&quot;https://cdnjs.cloudflare.com/ajax/libs/Leaflet.awesome-markers/2.0.2/leaflet.awesome-markers.css&quot;/&gt;\n",
       "    &lt;link rel=&quot;stylesheet&quot; href=&quot;https://cdn.jsdelivr.net/gh/python-visualization/folium/folium/templates/leaflet.awesome.rotate.min.css&quot;/&gt;\n",
       "    \n",
       "            &lt;meta name=&quot;viewport&quot; content=&quot;width=device-width,\n",
       "                initial-scale=1.0, maximum-scale=1.0, user-scalable=no&quot; /&gt;\n",
       "            &lt;style&gt;\n",
       "                #map_50077448876e535c048391e43c336d3f {\n",
       "                    position: relative;\n",
       "                    width: 100.0%;\n",
       "                    height: 100.0%;\n",
       "                    left: 0.0%;\n",
       "                    top: 0.0%;\n",
       "                }\n",
       "            &lt;/style&gt;\n",
       "        \n",
       "    \n",
       "                    &lt;style&gt;\n",
       "                        .foliumtooltip {\n",
       "                            \n",
       "                        }\n",
       "                       .foliumtooltip table{\n",
       "                            margin: auto;\n",
       "                        }\n",
       "                        .foliumtooltip tr{\n",
       "                            text-align: left;\n",
       "                        }\n",
       "                        .foliumtooltip th{\n",
       "                            padding: 2px; padding-right: 8px;\n",
       "                        }\n",
       "                    &lt;/style&gt;\n",
       "            \n",
       "&lt;/head&gt;\n",
       "&lt;body&gt;    \n",
       "    \n",
       "            &lt;div class=&quot;folium-map&quot; id=&quot;map_50077448876e535c048391e43c336d3f&quot; &gt;&lt;/div&gt;\n",
       "        \n",
       "&lt;/body&gt;\n",
       "&lt;script&gt;    \n",
       "    \n",
       "            var map_50077448876e535c048391e43c336d3f = L.map(\n",
       "                &quot;map_50077448876e535c048391e43c336d3f&quot;,\n",
       "                {\n",
       "                    center: [0, 0],\n",
       "                    crs: L.CRS.EPSG3857,\n",
       "                    zoom: 1,\n",
       "                    zoomControl: true,\n",
       "                    preferCanvas: false,\n",
       "                }\n",
       "            );\n",
       "\n",
       "            \n",
       "\n",
       "        \n",
       "    \n",
       "            var tile_layer_07b9fb5e1bdf18782879fcc201027a95 = L.tileLayer(\n",
       "                &quot;https://{s}.tile.openstreetmap.org/{z}/{x}/{y}.png&quot;,\n",
       "                {&quot;attribution&quot;: &quot;Data by \\u0026copy; \\u003ca href=\\&quot;http://openstreetmap.org\\&quot;\\u003eOpenStreetMap\\u003c/a\\u003e, under \\u003ca href=\\&quot;http://www.openstreetmap.org/copyright\\&quot;\\u003eODbL\\u003c/a\\u003e.&quot;, &quot;detectRetina&quot;: false, &quot;maxNativeZoom&quot;: 18, &quot;maxZoom&quot;: 18, &quot;minZoom&quot;: 0, &quot;noWrap&quot;: false, &quot;opacity&quot;: 1, &quot;subdomains&quot;: &quot;abc&quot;, &quot;tms&quot;: false}\n",
       "            ).addTo(map_50077448876e535c048391e43c336d3f);\n",
       "        \n",
       "    \n",
       "            map_50077448876e535c048391e43c336d3f.fitBounds(\n",
       "                [[32.2333, -94.4833], [50.9, 17.63726]],\n",
       "                {}\n",
       "            );\n",
       "        \n",
       "    \n",
       "\n",
       "        function geo_json_bd4bd1582a9fcc718cb5f01e1aa3dde3_onEachFeature(feature, layer) {\n",
       "            layer.on({\n",
       "            });\n",
       "        };\n",
       "        var geo_json_bd4bd1582a9fcc718cb5f01e1aa3dde3 = L.geoJson(null, {\n",
       "                onEachFeature: geo_json_bd4bd1582a9fcc718cb5f01e1aa3dde3_onEachFeature,\n",
       "            \n",
       "        });\n",
       "\n",
       "        function geo_json_bd4bd1582a9fcc718cb5f01e1aa3dde3_add (data) {\n",
       "            geo_json_bd4bd1582a9fcc718cb5f01e1aa3dde3\n",
       "                .addData(data)\n",
       "                .addTo(map_50077448876e535c048391e43c336d3f);\n",
       "        }\n",
       "            geo_json_bd4bd1582a9fcc718cb5f01e1aa3dde3_add({&quot;features&quot;: [{&quot;geometry&quot;: {&quot;coordinates&quot;: [15.907311, 40.28558], &quot;type&quot;: &quot;Point&quot;}, &quot;properties&quot;: {&quot;country&quot;: &quot;Italia&quot;, &quot;id&quot;: 0, &quot;name&quot;: &quot;GRUMENTUM&quot;, &quot;source&quot;: &quot;nominatim&quot;, &quot;sourceName&quot;: &quot;Parco Archeologico di Grumentum, SPEXSS103, Grumento Nova, Potenza, Basilicata, 85047, Italia&quot;, &quot;type&quot;: &quot;archaeological_site&quot;}, &quot;type&quot;: &quot;Feature&quot;}, {&quot;geometry&quot;: {&quot;coordinates&quot;: [15.905659, 40.28373], &quot;type&quot;: &quot;Point&quot;}, &quot;properties&quot;: {&quot;country&quot;: &quot;Italia&quot;, &quot;id&quot;: 0, &quot;name&quot;: &quot;GRUMENTUM&quot;, &quot;source&quot;: &quot;nominatim&quot;, &quot;sourceName&quot;: &quot;Domus dei mosaici Grumentum, SPEXSS103, Grumento Nova, Potenza, Basilicata, 85047, Italia&quot;, &quot;type&quot;: &quot;ruins&quot;}, &quot;type&quot;: &quot;Feature&quot;}, {&quot;geometry&quot;: {&quot;coordinates&quot;: [15.909105, 40.286472], &quot;type&quot;: &quot;Point&quot;}, &quot;properties&quot;: {&quot;country&quot;: &quot;Italia&quot;, &quot;id&quot;: 0, &quot;name&quot;: &quot;GRUMENTUM&quot;, &quot;source&quot;: &quot;nominatim&quot;, &quot;sourceName&quot;: &quot;Terme imperiali Grumentum, SPEXSS103, Grumento Nova, Potenza, Basilicata, 85047, Italia&quot;, &quot;type&quot;: &quot;ruins&quot;}, &quot;type&quot;: &quot;Feature&quot;}, {&quot;geometry&quot;: {&quot;coordinates&quot;: [15.90707, 40.28522], &quot;type&quot;: &quot;Point&quot;}, &quot;properties&quot;: {&quot;country&quot;: &quot;Italy&quot;, &quot;id&quot;: 0, &quot;name&quot;: &quot;GRUMENTUM&quot;, &quot;source&quot;: &quot;geonames&quot;, &quot;sourceName&quot;: &quot;Grumentum&quot;, &quot;type&quot;: &quot;ANS&quot;}, &quot;type&quot;: &quot;Feature&quot;}, {&quot;geometry&quot;: {&quot;coordinates&quot;: [15.90726, 40.28502], &quot;type&quot;: &quot;Point&quot;}, &quot;properties&quot;: {&quot;country&quot;: &quot;Italy&quot;, &quot;id&quot;: 0, &quot;name&quot;: &quot;GRUMENTUM&quot;, &quot;source&quot;: &quot;geonames&quot;, &quot;sourceName&quot;: &quot;(former) Roman Catholic Diocese of Grumentum&quot;, &quot;type&quot;: &quot;PPLCH&quot;}, &quot;type&quot;: &quot;Feature&quot;}, {&quot;geometry&quot;: {&quot;coordinates&quot;: [15.90666, 40.28457], &quot;type&quot;: &quot;Point&quot;}, &quot;properties&quot;: {&quot;country&quot;: &quot;Italy&quot;, &quot;id&quot;: 0, &quot;name&quot;: &quot;GRUMENTUM&quot;, &quot;source&quot;: &quot;geonames&quot;, &quot;sourceName&quot;: &quot;Chiesa di Santa Maria Assunta, Grumentum&quot;, &quot;type&quot;: &quot;CH&quot;}, &quot;type&quot;: &quot;Feature&quot;}, {&quot;geometry&quot;: {&quot;coordinates&quot;: [15.9167, 40.2833], &quot;type&quot;: &quot;Point&quot;}, &quot;properties&quot;: {&quot;country&quot;: &quot;IT&quot;, &quot;id&quot;: 0, &quot;name&quot;: &quot;GRUMENTUM&quot;, &quot;source&quot;: &quot;whg&quot;, &quot;sourceName&quot;: &quot;Grumento&quot;, &quot;type&quot;: &quot;deserted settlements&quot;}, &quot;type&quot;: &quot;Feature&quot;}, {&quot;geometry&quot;: {&quot;coordinates&quot;: [16.081953, 40.500571], &quot;type&quot;: &quot;Point&quot;}, &quot;properties&quot;: {&quot;country&quot;: &quot;Italia&quot;, &quot;id&quot;: 0, &quot;name&quot;: &quot;Lucanie&quot;, &quot;source&quot;: &quot;nominatim&quot;, &quot;sourceName&quot;: &quot;Basilicata, Italia&quot;, &quot;type&quot;: &quot;administrative&quot;}, &quot;type&quot;: &quot;Feature&quot;}, {&quot;geometry&quot;: {&quot;coordinates&quot;: [15.80794, 40.64175], &quot;type&quot;: &quot;Point&quot;}, &quot;properties&quot;: {&quot;country&quot;: &quot;Italy&quot;, &quot;id&quot;: 0, &quot;name&quot;: &quot;Lucanie&quot;, &quot;source&quot;: &quot;geonames&quot;, &quot;sourceName&quot;: &quot;Potenza&quot;, &quot;type&quot;: &quot;PPLA&quot;}, &quot;type&quot;: &quot;Feature&quot;}, {&quot;geometry&quot;: {&quot;coordinates&quot;: [16.11396, 40.5041], &quot;type&quot;: &quot;Point&quot;}, &quot;properties&quot;: {&quot;country&quot;: &quot;Italy&quot;, &quot;id&quot;: 0, &quot;name&quot;: &quot;Lucanie&quot;, &quot;source&quot;: &quot;geonames&quot;, &quot;sourceName&quot;: &quot;Basilicata&quot;, &quot;type&quot;: &quot;ADM1&quot;}, &quot;type&quot;: &quot;Feature&quot;}, {&quot;geometry&quot;: {&quot;coordinates&quot;: [16.60463, 40.66599], &quot;type&quot;: &quot;Point&quot;}, &quot;properties&quot;: {&quot;country&quot;: &quot;Italy&quot;, &quot;id&quot;: 0, &quot;name&quot;: &quot;Lucanie&quot;, &quot;source&quot;: &quot;geonames&quot;, &quot;sourceName&quot;: &quot;Matera&quot;, &quot;type&quot;: &quot;PPLA2&quot;}, &quot;type&quot;: &quot;Feature&quot;}, {&quot;geometry&quot;: {&quot;coordinates&quot;: [15.89938, 40.46442], &quot;type&quot;: &quot;Point&quot;}, &quot;properties&quot;: {&quot;country&quot;: &quot;Italy&quot;, &quot;id&quot;: 0, &quot;name&quot;: &quot;Lucanie&quot;, &quot;source&quot;: &quot;geonames&quot;, &quot;sourceName&quot;: &quot;Provincia di Potenza&quot;, &quot;type&quot;: &quot;ADM2&quot;}, &quot;type&quot;: &quot;Feature&quot;}, {&quot;geometry&quot;: {&quot;coordinates&quot;: [15.81285, 40.96283], &quot;type&quot;: &quot;Point&quot;}, &quot;properties&quot;: {&quot;country&quot;: &quot;Italy&quot;, &quot;id&quot;: 0, &quot;name&quot;: &quot;Lucanie&quot;, &quot;source&quot;: &quot;geonames&quot;, &quot;sourceName&quot;: &quot;Venosa&quot;, &quot;type&quot;: &quot;PPLA3&quot;}, &quot;type&quot;: &quot;Feature&quot;}, {&quot;geometry&quot;: {&quot;coordinates&quot;: [15.96658, 40.26921], &quot;type&quot;: &quot;Point&quot;}, &quot;properties&quot;: {&quot;country&quot;: &quot;Italy&quot;, &quot;id&quot;: 0, &quot;name&quot;: &quot;Lucanie&quot;, &quot;source&quot;: &quot;geonames&quot;, &quot;sourceName&quot;: &quot;Spinoso&quot;, &quot;type&quot;: &quot;PPLA3&quot;}, &quot;type&quot;: &quot;Feature&quot;}, {&quot;geometry&quot;: {&quot;coordinates&quot;: [15.88837, 40.248], &quot;type&quot;: &quot;Point&quot;}, &quot;properties&quot;: {&quot;country&quot;: &quot;Italy&quot;, &quot;id&quot;: 0, &quot;name&quot;: &quot;Lucanie&quot;, &quot;source&quot;: &quot;geonames&quot;, &quot;sourceName&quot;: &quot;Sarconi&quot;, &quot;type&quot;: &quot;PPLA3&quot;}, &quot;type&quot;: &quot;Feature&quot;}, {&quot;geometry&quot;: {&quot;coordinates&quot;: [15.6711, 40.92328], &quot;type&quot;: &quot;Point&quot;}, &quot;properties&quot;: {&quot;country&quot;: &quot;Italy&quot;, &quot;id&quot;: 0, &quot;name&quot;: &quot;Lucanie&quot;, &quot;source&quot;: &quot;geonames&quot;, &quot;sourceName&quot;: &quot;Rionero in Vulture&quot;, &quot;type&quot;: &quot;PPLA3&quot;}, &quot;type&quot;: &quot;Feature&quot;}, {&quot;geometry&quot;: {&quot;coordinates&quot;: [15.99281, 40.16213], &quot;type&quot;: &quot;Point&quot;}, &quot;properties&quot;: {&quot;country&quot;: &quot;Italy&quot;, &quot;id&quot;: 0, &quot;name&quot;: &quot;Lucanie&quot;, &quot;source&quot;: &quot;geonames&quot;, &quot;sourceName&quot;: &quot;Castelsaraceno&quot;, &quot;type&quot;: &quot;PPLA3&quot;}, &quot;type&quot;: &quot;Feature&quot;}, {&quot;geometry&quot;: {&quot;coordinates&quot;: [15.99182, 40.29765], &quot;type&quot;: &quot;Point&quot;}, &quot;properties&quot;: {&quot;country&quot;: &quot;Italy&quot;, &quot;id&quot;: 0, &quot;name&quot;: &quot;Lucanie&quot;, &quot;source&quot;: &quot;geonames&quot;, &quot;sourceName&quot;: &quot;Montemurro&quot;, &quot;type&quot;: &quot;PPLA3&quot;}, &quot;type&quot;: &quot;Feature&quot;}, {&quot;geometry&quot;: {&quot;coordinates&quot;: [17.08058, 40.548816], &quot;type&quot;: &quot;Point&quot;}, &quot;properties&quot;: {&quot;country&quot;: &quot;Italia&quot;, &quot;id&quot;: 0, &quot;name&quot;: &quot;Tarente&quot;, &quot;source&quot;: &quot;nominatim&quot;, &quot;sourceName&quot;: &quot;Taranto, Puglia, Italia&quot;, &quot;type&quot;: &quot;administrative&quot;}, &quot;type&quot;: &quot;Feature&quot;}, {&quot;geometry&quot;: {&quot;coordinates&quot;: [17.243228, 40.471243], &quot;type&quot;: &quot;Point&quot;}, &quot;properties&quot;: {&quot;country&quot;: &quot;Italia&quot;, &quot;id&quot;: 0, &quot;name&quot;: &quot;Tarente&quot;, &quot;source&quot;: &quot;nominatim&quot;, &quot;sourceName&quot;: &quot;Taranto, Puglia, Italia&quot;, &quot;type&quot;: &quot;administrative&quot;}, &quot;type&quot;: &quot;Feature&quot;}, {&quot;geometry&quot;: {&quot;coordinates&quot;: [17.224215, 40.483692], &quot;type&quot;: &quot;Point&quot;}, &quot;properties&quot;: {&quot;country&quot;: &quot;Italia&quot;, &quot;id&quot;: 0, &quot;name&quot;: &quot;Tarente&quot;, &quot;source&quot;: &quot;nominatim&quot;, &quot;sourceName&quot;: &quot;Taranto, Piazza Libert\\u00e0, Taranto, Puglia, 74123, Italia&quot;, &quot;type&quot;: &quot;station&quot;}, &quot;type&quot;: &quot;Feature&quot;}, {&quot;geometry&quot;: {&quot;coordinates&quot;: [17.24707, 40.46438], &quot;type&quot;: &quot;Point&quot;}, &quot;properties&quot;: {&quot;country&quot;: &quot;Italy&quot;, &quot;id&quot;: 0, &quot;name&quot;: &quot;Tarente&quot;, &quot;source&quot;: &quot;geonames&quot;, &quot;sourceName&quot;: &quot;Taranto&quot;, &quot;type&quot;: &quot;PPLA2&quot;}, &quot;type&quot;: &quot;Feature&quot;}, {&quot;geometry&quot;: {&quot;coordinates&quot;: [17.25, 40.61667], &quot;type&quot;: &quot;Point&quot;}, &quot;properties&quot;: {&quot;country&quot;: &quot;Italy&quot;, &quot;id&quot;: 0, &quot;name&quot;: &quot;Tarente&quot;, &quot;source&quot;: &quot;geonames&quot;, &quot;sourceName&quot;: &quot;Provincia di Taranto&quot;, &quot;type&quot;: &quot;ADM2&quot;}, &quot;type&quot;: &quot;Feature&quot;}, {&quot;geometry&quot;: {&quot;coordinates&quot;: [17.40321, 40.51751], &quot;type&quot;: &quot;Point&quot;}, &quot;properties&quot;: {&quot;country&quot;: &quot;Italy&quot;, &quot;id&quot;: 0, &quot;name&quot;: &quot;Tarente&quot;, &quot;source&quot;: &quot;geonames&quot;, &quot;sourceName&quot;: &quot;Taranto-Grottaglie Airport&quot;, &quot;type&quot;: &quot;AIRP&quot;}, &quot;type&quot;: &quot;Feature&quot;}, {&quot;geometry&quot;: {&quot;coordinates&quot;: [17.2401, 40.41702], &quot;type&quot;: &quot;Point&quot;}, &quot;properties&quot;: {&quot;country&quot;: &quot;Italy&quot;, &quot;id&quot;: 0, &quot;name&quot;: &quot;Tarente&quot;, &quot;source&quot;: &quot;geonames&quot;, &quot;sourceName&quot;: &quot;Taranto&quot;, &quot;type&quot;: &quot;ADM3&quot;}, &quot;type&quot;: &quot;Feature&quot;}, {&quot;geometry&quot;: {&quot;coordinates&quot;: [17.20122, 40.52856], &quot;type&quot;: &quot;Point&quot;}, &quot;properties&quot;: {&quot;country&quot;: &quot;Italy&quot;, &quot;id&quot;: 0, &quot;name&quot;: &quot;Tarente&quot;, &quot;source&quot;: &quot;geonames&quot;, &quot;sourceName&quot;: &quot;Statte&quot;, &quot;type&quot;: &quot;PPLA3&quot;}, &quot;type&quot;: &quot;Feature&quot;}, {&quot;geometry&quot;: {&quot;coordinates&quot;: [16.9329, 40.62794], &quot;type&quot;: &quot;Point&quot;}, &quot;properties&quot;: {&quot;country&quot;: &quot;Italy&quot;, &quot;id&quot;: 0, &quot;name&quot;: &quot;Tarente&quot;, &quot;source&quot;: &quot;geonames&quot;, &quot;sourceName&quot;: &quot;Castellaneta&quot;, &quot;type&quot;: &quot;PPLA3&quot;}, &quot;type&quot;: &quot;Feature&quot;}, {&quot;geometry&quot;: {&quot;coordinates&quot;: [17.11635, 40.58618], &quot;type&quot;: &quot;Point&quot;}, &quot;properties&quot;: {&quot;country&quot;: &quot;Italy&quot;, &quot;id&quot;: 0, &quot;name&quot;: &quot;Tarente&quot;, &quot;source&quot;: &quot;geonames&quot;, &quot;sourceName&quot;: &quot;Massafra&quot;, &quot;type&quot;: &quot;PPLA3&quot;}, &quot;type&quot;: &quot;Feature&quot;}, {&quot;geometry&quot;: {&quot;coordinates&quot;: [17.33814, 40.70355], &quot;type&quot;: &quot;Point&quot;}, &quot;properties&quot;: {&quot;country&quot;: &quot;Italy&quot;, &quot;id&quot;: 0, &quot;name&quot;: &quot;Tarente&quot;, &quot;source&quot;: &quot;geonames&quot;, &quot;sourceName&quot;: &quot;Martina Franca&quot;, &quot;type&quot;: &quot;PPLA3&quot;}, &quot;type&quot;: &quot;Feature&quot;}, {&quot;geometry&quot;: {&quot;coordinates&quot;: [17.63726, 40.39899], &quot;type&quot;: &quot;Point&quot;}, &quot;properties&quot;: {&quot;country&quot;: &quot;Italy&quot;, &quot;id&quot;: 0, &quot;name&quot;: &quot;Tarente&quot;, &quot;source&quot;: &quot;geonames&quot;, &quot;sourceName&quot;: &quot;Manduria&quot;, &quot;type&quot;: &quot;PPLA3&quot;}, &quot;type&quot;: &quot;Feature&quot;}, {&quot;geometry&quot;: {&quot;coordinates&quot;: [17.03812, 40.57762], &quot;type&quot;: &quot;Point&quot;}, &quot;properties&quot;: {&quot;country&quot;: &quot;Italy&quot;, &quot;id&quot;: 0, &quot;name&quot;: &quot;Tarente&quot;, &quot;source&quot;: &quot;geonames&quot;, &quot;sourceName&quot;: &quot;Palagiano&quot;, &quot;type&quot;: &quot;PPLA3&quot;}, &quot;type&quot;: &quot;Feature&quot;}, {&quot;geometry&quot;: {&quot;coordinates&quot;: [-2.083333, 50.866667], &quot;type&quot;: &quot;Point&quot;}, &quot;properties&quot;: {&quot;country&quot;: &quot;GB&quot;, &quot;id&quot;: 0, &quot;name&quot;: &quot;Tarente&quot;, &quot;source&quot;: &quot;whg&quot;, &quot;sourceName&quot;: &quot;Tarrant Monkton&quot;, &quot;type&quot;: &quot;inhabited places&quot;}, &quot;type&quot;: &quot;Feature&quot;}, {&quot;geometry&quot;: {&quot;coordinates&quot;: [-2.1, 50.8333], &quot;type&quot;: &quot;Point&quot;}, &quot;properties&quot;: {&quot;country&quot;: &quot;GB&quot;, &quot;id&quot;: 0, &quot;name&quot;: &quot;Tarente&quot;, &quot;source&quot;: &quot;whg&quot;, &quot;sourceName&quot;: &quot;Tarrant Keyneston&quot;, &quot;type&quot;: &quot;villages&quot;}, &quot;type&quot;: &quot;Feature&quot;}, {&quot;geometry&quot;: {&quot;coordinates&quot;: [-2.0667, 50.8833], &quot;type&quot;: &quot;Point&quot;}, &quot;properties&quot;: {&quot;country&quot;: &quot;GB&quot;, &quot;id&quot;: 0, &quot;name&quot;: &quot;Tarente&quot;, &quot;source&quot;: &quot;whg&quot;, &quot;sourceName&quot;: &quot;Tarrant Launceston&quot;, &quot;type&quot;: &quot;inhabited places&quot;}, &quot;type&quot;: &quot;Feature&quot;}, {&quot;geometry&quot;: {&quot;coordinates&quot;: [-2.083333, 50.9], &quot;type&quot;: &quot;Point&quot;}, &quot;properties&quot;: {&quot;country&quot;: &quot;GB&quot;, &quot;id&quot;: 0, &quot;name&quot;: &quot;Tarente&quot;, &quot;source&quot;: &quot;whg&quot;, &quot;sourceName&quot;: &quot;Tarrant Hinton&quot;, &quot;type&quot;: &quot;villages&quot;}, &quot;type&quot;: &quot;Feature&quot;}, {&quot;geometry&quot;: {&quot;coordinates&quot;: [-2.1, 50.8167], &quot;type&quot;: &quot;Point&quot;}, &quot;properties&quot;: {&quot;country&quot;: &quot;GB&quot;, &quot;id&quot;: 0, &quot;name&quot;: &quot;Tarente&quot;, &quot;source&quot;: &quot;whg&quot;, &quot;sourceName&quot;: &quot;Tarrant Crawford&quot;, &quot;type&quot;: &quot;inhabited places&quot;}, &quot;type&quot;: &quot;Feature&quot;}, {&quot;geometry&quot;: {&quot;coordinates&quot;: [-94.4833, 37.6167], &quot;type&quot;: &quot;Point&quot;}, &quot;properties&quot;: {&quot;country&quot;: &quot;US&quot;, &quot;id&quot;: 0, &quot;name&quot;: &quot;Hannon&quot;, &quot;source&quot;: &quot;whg&quot;, &quot;sourceName&quot;: &quot;Hannon&quot;, &quot;type&quot;: &quot;inhabited places&quot;}, &quot;type&quot;: &quot;Feature&quot;}, {&quot;geometry&quot;: {&quot;coordinates&quot;: [-85.5167, 32.2333], &quot;type&quot;: &quot;Point&quot;}, &quot;properties&quot;: {&quot;country&quot;: &quot;US&quot;, &quot;id&quot;: 0, &quot;name&quot;: &quot;Hannon&quot;, &quot;source&quot;: &quot;whg&quot;, &quot;sourceName&quot;: &quot;Hannon&quot;, &quot;type&quot;: &quot;inhabited places&quot;}, &quot;type&quot;: &quot;Feature&quot;}, {&quot;geometry&quot;: {&quot;coordinates&quot;: [14.395778, 40.633395], &quot;type&quot;: &quot;Point&quot;}, &quot;properties&quot;: {&quot;country&quot;: &quot;Italia&quot;, &quot;id&quot;: 0, &quot;name&quot;: &quot;Massico&quot;, &quot;source&quot;: &quot;nominatim&quot;, &quot;sourceName&quot;: &quot;B\\u0026B Massico, Viale dei Pini, Maiano, Sant\\u0027Agnello, Napoli, Campania, 80065, Italia&quot;, &quot;type&quot;: &quot;guest_house&quot;}, &quot;type&quot;: &quot;Feature&quot;}], &quot;type&quot;: &quot;FeatureCollection&quot;});\n",
       "\n",
       "        \n",
       "    \n",
       "    geo_json_bd4bd1582a9fcc718cb5f01e1aa3dde3.bindTooltip(\n",
       "    function(layer){\n",
       "    let div = L.DomUtil.create(&#x27;div&#x27;);\n",
       "    \n",
       "    let handleObject = feature=&gt;typeof(feature)==&#x27;object&#x27; ? JSON.stringify(feature) : feature;\n",
       "    let fields = [&quot;name&quot;, &quot;source&quot;];\n",
       "    let aliases = [&quot;name&quot;, &quot;source&quot;];\n",
       "    let table = &#x27;&lt;table&gt;&#x27; +\n",
       "        String(\n",
       "        fields.map(\n",
       "        (v,i)=&gt;\n",
       "        `&lt;tr&gt;\n",
       "            &lt;th&gt;${aliases[i].toLocaleString()}&lt;/th&gt;\n",
       "            \n",
       "            &lt;td&gt;${handleObject(layer.feature.properties[v]).toLocaleString()}&lt;/td&gt;\n",
       "        &lt;/tr&gt;`).join(&#x27;&#x27;))\n",
       "    +&#x27;&lt;/table&gt;&#x27;;\n",
       "    div.innerHTML=table;\n",
       "    \n",
       "    return div\n",
       "    }\n",
       "    ,{&quot;className&quot;: &quot;foliumtooltip&quot;, &quot;sticky&quot;: true});\n",
       "                     \n",
       "&lt;/script&gt;\" style=\"position:absolute;width:100%;height:100%;left:0;top:0;border:none !important;\" allowfullscreen webkitallowfullscreen mozallowfullscreen></iframe></div></div>"
      ],
      "text/plain": [
       "<folium.folium.Map at 0x1638c6460>"
      ]
     },
     "execution_count": 91,
     "metadata": {},
     "output_type": "execute_result"
    }
   ],
   "source": [
    "geocoder = Geocoder(sources=['nominatim', 'geonames', 'whg'], max_rows=10, bbox=[13.079224,38.856820,18.753662,41.037931])\n",
    "doc = geocoder(places)\n",
    "doc.get_folium_map()"
   ]
  },
  {
   "cell_type": "code",
   "execution_count": null,
   "metadata": {},
   "outputs": [],
   "source": []
  },
  {
   "cell_type": "code",
   "execution_count": null,
   "metadata": {},
   "outputs": [],
   "source": []
  },
  {
   "cell_type": "code",
   "execution_count": null,
   "metadata": {},
   "outputs": [],
   "source": []
  },
  {
   "cell_type": "code",
   "execution_count": null,
   "metadata": {},
   "outputs": [],
   "source": []
  },
  {
   "cell_type": "code",
   "execution_count": null,
   "metadata": {},
   "outputs": [],
   "source": []
  },
  {
   "cell_type": "code",
   "execution_count": null,
   "metadata": {},
   "outputs": [],
   "source": []
  },
  {
   "cell_type": "code",
   "execution_count": null,
   "metadata": {},
   "outputs": [],
   "source": []
  },
  {
   "cell_type": "code",
   "execution_count": null,
   "metadata": {},
   "outputs": [],
   "source": []
  },
  {
   "cell_type": "code",
   "execution_count": null,
   "metadata": {},
   "outputs": [],
   "source": []
  },
  {
   "cell_type": "code",
   "execution_count": null,
   "metadata": {},
   "outputs": [],
   "source": [
    "GALATIE # Pleiades ? -> Ancyre"
   ]
  },
  {
   "cell_type": "markdown",
   "metadata": {},
   "source": [
    "#### 7.2.7 Geoparsing 'Frontignan'"
   ]
  },
  {
   "cell_type": "code",
   "execution_count": 3,
   "metadata": {},
   "outputs": [
    {
     "data": {
      "text/plain": [
       "\"FRONTIGNAN, (Géog.) petite ville de France. au Bas-Languedoc, connue par ses excellens vins muscats, & ses raisins de caisse qu'on appelle passerilles. Quelques savans croyent, sans en donner de preuves, que cette ville est le forum Domitii des Romains. Elle est située sur l'étang de Maguelone, à six lieues N. E. d'Agde, & cinq S. O. de Montpellier. Long. 15d. 24'. lat. 43d. 28'. (D. J.)\""
      ]
     },
     "execution_count": 3,
     "metadata": {},
     "output_type": "execute_result"
    }
   ],
   "source": [
    "content = dataset.loc[dataset['head'] == 'FRONTIGNAN'].text.item()\n",
    "content"
   ]
  },
  {
   "cell_type": "code",
   "execution_count": 95,
   "metadata": {},
   "outputs": [
    {
     "data": {
      "text/html": [
       "<span class=\"tex2jax_ignore\"><div class=\"entities\" style=\"line-height: 2.5; direction: ltr\">\n",
       "<mark class=\"entity\" style=\"background: #ff9561; padding: 0.45em 0.6em; margin: 0 0.25em; line-height: 1; border-radius: 0.35em;\">\n",
       "    FRONTIGNAN\n",
       "    <span style=\"font-size: 0.8em; font-weight: bold; line-height: 1; border-radius: 0.35em; vertical-align: middle; margin-left: 0.5rem\">LOC</span>\n",
       "</mark>\n",
       " , ( Géog . ) petite ville de \n",
       "<mark class=\"entity\" style=\"background: #ff9561; padding: 0.45em 0.6em; margin: 0 0.25em; line-height: 1; border-radius: 0.35em;\">\n",
       "    France\n",
       "    <span style=\"font-size: 0.8em; font-weight: bold; line-height: 1; border-radius: 0.35em; vertical-align: middle; margin-left: 0.5rem\">LOC</span>\n",
       "</mark>\n",
       " . au \n",
       "<mark class=\"entity\" style=\"background: #ff9561; padding: 0.45em 0.6em; margin: 0 0.25em; line-height: 1; border-radius: 0.35em;\">\n",
       "    Bas-Languedoc\n",
       "    <span style=\"font-size: 0.8em; font-weight: bold; line-height: 1; border-radius: 0.35em; vertical-align: middle; margin-left: 0.5rem\">LOC</span>\n",
       "</mark>\n",
       " , connue par ses excellens vins muscats , &amp; ses raisins de caisse qu' on appelle passerilles . Quelques savans croyent , sans en donner de preuves , que cette ville est le forum \n",
       "<mark class=\"entity\" style=\"background: #ff9561; padding: 0.45em 0.6em; margin: 0 0.25em; line-height: 1; border-radius: 0.35em;\">\n",
       "    Domitii des Romains\n",
       "    <span style=\"font-size: 0.8em; font-weight: bold; line-height: 1; border-radius: 0.35em; vertical-align: middle; margin-left: 0.5rem\">LOC</span>\n",
       "</mark>\n",
       " . Elle est située sur l' étang de \n",
       "<mark class=\"entity\" style=\"background: #ff9561; padding: 0.45em 0.6em; margin: 0 0.25em; line-height: 1; border-radius: 0.35em;\">\n",
       "    Maguelone\n",
       "    <span style=\"font-size: 0.8em; font-weight: bold; line-height: 1; border-radius: 0.35em; vertical-align: middle; margin-left: 0.5rem\">LOC</span>\n",
       "</mark>\n",
       " , à six lieues N. E. d' \n",
       "<mark class=\"entity\" style=\"background: #ff9561; padding: 0.45em 0.6em; margin: 0 0.25em; line-height: 1; border-radius: 0.35em;\">\n",
       "    Agde\n",
       "    <span style=\"font-size: 0.8em; font-weight: bold; line-height: 1; border-radius: 0.35em; vertical-align: middle; margin-left: 0.5rem\">LOC</span>\n",
       "</mark>\n",
       " , &amp; cinq S. O. de \n",
       "<mark class=\"entity\" style=\"background: #ff9561; padding: 0.45em 0.6em; margin: 0 0.25em; line-height: 1; border-radius: 0.35em;\">\n",
       "    Montpellier\n",
       "    <span style=\"font-size: 0.8em; font-weight: bold; line-height: 1; border-radius: 0.35em; vertical-align: middle; margin-left: 0.5rem\">LOC</span>\n",
       "</mark>\n",
       " . \n",
       "<mark class=\"entity\" style=\"background: #ddd; padding: 0.45em 0.6em; margin: 0 0.25em; line-height: 1; border-radius: 0.35em;\">\n",
       "    Long . 15d . 24 ' . lat . 43d . 28 ' .\n",
       "    <span style=\"font-size: 0.8em; font-weight: bold; line-height: 1; border-radius: 0.35em; vertical-align: middle; margin-left: 0.5rem\">MISC</span>\n",
       "</mark>\n",
       " ( D. J. ) </div></span>"
      ],
      "text/plain": [
       "<IPython.core.display.HTML object>"
      ]
     },
     "metadata": {},
     "output_type": "display_data"
    },
    {
     "data": {
      "text/html": [
       "<div style=\"width:100%;\"><div style=\"position:relative;width:100%;height:0;padding-bottom:60%;\"><span style=\"color:#565656\">Make this Notebook Trusted to load map: File -> Trust Notebook</span><iframe srcdoc=\"&lt;!DOCTYPE html&gt;\n",
       "&lt;head&gt;    \n",
       "    &lt;meta http-equiv=&quot;content-type&quot; content=&quot;text/html; charset=UTF-8&quot; /&gt;\n",
       "    \n",
       "        &lt;script&gt;\n",
       "            L_NO_TOUCH = false;\n",
       "            L_DISABLE_3D = false;\n",
       "        &lt;/script&gt;\n",
       "    \n",
       "    &lt;style&gt;html, body {width: 100%;height: 100%;margin: 0;padding: 0;}&lt;/style&gt;\n",
       "    &lt;style&gt;#map {position:absolute;top:0;bottom:0;right:0;left:0;}&lt;/style&gt;\n",
       "    &lt;script src=&quot;https://cdn.jsdelivr.net/npm/leaflet@1.6.0/dist/leaflet.js&quot;&gt;&lt;/script&gt;\n",
       "    &lt;script src=&quot;https://code.jquery.com/jquery-1.12.4.min.js&quot;&gt;&lt;/script&gt;\n",
       "    &lt;script src=&quot;https://maxcdn.bootstrapcdn.com/bootstrap/3.2.0/js/bootstrap.min.js&quot;&gt;&lt;/script&gt;\n",
       "    &lt;script src=&quot;https://cdnjs.cloudflare.com/ajax/libs/Leaflet.awesome-markers/2.0.2/leaflet.awesome-markers.js&quot;&gt;&lt;/script&gt;\n",
       "    &lt;link rel=&quot;stylesheet&quot; href=&quot;https://cdn.jsdelivr.net/npm/leaflet@1.6.0/dist/leaflet.css&quot;/&gt;\n",
       "    &lt;link rel=&quot;stylesheet&quot; href=&quot;https://maxcdn.bootstrapcdn.com/bootstrap/3.2.0/css/bootstrap.min.css&quot;/&gt;\n",
       "    &lt;link rel=&quot;stylesheet&quot; href=&quot;https://maxcdn.bootstrapcdn.com/bootstrap/3.2.0/css/bootstrap-theme.min.css&quot;/&gt;\n",
       "    &lt;link rel=&quot;stylesheet&quot; href=&quot;https://maxcdn.bootstrapcdn.com/font-awesome/4.6.3/css/font-awesome.min.css&quot;/&gt;\n",
       "    &lt;link rel=&quot;stylesheet&quot; href=&quot;https://cdnjs.cloudflare.com/ajax/libs/Leaflet.awesome-markers/2.0.2/leaflet.awesome-markers.css&quot;/&gt;\n",
       "    &lt;link rel=&quot;stylesheet&quot; href=&quot;https://cdn.jsdelivr.net/gh/python-visualization/folium/folium/templates/leaflet.awesome.rotate.min.css&quot;/&gt;\n",
       "    \n",
       "            &lt;meta name=&quot;viewport&quot; content=&quot;width=device-width,\n",
       "                initial-scale=1.0, maximum-scale=1.0, user-scalable=no&quot; /&gt;\n",
       "            &lt;style&gt;\n",
       "                #map_6a51221c78b56634f9331af8789aab0b {\n",
       "                    position: relative;\n",
       "                    width: 100.0%;\n",
       "                    height: 100.0%;\n",
       "                    left: 0.0%;\n",
       "                    top: 0.0%;\n",
       "                }\n",
       "            &lt;/style&gt;\n",
       "        \n",
       "    \n",
       "                    &lt;style&gt;\n",
       "                        .foliumtooltip {\n",
       "                            \n",
       "                        }\n",
       "                       .foliumtooltip table{\n",
       "                            margin: auto;\n",
       "                        }\n",
       "                        .foliumtooltip tr{\n",
       "                            text-align: left;\n",
       "                        }\n",
       "                        .foliumtooltip th{\n",
       "                            padding: 2px; padding-right: 8px;\n",
       "                        }\n",
       "                    &lt;/style&gt;\n",
       "            \n",
       "&lt;/head&gt;\n",
       "&lt;body&gt;    \n",
       "    \n",
       "            &lt;div class=&quot;folium-map&quot; id=&quot;map_6a51221c78b56634f9331af8789aab0b&quot; &gt;&lt;/div&gt;\n",
       "        \n",
       "&lt;/body&gt;\n",
       "&lt;script&gt;    \n",
       "    \n",
       "            var map_6a51221c78b56634f9331af8789aab0b = L.map(\n",
       "                &quot;map_6a51221c78b56634f9331af8789aab0b&quot;,\n",
       "                {\n",
       "                    center: [0, 0],\n",
       "                    crs: L.CRS.EPSG3857,\n",
       "                    zoom: 1,\n",
       "                    zoomControl: true,\n",
       "                    preferCanvas: false,\n",
       "                }\n",
       "            );\n",
       "\n",
       "            \n",
       "\n",
       "        \n",
       "    \n",
       "            var tile_layer_5c389d094cbaea3dcc6131822e911c54 = L.tileLayer(\n",
       "                &quot;https://{s}.tile.openstreetmap.org/{z}/{x}/{y}.png&quot;,\n",
       "                {&quot;attribution&quot;: &quot;Data by \\u0026copy; \\u003ca href=\\&quot;http://openstreetmap.org\\&quot;\\u003eOpenStreetMap\\u003c/a\\u003e, under \\u003ca href=\\&quot;http://www.openstreetmap.org/copyright\\&quot;\\u003eODbL\\u003c/a\\u003e.&quot;, &quot;detectRetina&quot;: false, &quot;maxNativeZoom&quot;: 18, &quot;maxZoom&quot;: 18, &quot;minZoom&quot;: 0, &quot;noWrap&quot;: false, &quot;opacity&quot;: 1, &quot;subdomains&quot;: &quot;abc&quot;, &quot;tms&quot;: false}\n",
       "            ).addTo(map_6a51221c78b56634f9331af8789aab0b);\n",
       "        \n",
       "    \n",
       "            map_6a51221c78b56634f9331af8789aab0b.fitBounds(\n",
       "                [[43.31083, -68.50451], [49.064288, 5.096652]],\n",
       "                {}\n",
       "            );\n",
       "        \n",
       "    \n",
       "\n",
       "        function geo_json_478657ef3eaab7611886e5bb0d2eb737_onEachFeature(feature, layer) {\n",
       "            layer.on({\n",
       "            });\n",
       "        };\n",
       "        var geo_json_478657ef3eaab7611886e5bb0d2eb737 = L.geoJson(null, {\n",
       "                onEachFeature: geo_json_478657ef3eaab7611886e5bb0d2eb737_onEachFeature,\n",
       "            \n",
       "        });\n",
       "\n",
       "        function geo_json_478657ef3eaab7611886e5bb0d2eb737_add (data) {\n",
       "            geo_json_478657ef3eaab7611886e5bb0d2eb737\n",
       "                .addData(data)\n",
       "                .addTo(map_6a51221c78b56634f9331af8789aab0b);\n",
       "        }\n",
       "            geo_json_478657ef3eaab7611886e5bb0d2eb737_add({&quot;features&quot;: [{&quot;geometry&quot;: {&quot;coordinates&quot;: [3.753064, 43.448762], &quot;type&quot;: &quot;Point&quot;}, &quot;properties&quot;: {&quot;country&quot;: &quot;France&quot;, &quot;id&quot;: &quot;en.1&quot;, &quot;name&quot;: &quot;FRONTIGNAN&quot;, &quot;source&quot;: &quot;nominatim&quot;, &quot;sourceName&quot;: &quot;Frontignan, Montpellier, H\\u00e9rault, Occitanie, France m\\u00e9tropolitaine, 34110, France&quot;, &quot;type&quot;: &quot;administrative&quot;}, &quot;type&quot;: &quot;Feature&quot;}, {&quot;geometry&quot;: {&quot;coordinates&quot;: [3.75524, 43.44775], &quot;type&quot;: &quot;Point&quot;}, &quot;properties&quot;: {&quot;country&quot;: &quot;France&quot;, &quot;id&quot;: &quot;en.1&quot;, &quot;name&quot;: &quot;FRONTIGNAN&quot;, &quot;source&quot;: &quot;geonames&quot;, &quot;sourceName&quot;: &quot;Frontignan&quot;, &quot;type&quot;: &quot;PPL&quot;}, &quot;type&quot;: &quot;Feature&quot;}, {&quot;geometry&quot;: {&quot;coordinates&quot;: [2.536968, 44.492722], &quot;type&quot;: &quot;Point&quot;}, &quot;properties&quot;: {&quot;country&quot;: &quot;France&quot;, &quot;id&quot;: &quot;en.1&quot;, &quot;name&quot;: &quot;FRONTIGNAN&quot;, &quot;source&quot;: &quot;ign&quot;, &quot;sourceName&quot;: &quot;Salles-la-Source&quot;, &quot;type&quot;: &quot;Lieu-dit habit\\u00e9&quot;}, &quot;type&quot;: &quot;Feature&quot;}, {&quot;geometry&quot;: {&quot;coordinates&quot;: [1.888334, 46.603354], &quot;type&quot;: &quot;Point&quot;}, &quot;properties&quot;: {&quot;country&quot;: &quot;France&quot;, &quot;id&quot;: &quot;en.5&quot;, &quot;name&quot;: &quot;France&quot;, &quot;source&quot;: &quot;nominatim&quot;, &quot;sourceName&quot;: &quot;France&quot;, &quot;type&quot;: &quot;administrative&quot;}, &quot;type&quot;: &quot;Feature&quot;}, {&quot;geometry&quot;: {&quot;coordinates&quot;: [2.0, 46.0], &quot;type&quot;: &quot;Point&quot;}, &quot;properties&quot;: {&quot;country&quot;: &quot;France&quot;, &quot;id&quot;: &quot;en.5&quot;, &quot;name&quot;: &quot;France&quot;, &quot;source&quot;: &quot;geonames&quot;, &quot;sourceName&quot;: &quot;Republic of France&quot;, &quot;type&quot;: &quot;PCLI&quot;}, &quot;type&quot;: &quot;Feature&quot;}, {&quot;geometry&quot;: {&quot;coordinates&quot;: [5.096652, 45.869265], &quot;type&quot;: &quot;Point&quot;}, &quot;properties&quot;: {&quot;country&quot;: &quot;France&quot;, &quot;id&quot;: &quot;en.5&quot;, &quot;name&quot;: &quot;France&quot;, &quot;source&quot;: &quot;ign&quot;, &quot;sourceName&quot;: &quot;Bressolles&quot;, &quot;type&quot;: &quot;Quartier&quot;}, &quot;type&quot;: &quot;Feature&quot;}, {&quot;geometry&quot;: {&quot;coordinates&quot;: [-68.50451, 47.532931], &quot;type&quot;: &quot;Point&quot;}, &quot;properties&quot;: {&quot;country&quot;: &quot;Canada&quot;, &quot;id&quot;: &quot;en.7&quot;, &quot;name&quot;: &quot;Bas-Languedoc&quot;, &quot;source&quot;: &quot;nominatim&quot;, &quot;sourceName&quot;: &quot;Ruisseau Languedoc, D\\u00e9gelis, T\\u00e9miscouata, Bas-Saint-Laurent, Qu\\u00e9bec, G5T 1P8, Canada&quot;, &quot;type&quot;: &quot;stream&quot;}, &quot;type&quot;: &quot;Feature&quot;}, {&quot;geometry&quot;: {&quot;coordinates&quot;: [3.582972, 49.064288], &quot;type&quot;: &quot;Point&quot;}, &quot;properties&quot;: {&quot;country&quot;: &quot;France&quot;, &quot;id&quot;: &quot;en.7&quot;, &quot;name&quot;: &quot;Bas-Languedoc&quot;, &quot;source&quot;: &quot;ign&quot;, &quot;sourceName&quot;: &quot;Passy-sur-Marne&quot;, &quot;type&quot;: &quot;Lieu-dit non habit\\u00e9&quot;}, &quot;type&quot;: &quot;Feature&quot;}, {&quot;geometry&quot;: {&quot;coordinates&quot;: [4.520722, 47.539048], &quot;type&quot;: &quot;Point&quot;}, &quot;properties&quot;: {&quot;country&quot;: &quot;France&quot;, &quot;id&quot;: &quot;en.11&quot;, &quot;name&quot;: &quot;Domitii des Romains&quot;, &quot;source&quot;: &quot;ign&quot;, &quot;sourceName&quot;: &quot;Darcey&quot;, &quot;type&quot;: &quot;Pont&quot;}, &quot;type&quot;: &quot;Feature&quot;}, {&quot;geometry&quot;: {&quot;coordinates&quot;: [3.883389, 43.514004], &quot;type&quot;: &quot;Point&quot;}, &quot;properties&quot;: {&quot;country&quot;: &quot;France&quot;, &quot;id&quot;: &quot;en.15&quot;, &quot;name&quot;: &quot;Maguelone&quot;, &quot;source&quot;: &quot;nominatim&quot;, &quot;sourceName&quot;: &quot;Maguelone, Villeneuve-l\\u00e8s-Maguelone, Montpellier, H\\u00e9rault, Occitanie, France m\\u00e9tropolitaine, 34750, France&quot;, &quot;type&quot;: &quot;locality&quot;}, &quot;type&quot;: &quot;Feature&quot;}, {&quot;geometry&quot;: {&quot;coordinates&quot;: [3.86047, 43.53222], &quot;type&quot;: &quot;Point&quot;}, &quot;properties&quot;: {&quot;country&quot;: &quot;France&quot;, &quot;id&quot;: &quot;en.15&quot;, &quot;name&quot;: &quot;Maguelone&quot;, &quot;source&quot;: &quot;geonames&quot;, &quot;sourceName&quot;: &quot;Villeneuve-l\\u00e8s-Maguelone&quot;, &quot;type&quot;: &quot;PPL&quot;}, &quot;type&quot;: &quot;Feature&quot;}, {&quot;geometry&quot;: {&quot;coordinates&quot;: [3.884022, 43.512082], &quot;type&quot;: &quot;Point&quot;}, &quot;properties&quot;: {&quot;country&quot;: &quot;France&quot;, &quot;id&quot;: &quot;en.15&quot;, &quot;name&quot;: &quot;Maguelone&quot;, &quot;source&quot;: &quot;ign&quot;, &quot;sourceName&quot;: &quot;Villeneuve-l\\u00e8s-Maguelone&quot;, &quot;type&quot;: &quot;Lieu-dit habit\\u00e9&quot;}, &quot;type&quot;: &quot;Feature&quot;}, {&quot;geometry&quot;: {&quot;coordinates&quot;: [3.477163, 43.313479], &quot;type&quot;: &quot;Point&quot;}, &quot;properties&quot;: {&quot;country&quot;: &quot;France&quot;, &quot;id&quot;: &quot;en.19&quot;, &quot;name&quot;: &quot;Agde&quot;, &quot;source&quot;: &quot;nominatim&quot;, &quot;sourceName&quot;: &quot;Agde, B\\u00e9ziers, H\\u00e9rault, Occitanie, France m\\u00e9tropolitaine, 34300, France&quot;, &quot;type&quot;: &quot;administrative&quot;}, &quot;type&quot;: &quot;Feature&quot;}, {&quot;geometry&quot;: {&quot;coordinates&quot;: [3.47583, 43.31083], &quot;type&quot;: &quot;Point&quot;}, &quot;properties&quot;: {&quot;country&quot;: &quot;France&quot;, &quot;id&quot;: &quot;en.19&quot;, &quot;name&quot;: &quot;Agde&quot;, &quot;source&quot;: &quot;geonames&quot;, &quot;sourceName&quot;: &quot;Agde&quot;, &quot;type&quot;: &quot;PPL&quot;}, &quot;type&quot;: &quot;Feature&quot;}, {&quot;geometry&quot;: {&quot;coordinates&quot;: [3.470839, 43.312447], &quot;type&quot;: &quot;Point&quot;}, &quot;properties&quot;: {&quot;country&quot;: &quot;France&quot;, &quot;id&quot;: &quot;en.19&quot;, &quot;name&quot;: &quot;Agde&quot;, &quot;source&quot;: &quot;ign&quot;, &quot;sourceName&quot;: &quot;Agde&quot;, &quot;type&quot;: &quot;Commune&quot;}, &quot;type&quot;: &quot;Feature&quot;}, {&quot;geometry&quot;: {&quot;coordinates&quot;: [3.876734, 43.611242], &quot;type&quot;: &quot;Point&quot;}, &quot;properties&quot;: {&quot;country&quot;: &quot;France&quot;, &quot;id&quot;: &quot;en.23&quot;, &quot;name&quot;: &quot;Montpellier&quot;, &quot;source&quot;: &quot;nominatim&quot;, &quot;sourceName&quot;: &quot;Montpellier, H\\u00e9rault, Occitanie, France m\\u00e9tropolitaine, France&quot;, &quot;type&quot;: &quot;administrative&quot;}, &quot;type&quot;: &quot;Feature&quot;}, {&quot;geometry&quot;: {&quot;coordinates&quot;: [3.87635, 43.61093], &quot;type&quot;: &quot;Point&quot;}, &quot;properties&quot;: {&quot;country&quot;: &quot;France&quot;, &quot;id&quot;: &quot;en.23&quot;, &quot;name&quot;: &quot;Montpellier&quot;, &quot;source&quot;: &quot;geonames&quot;, &quot;sourceName&quot;: &quot;Montpellier&quot;, &quot;type&quot;: &quot;PPLA2&quot;}, &quot;type&quot;: &quot;Feature&quot;}, {&quot;geometry&quot;: {&quot;coordinates&quot;: [0.223365, 45.221076], &quot;type&quot;: &quot;Point&quot;}, &quot;properties&quot;: {&quot;country&quot;: &quot;France&quot;, &quot;id&quot;: &quot;en.23&quot;, &quot;name&quot;: &quot;Montpellier&quot;, &quot;source&quot;: &quot;ign&quot;, &quot;sourceName&quot;: &quot;Saint Privat en P\\u00e9rigord&quot;, &quot;type&quot;: &quot;Lieu-dit habit\\u00e9&quot;}, &quot;type&quot;: &quot;Feature&quot;}], &quot;type&quot;: &quot;FeatureCollection&quot;});\n",
       "\n",
       "        \n",
       "    \n",
       "    geo_json_478657ef3eaab7611886e5bb0d2eb737.bindTooltip(\n",
       "    function(layer){\n",
       "    let div = L.DomUtil.create(&#x27;div&#x27;);\n",
       "    \n",
       "    let handleObject = feature=&gt;typeof(feature)==&#x27;object&#x27; ? JSON.stringify(feature) : feature;\n",
       "    let fields = [&quot;name&quot;, &quot;source&quot;];\n",
       "    let aliases = [&quot;name&quot;, &quot;source&quot;];\n",
       "    let table = &#x27;&lt;table&gt;&#x27; +\n",
       "        String(\n",
       "        fields.map(\n",
       "        (v,i)=&gt;\n",
       "        `&lt;tr&gt;\n",
       "            &lt;th&gt;${aliases[i].toLocaleString()}&lt;/th&gt;\n",
       "            \n",
       "            &lt;td&gt;${handleObject(layer.feature.properties[v]).toLocaleString()}&lt;/td&gt;\n",
       "        &lt;/tr&gt;`).join(&#x27;&#x27;))\n",
       "    +&#x27;&lt;/table&gt;&#x27;;\n",
       "    div.innerHTML=table;\n",
       "    \n",
       "    return div\n",
       "    }\n",
       "    ,{&quot;className&quot;: &quot;foliumtooltip&quot;, &quot;sticky&quot;: true});\n",
       "                     \n",
       "&lt;/script&gt;\" style=\"position:absolute;width:100%;height:100%;left:0;top:0;border:none !important;\" allowfullscreen webkitallowfullscreen mozallowfullscreen></iframe></div></div>"
      ],
      "text/plain": [
       "<folium.folium.Map at 0x163b54640>"
      ]
     },
     "execution_count": 95,
     "metadata": {},
     "output_type": "execute_result"
    }
   ],
   "source": [
    "geoparser = Geoparser(version=\"Encyclopedie\", sources=['nominatim', 'geonames', 'ign'])\n",
    "doc = geoparser(content)\n",
    "\n",
    "displacy.render(doc.to_spacy_doc(), style=\"ent\", jupyter=True)\n",
    "doc.get_folium_map()"
   ]
  },
  {
   "cell_type": "code",
   "execution_count": 5,
   "metadata": {},
   "outputs": [
    {
     "data": {
      "text/html": [
       "<span class=\"tex2jax_ignore\"><div class=\"entities\" style=\"line-height: 2.5; direction: ltr\">\n",
       "<mark class=\"entity\" style=\"background: #ff9561; padding: 0.45em 0.6em; margin: 0 0.25em; line-height: 1; border-radius: 0.35em;\">\n",
       "    FRONTIGNAN\n",
       "    <span style=\"font-size: 0.8em; font-weight: bold; line-height: 1; border-radius: 0.35em; vertical-align: middle; margin-left: 0.5rem\">LOC</span>\n",
       "</mark>\n",
       " , ( Géog . ) petite ville de \n",
       "<mark class=\"entity\" style=\"background: #ff9561; padding: 0.45em 0.6em; margin: 0 0.25em; line-height: 1; border-radius: 0.35em;\">\n",
       "    France\n",
       "    <span style=\"font-size: 0.8em; font-weight: bold; line-height: 1; border-radius: 0.35em; vertical-align: middle; margin-left: 0.5rem\">LOC</span>\n",
       "</mark>\n",
       " . au \n",
       "<mark class=\"entity\" style=\"background: #ff9561; padding: 0.45em 0.6em; margin: 0 0.25em; line-height: 1; border-radius: 0.35em;\">\n",
       "    Bas-Languedoc\n",
       "    <span style=\"font-size: 0.8em; font-weight: bold; line-height: 1; border-radius: 0.35em; vertical-align: middle; margin-left: 0.5rem\">LOC</span>\n",
       "</mark>\n",
       " , connue par ses excellens vins muscats , &amp; ses raisins de caisse qu' on appelle passerilles . Quelques savans croyent , sans en donner de preuves , que cette ville est le forum \n",
       "<mark class=\"entity\" style=\"background: #ff9561; padding: 0.45em 0.6em; margin: 0 0.25em; line-height: 1; border-radius: 0.35em;\">\n",
       "    Domitii des Romains\n",
       "    <span style=\"font-size: 0.8em; font-weight: bold; line-height: 1; border-radius: 0.35em; vertical-align: middle; margin-left: 0.5rem\">LOC</span>\n",
       "</mark>\n",
       " . Elle est située sur l' étang de \n",
       "<mark class=\"entity\" style=\"background: #ff9561; padding: 0.45em 0.6em; margin: 0 0.25em; line-height: 1; border-radius: 0.35em;\">\n",
       "    Maguelone\n",
       "    <span style=\"font-size: 0.8em; font-weight: bold; line-height: 1; border-radius: 0.35em; vertical-align: middle; margin-left: 0.5rem\">LOC</span>\n",
       "</mark>\n",
       " , à six lieues N. E. d' \n",
       "<mark class=\"entity\" style=\"background: #ff9561; padding: 0.45em 0.6em; margin: 0 0.25em; line-height: 1; border-radius: 0.35em;\">\n",
       "    Agde\n",
       "    <span style=\"font-size: 0.8em; font-weight: bold; line-height: 1; border-radius: 0.35em; vertical-align: middle; margin-left: 0.5rem\">LOC</span>\n",
       "</mark>\n",
       " , &amp; cinq S. O. de \n",
       "<mark class=\"entity\" style=\"background: #ff9561; padding: 0.45em 0.6em; margin: 0 0.25em; line-height: 1; border-radius: 0.35em;\">\n",
       "    Montpellier\n",
       "    <span style=\"font-size: 0.8em; font-weight: bold; line-height: 1; border-radius: 0.35em; vertical-align: middle; margin-left: 0.5rem\">LOC</span>\n",
       "</mark>\n",
       " . \n",
       "<mark class=\"entity\" style=\"background: #ddd; padding: 0.45em 0.6em; margin: 0 0.25em; line-height: 1; border-radius: 0.35em;\">\n",
       "    Long . 15d . 24 ' . lat . 43d . 28 ' .\n",
       "    <span style=\"font-size: 0.8em; font-weight: bold; line-height: 1; border-radius: 0.35em; vertical-align: middle; margin-left: 0.5rem\">MISC</span>\n",
       "</mark>\n",
       " ( D. J. ) </div></span>"
      ],
      "text/plain": [
       "<IPython.core.display.HTML object>"
      ]
     },
     "metadata": {},
     "output_type": "display_data"
    },
    {
     "data": {
      "text/html": [
       "<div style=\"width:100%;\"><div style=\"position:relative;width:100%;height:0;padding-bottom:60%;\"><span style=\"color:#565656\">Make this Notebook Trusted to load map: File -> Trust Notebook</span><iframe srcdoc=\"&lt;!DOCTYPE html&gt;\n",
       "&lt;head&gt;    \n",
       "    &lt;meta http-equiv=&quot;content-type&quot; content=&quot;text/html; charset=UTF-8&quot; /&gt;\n",
       "    \n",
       "        &lt;script&gt;\n",
       "            L_NO_TOUCH = false;\n",
       "            L_DISABLE_3D = false;\n",
       "        &lt;/script&gt;\n",
       "    \n",
       "    &lt;style&gt;html, body {width: 100%;height: 100%;margin: 0;padding: 0;}&lt;/style&gt;\n",
       "    &lt;style&gt;#map {position:absolute;top:0;bottom:0;right:0;left:0;}&lt;/style&gt;\n",
       "    &lt;script src=&quot;https://cdn.jsdelivr.net/npm/leaflet@1.6.0/dist/leaflet.js&quot;&gt;&lt;/script&gt;\n",
       "    &lt;script src=&quot;https://code.jquery.com/jquery-1.12.4.min.js&quot;&gt;&lt;/script&gt;\n",
       "    &lt;script src=&quot;https://maxcdn.bootstrapcdn.com/bootstrap/3.2.0/js/bootstrap.min.js&quot;&gt;&lt;/script&gt;\n",
       "    &lt;script src=&quot;https://cdnjs.cloudflare.com/ajax/libs/Leaflet.awesome-markers/2.0.2/leaflet.awesome-markers.js&quot;&gt;&lt;/script&gt;\n",
       "    &lt;link rel=&quot;stylesheet&quot; href=&quot;https://cdn.jsdelivr.net/npm/leaflet@1.6.0/dist/leaflet.css&quot;/&gt;\n",
       "    &lt;link rel=&quot;stylesheet&quot; href=&quot;https://maxcdn.bootstrapcdn.com/bootstrap/3.2.0/css/bootstrap.min.css&quot;/&gt;\n",
       "    &lt;link rel=&quot;stylesheet&quot; href=&quot;https://maxcdn.bootstrapcdn.com/bootstrap/3.2.0/css/bootstrap-theme.min.css&quot;/&gt;\n",
       "    &lt;link rel=&quot;stylesheet&quot; href=&quot;https://maxcdn.bootstrapcdn.com/font-awesome/4.6.3/css/font-awesome.min.css&quot;/&gt;\n",
       "    &lt;link rel=&quot;stylesheet&quot; href=&quot;https://cdnjs.cloudflare.com/ajax/libs/Leaflet.awesome-markers/2.0.2/leaflet.awesome-markers.css&quot;/&gt;\n",
       "    &lt;link rel=&quot;stylesheet&quot; href=&quot;https://cdn.jsdelivr.net/gh/python-visualization/folium/folium/templates/leaflet.awesome.rotate.min.css&quot;/&gt;\n",
       "    \n",
       "            &lt;meta name=&quot;viewport&quot; content=&quot;width=device-width,\n",
       "                initial-scale=1.0, maximum-scale=1.0, user-scalable=no&quot; /&gt;\n",
       "            &lt;style&gt;\n",
       "                #map_672f681eeef014fa2ab8a1c5d9b62ede {\n",
       "                    position: relative;\n",
       "                    width: 100.0%;\n",
       "                    height: 100.0%;\n",
       "                    left: 0.0%;\n",
       "                    top: 0.0%;\n",
       "                }\n",
       "            &lt;/style&gt;\n",
       "        \n",
       "    \n",
       "                    &lt;style&gt;\n",
       "                        .foliumtooltip {\n",
       "                            \n",
       "                        }\n",
       "                       .foliumtooltip table{\n",
       "                            margin: auto;\n",
       "                        }\n",
       "                        .foliumtooltip tr{\n",
       "                            text-align: left;\n",
       "                        }\n",
       "                        .foliumtooltip th{\n",
       "                            padding: 2px; padding-right: 8px;\n",
       "                        }\n",
       "                    &lt;/style&gt;\n",
       "            \n",
       "&lt;/head&gt;\n",
       "&lt;body&gt;    \n",
       "    \n",
       "            &lt;div class=&quot;folium-map&quot; id=&quot;map_672f681eeef014fa2ab8a1c5d9b62ede&quot; &gt;&lt;/div&gt;\n",
       "        \n",
       "&lt;/body&gt;\n",
       "&lt;script&gt;    \n",
       "    \n",
       "            var map_672f681eeef014fa2ab8a1c5d9b62ede = L.map(\n",
       "                &quot;map_672f681eeef014fa2ab8a1c5d9b62ede&quot;,\n",
       "                {\n",
       "                    center: [0, 0],\n",
       "                    crs: L.CRS.EPSG3857,\n",
       "                    zoom: 1,\n",
       "                    zoomControl: true,\n",
       "                    preferCanvas: false,\n",
       "                }\n",
       "            );\n",
       "\n",
       "            \n",
       "\n",
       "        \n",
       "    \n",
       "            var tile_layer_781da12084444dd6ff03adb2dfa698f6 = L.tileLayer(\n",
       "                &quot;https://{s}.tile.openstreetmap.org/{z}/{x}/{y}.png&quot;,\n",
       "                {&quot;attribution&quot;: &quot;Data by \\u0026copy; \\u003ca href=\\&quot;http://openstreetmap.org\\&quot;\\u003eOpenStreetMap\\u003c/a\\u003e, under \\u003ca href=\\&quot;http://www.openstreetmap.org/copyright\\&quot;\\u003eODbL\\u003c/a\\u003e.&quot;, &quot;detectRetina&quot;: false, &quot;maxNativeZoom&quot;: 18, &quot;maxZoom&quot;: 18, &quot;minZoom&quot;: 0, &quot;noWrap&quot;: false, &quot;opacity&quot;: 1, &quot;subdomains&quot;: &quot;abc&quot;, &quot;tms&quot;: false}\n",
       "            ).addTo(map_672f681eeef014fa2ab8a1c5d9b62ede);\n",
       "        \n",
       "    \n",
       "            map_672f681eeef014fa2ab8a1c5d9b62ede.fitBounds(\n",
       "                [[43.31083, -68.50451], [49.064288, 5.096652]],\n",
       "                {}\n",
       "            );\n",
       "        \n",
       "    \n",
       "\n",
       "        function geo_json_1f798fe14457a3e50491de3025d82c34_onEachFeature(feature, layer) {\n",
       "            layer.on({\n",
       "            });\n",
       "        };\n",
       "        var geo_json_1f798fe14457a3e50491de3025d82c34 = L.geoJson(null, {\n",
       "                onEachFeature: geo_json_1f798fe14457a3e50491de3025d82c34_onEachFeature,\n",
       "            \n",
       "        });\n",
       "\n",
       "        function geo_json_1f798fe14457a3e50491de3025d82c34_add (data) {\n",
       "            geo_json_1f798fe14457a3e50491de3025d82c34\n",
       "                .addData(data)\n",
       "                .addTo(map_672f681eeef014fa2ab8a1c5d9b62ede);\n",
       "        }\n",
       "            geo_json_1f798fe14457a3e50491de3025d82c34_add({&quot;features&quot;: [{&quot;geometry&quot;: {&quot;coordinates&quot;: [3.753064, 43.448762], &quot;type&quot;: &quot;Point&quot;}, &quot;properties&quot;: {&quot;country&quot;: &quot;France&quot;, &quot;id&quot;: &quot;en.1&quot;, &quot;name&quot;: &quot;FRONTIGNAN&quot;, &quot;source&quot;: &quot;nominatim&quot;, &quot;sourceName&quot;: &quot;Frontignan, Montpellier, H\\u00e9rault, Occitanie, France m\\u00e9tropolitaine, 34110, France&quot;, &quot;type&quot;: &quot;administrative&quot;}, &quot;type&quot;: &quot;Feature&quot;}, {&quot;geometry&quot;: {&quot;coordinates&quot;: [3.75524, 43.44775], &quot;type&quot;: &quot;Point&quot;}, &quot;properties&quot;: {&quot;country&quot;: &quot;France&quot;, &quot;id&quot;: &quot;en.1&quot;, &quot;name&quot;: &quot;FRONTIGNAN&quot;, &quot;source&quot;: &quot;geonames&quot;, &quot;sourceName&quot;: &quot;Frontignan&quot;, &quot;type&quot;: &quot;PPL&quot;}, &quot;type&quot;: &quot;Feature&quot;}, {&quot;geometry&quot;: {&quot;coordinates&quot;: [2.536968, 44.492722], &quot;type&quot;: &quot;Point&quot;}, &quot;properties&quot;: {&quot;country&quot;: &quot;France&quot;, &quot;id&quot;: &quot;en.1&quot;, &quot;name&quot;: &quot;FRONTIGNAN&quot;, &quot;source&quot;: &quot;ign&quot;, &quot;sourceName&quot;: &quot;Salles-la-Source&quot;, &quot;type&quot;: &quot;Lieu-dit habit\\u00e9&quot;}, &quot;type&quot;: &quot;Feature&quot;}, {&quot;geometry&quot;: {&quot;coordinates&quot;: [1.888334, 46.603354], &quot;type&quot;: &quot;Point&quot;}, &quot;properties&quot;: {&quot;country&quot;: &quot;France&quot;, &quot;id&quot;: &quot;en.5&quot;, &quot;name&quot;: &quot;France&quot;, &quot;source&quot;: &quot;nominatim&quot;, &quot;sourceName&quot;: &quot;France&quot;, &quot;type&quot;: &quot;administrative&quot;}, &quot;type&quot;: &quot;Feature&quot;}, {&quot;geometry&quot;: {&quot;coordinates&quot;: [2.0, 46.0], &quot;type&quot;: &quot;Point&quot;}, &quot;properties&quot;: {&quot;country&quot;: &quot;France&quot;, &quot;id&quot;: &quot;en.5&quot;, &quot;name&quot;: &quot;France&quot;, &quot;source&quot;: &quot;geonames&quot;, &quot;sourceName&quot;: &quot;Republic of France&quot;, &quot;type&quot;: &quot;PCLI&quot;}, &quot;type&quot;: &quot;Feature&quot;}, {&quot;geometry&quot;: {&quot;coordinates&quot;: [5.096652, 45.869265], &quot;type&quot;: &quot;Point&quot;}, &quot;properties&quot;: {&quot;country&quot;: &quot;France&quot;, &quot;id&quot;: &quot;en.5&quot;, &quot;name&quot;: &quot;France&quot;, &quot;source&quot;: &quot;ign&quot;, &quot;sourceName&quot;: &quot;Bressolles&quot;, &quot;type&quot;: &quot;Quartier&quot;}, &quot;type&quot;: &quot;Feature&quot;}, {&quot;geometry&quot;: {&quot;coordinates&quot;: [-68.50451, 47.532931], &quot;type&quot;: &quot;Point&quot;}, &quot;properties&quot;: {&quot;country&quot;: &quot;Canada&quot;, &quot;id&quot;: &quot;en.7&quot;, &quot;name&quot;: &quot;Bas-Languedoc&quot;, &quot;source&quot;: &quot;nominatim&quot;, &quot;sourceName&quot;: &quot;Ruisseau Languedoc, D\\u00e9gelis, T\\u00e9miscouata, Bas-Saint-Laurent, Qu\\u00e9bec, G5T 1P8, Canada&quot;, &quot;type&quot;: &quot;stream&quot;}, &quot;type&quot;: &quot;Feature&quot;}, {&quot;geometry&quot;: {&quot;coordinates&quot;: [3.582972, 49.064288], &quot;type&quot;: &quot;Point&quot;}, &quot;properties&quot;: {&quot;country&quot;: &quot;France&quot;, &quot;id&quot;: &quot;en.7&quot;, &quot;name&quot;: &quot;Bas-Languedoc&quot;, &quot;source&quot;: &quot;ign&quot;, &quot;sourceName&quot;: &quot;Passy-sur-Marne&quot;, &quot;type&quot;: &quot;Lieu-dit non habit\\u00e9&quot;}, &quot;type&quot;: &quot;Feature&quot;}, {&quot;geometry&quot;: {&quot;coordinates&quot;: [4.520722, 47.539048], &quot;type&quot;: &quot;Point&quot;}, &quot;properties&quot;: {&quot;country&quot;: &quot;France&quot;, &quot;id&quot;: &quot;en.11&quot;, &quot;name&quot;: &quot;Domitii des Romains&quot;, &quot;source&quot;: &quot;ign&quot;, &quot;sourceName&quot;: &quot;Darcey&quot;, &quot;type&quot;: &quot;Pont&quot;}, &quot;type&quot;: &quot;Feature&quot;}, {&quot;geometry&quot;: {&quot;coordinates&quot;: [3.883389, 43.514004], &quot;type&quot;: &quot;Point&quot;}, &quot;properties&quot;: {&quot;country&quot;: &quot;France&quot;, &quot;id&quot;: &quot;en.15&quot;, &quot;name&quot;: &quot;Maguelone&quot;, &quot;source&quot;: &quot;nominatim&quot;, &quot;sourceName&quot;: &quot;Maguelone, Villeneuve-l\\u00e8s-Maguelone, Montpellier, H\\u00e9rault, Occitanie, France m\\u00e9tropolitaine, 34750, France&quot;, &quot;type&quot;: &quot;locality&quot;}, &quot;type&quot;: &quot;Feature&quot;}, {&quot;geometry&quot;: {&quot;coordinates&quot;: [3.86047, 43.53222], &quot;type&quot;: &quot;Point&quot;}, &quot;properties&quot;: {&quot;country&quot;: &quot;France&quot;, &quot;id&quot;: &quot;en.15&quot;, &quot;name&quot;: &quot;Maguelone&quot;, &quot;source&quot;: &quot;geonames&quot;, &quot;sourceName&quot;: &quot;Villeneuve-l\\u00e8s-Maguelone&quot;, &quot;type&quot;: &quot;PPL&quot;}, &quot;type&quot;: &quot;Feature&quot;}, {&quot;geometry&quot;: {&quot;coordinates&quot;: [3.884022, 43.512082], &quot;type&quot;: &quot;Point&quot;}, &quot;properties&quot;: {&quot;country&quot;: &quot;France&quot;, &quot;id&quot;: &quot;en.15&quot;, &quot;name&quot;: &quot;Maguelone&quot;, &quot;source&quot;: &quot;ign&quot;, &quot;sourceName&quot;: &quot;Villeneuve-l\\u00e8s-Maguelone&quot;, &quot;type&quot;: &quot;Lieu-dit habit\\u00e9&quot;}, &quot;type&quot;: &quot;Feature&quot;}, {&quot;geometry&quot;: {&quot;coordinates&quot;: [3.477163, 43.313479], &quot;type&quot;: &quot;Point&quot;}, &quot;properties&quot;: {&quot;country&quot;: &quot;France&quot;, &quot;id&quot;: &quot;en.19&quot;, &quot;name&quot;: &quot;Agde&quot;, &quot;source&quot;: &quot;nominatim&quot;, &quot;sourceName&quot;: &quot;Agde, B\\u00e9ziers, H\\u00e9rault, Occitanie, France m\\u00e9tropolitaine, 34300, France&quot;, &quot;type&quot;: &quot;administrative&quot;}, &quot;type&quot;: &quot;Feature&quot;}, {&quot;geometry&quot;: {&quot;coordinates&quot;: [3.47583, 43.31083], &quot;type&quot;: &quot;Point&quot;}, &quot;properties&quot;: {&quot;country&quot;: &quot;France&quot;, &quot;id&quot;: &quot;en.19&quot;, &quot;name&quot;: &quot;Agde&quot;, &quot;source&quot;: &quot;geonames&quot;, &quot;sourceName&quot;: &quot;Agde&quot;, &quot;type&quot;: &quot;PPL&quot;}, &quot;type&quot;: &quot;Feature&quot;}, {&quot;geometry&quot;: {&quot;coordinates&quot;: [3.470839, 43.312447], &quot;type&quot;: &quot;Point&quot;}, &quot;properties&quot;: {&quot;country&quot;: &quot;France&quot;, &quot;id&quot;: &quot;en.19&quot;, &quot;name&quot;: &quot;Agde&quot;, &quot;source&quot;: &quot;ign&quot;, &quot;sourceName&quot;: &quot;Agde&quot;, &quot;type&quot;: &quot;Commune&quot;}, &quot;type&quot;: &quot;Feature&quot;}, {&quot;geometry&quot;: {&quot;coordinates&quot;: [3.876734, 43.611242], &quot;type&quot;: &quot;Point&quot;}, &quot;properties&quot;: {&quot;country&quot;: &quot;France&quot;, &quot;id&quot;: &quot;en.23&quot;, &quot;name&quot;: &quot;Montpellier&quot;, &quot;source&quot;: &quot;nominatim&quot;, &quot;sourceName&quot;: &quot;Montpellier, H\\u00e9rault, Occitanie, France m\\u00e9tropolitaine, France&quot;, &quot;type&quot;: &quot;administrative&quot;}, &quot;type&quot;: &quot;Feature&quot;}, {&quot;geometry&quot;: {&quot;coordinates&quot;: [3.87635, 43.61093], &quot;type&quot;: &quot;Point&quot;}, &quot;properties&quot;: {&quot;country&quot;: &quot;France&quot;, &quot;id&quot;: &quot;en.23&quot;, &quot;name&quot;: &quot;Montpellier&quot;, &quot;source&quot;: &quot;geonames&quot;, &quot;sourceName&quot;: &quot;Montpellier&quot;, &quot;type&quot;: &quot;PPLA2&quot;}, &quot;type&quot;: &quot;Feature&quot;}, {&quot;geometry&quot;: {&quot;coordinates&quot;: [0.223365, 45.221076], &quot;type&quot;: &quot;Point&quot;}, &quot;properties&quot;: {&quot;country&quot;: &quot;France&quot;, &quot;id&quot;: &quot;en.23&quot;, &quot;name&quot;: &quot;Montpellier&quot;, &quot;source&quot;: &quot;ign&quot;, &quot;sourceName&quot;: &quot;Saint Privat en P\\u00e9rigord&quot;, &quot;type&quot;: &quot;Lieu-dit habit\\u00e9&quot;}, &quot;type&quot;: &quot;Feature&quot;}], &quot;type&quot;: &quot;FeatureCollection&quot;});\n",
       "\n",
       "        \n",
       "    \n",
       "    geo_json_1f798fe14457a3e50491de3025d82c34.bindTooltip(\n",
       "    function(layer){\n",
       "    let div = L.DomUtil.create(&#x27;div&#x27;);\n",
       "    \n",
       "    let handleObject = feature=&gt;typeof(feature)==&#x27;object&#x27; ? JSON.stringify(feature) : feature;\n",
       "    let fields = [&quot;name&quot;, &quot;source&quot;];\n",
       "    let aliases = [&quot;name&quot;, &quot;source&quot;];\n",
       "    let table = &#x27;&lt;table&gt;&#x27; +\n",
       "        String(\n",
       "        fields.map(\n",
       "        (v,i)=&gt;\n",
       "        `&lt;tr&gt;\n",
       "            &lt;th&gt;${aliases[i].toLocaleString()}&lt;/th&gt;\n",
       "            \n",
       "            &lt;td&gt;${handleObject(layer.feature.properties[v]).toLocaleString()}&lt;/td&gt;\n",
       "        &lt;/tr&gt;`).join(&#x27;&#x27;))\n",
       "    +&#x27;&lt;/table&gt;&#x27;;\n",
       "    div.innerHTML=table;\n",
       "    \n",
       "    return div\n",
       "    }\n",
       "    ,{&quot;className&quot;: &quot;foliumtooltip&quot;, &quot;sticky&quot;: true});\n",
       "                     \n",
       "&lt;/script&gt;\" style=\"position:absolute;width:100%;height:100%;left:0;top:0;border:none !important;\" allowfullscreen webkitallowfullscreen mozallowfullscreen></iframe></div></div>"
      ],
      "text/plain": [
       "<folium.folium.Map at 0x29d9d62e0>"
      ]
     },
     "execution_count": 5,
     "metadata": {},
     "output_type": "execute_result"
    }
   ],
   "source": [
    "\n",
    "geoparser = Geoparser(version=\"Encyclopedie\", sources=['nominatim', 'geonames', 'ign'])\n",
    "doc = geoparser(content)\n",
    "\n",
    "\n",
    "displacy.render(doc.to_spacy_doc(), style=\"ent\", jupyter=True)\n",
    "doc.get_folium_map()"
   ]
  },
  {
   "cell_type": "code",
   "execution_count": 4,
   "metadata": {},
   "outputs": [
    {
     "data": {
      "text/html": [
       "<span class=\"tex2jax_ignore\"><div class=\"entities\" style=\"line-height: 2.5; direction: ltr\">\n",
       "<mark class=\"entity\" style=\"background: #ff9561; padding: 0.45em 0.6em; margin: 0 0.25em; line-height: 1; border-radius: 0.35em;\">\n",
       "    FRONTIGNAN\n",
       "    <span style=\"font-size: 0.8em; font-weight: bold; line-height: 1; border-radius: 0.35em; vertical-align: middle; margin-left: 0.5rem\">LOC</span>\n",
       "</mark>\n",
       " , ( Géog . ) petite ville de \n",
       "<mark class=\"entity\" style=\"background: #ff9561; padding: 0.45em 0.6em; margin: 0 0.25em; line-height: 1; border-radius: 0.35em;\">\n",
       "    France\n",
       "    <span style=\"font-size: 0.8em; font-weight: bold; line-height: 1; border-radius: 0.35em; vertical-align: middle; margin-left: 0.5rem\">LOC</span>\n",
       "</mark>\n",
       " . au \n",
       "<mark class=\"entity\" style=\"background: #ff9561; padding: 0.45em 0.6em; margin: 0 0.25em; line-height: 1; border-radius: 0.35em;\">\n",
       "    Bas-Languedoc\n",
       "    <span style=\"font-size: 0.8em; font-weight: bold; line-height: 1; border-radius: 0.35em; vertical-align: middle; margin-left: 0.5rem\">LOC</span>\n",
       "</mark>\n",
       " , connue par ses excellens vins muscats , &amp; ses raisins de caisse qu' on appelle passerilles . Quelques savans croyent , sans en donner de preuves , que cette ville est le forum \n",
       "<mark class=\"entity\" style=\"background: #ff9561; padding: 0.45em 0.6em; margin: 0 0.25em; line-height: 1; border-radius: 0.35em;\">\n",
       "    Domitii des Romains\n",
       "    <span style=\"font-size: 0.8em; font-weight: bold; line-height: 1; border-radius: 0.35em; vertical-align: middle; margin-left: 0.5rem\">LOC</span>\n",
       "</mark>\n",
       " . Elle est située sur l' étang de \n",
       "<mark class=\"entity\" style=\"background: #ff9561; padding: 0.45em 0.6em; margin: 0 0.25em; line-height: 1; border-radius: 0.35em;\">\n",
       "    Maguelone\n",
       "    <span style=\"font-size: 0.8em; font-weight: bold; line-height: 1; border-radius: 0.35em; vertical-align: middle; margin-left: 0.5rem\">LOC</span>\n",
       "</mark>\n",
       " , à six lieues N. E. d' \n",
       "<mark class=\"entity\" style=\"background: #ff9561; padding: 0.45em 0.6em; margin: 0 0.25em; line-height: 1; border-radius: 0.35em;\">\n",
       "    Agde\n",
       "    <span style=\"font-size: 0.8em; font-weight: bold; line-height: 1; border-radius: 0.35em; vertical-align: middle; margin-left: 0.5rem\">LOC</span>\n",
       "</mark>\n",
       " , &amp; cinq S. O. de \n",
       "<mark class=\"entity\" style=\"background: #ff9561; padding: 0.45em 0.6em; margin: 0 0.25em; line-height: 1; border-radius: 0.35em;\">\n",
       "    Montpellier\n",
       "    <span style=\"font-size: 0.8em; font-weight: bold; line-height: 1; border-radius: 0.35em; vertical-align: middle; margin-left: 0.5rem\">LOC</span>\n",
       "</mark>\n",
       " . \n",
       "<mark class=\"entity\" style=\"background: #ddd; padding: 0.45em 0.6em; margin: 0 0.25em; line-height: 1; border-radius: 0.35em;\">\n",
       "    Long . 15d . 24 ' . lat . 43d . 28 ' .\n",
       "    <span style=\"font-size: 0.8em; font-weight: bold; line-height: 1; border-radius: 0.35em; vertical-align: middle; margin-left: 0.5rem\">MISC</span>\n",
       "</mark>\n",
       " ( D. J. ) </div></span>"
      ],
      "text/plain": [
       "<IPython.core.display.HTML object>"
      ]
     },
     "metadata": {},
     "output_type": "display_data"
    },
    {
     "data": {
      "text/html": [
       "<div style=\"width:100%;\"><div style=\"position:relative;width:100%;height:0;padding-bottom:60%;\"><span style=\"color:#565656\">Make this Notebook Trusted to load map: File -> Trust Notebook</span><iframe srcdoc=\"&lt;!DOCTYPE html&gt;\n",
       "&lt;head&gt;    \n",
       "    &lt;meta http-equiv=&quot;content-type&quot; content=&quot;text/html; charset=UTF-8&quot; /&gt;\n",
       "    \n",
       "        &lt;script&gt;\n",
       "            L_NO_TOUCH = false;\n",
       "            L_DISABLE_3D = false;\n",
       "        &lt;/script&gt;\n",
       "    \n",
       "    &lt;style&gt;html, body {width: 100%;height: 100%;margin: 0;padding: 0;}&lt;/style&gt;\n",
       "    &lt;style&gt;#map {position:absolute;top:0;bottom:0;right:0;left:0;}&lt;/style&gt;\n",
       "    &lt;script src=&quot;https://cdn.jsdelivr.net/npm/leaflet@1.6.0/dist/leaflet.js&quot;&gt;&lt;/script&gt;\n",
       "    &lt;script src=&quot;https://code.jquery.com/jquery-1.12.4.min.js&quot;&gt;&lt;/script&gt;\n",
       "    &lt;script src=&quot;https://maxcdn.bootstrapcdn.com/bootstrap/3.2.0/js/bootstrap.min.js&quot;&gt;&lt;/script&gt;\n",
       "    &lt;script src=&quot;https://cdnjs.cloudflare.com/ajax/libs/Leaflet.awesome-markers/2.0.2/leaflet.awesome-markers.js&quot;&gt;&lt;/script&gt;\n",
       "    &lt;link rel=&quot;stylesheet&quot; href=&quot;https://cdn.jsdelivr.net/npm/leaflet@1.6.0/dist/leaflet.css&quot;/&gt;\n",
       "    &lt;link rel=&quot;stylesheet&quot; href=&quot;https://maxcdn.bootstrapcdn.com/bootstrap/3.2.0/css/bootstrap.min.css&quot;/&gt;\n",
       "    &lt;link rel=&quot;stylesheet&quot; href=&quot;https://maxcdn.bootstrapcdn.com/bootstrap/3.2.0/css/bootstrap-theme.min.css&quot;/&gt;\n",
       "    &lt;link rel=&quot;stylesheet&quot; href=&quot;https://maxcdn.bootstrapcdn.com/font-awesome/4.6.3/css/font-awesome.min.css&quot;/&gt;\n",
       "    &lt;link rel=&quot;stylesheet&quot; href=&quot;https://cdnjs.cloudflare.com/ajax/libs/Leaflet.awesome-markers/2.0.2/leaflet.awesome-markers.css&quot;/&gt;\n",
       "    &lt;link rel=&quot;stylesheet&quot; href=&quot;https://cdn.jsdelivr.net/gh/python-visualization/folium/folium/templates/leaflet.awesome.rotate.min.css&quot;/&gt;\n",
       "    \n",
       "            &lt;meta name=&quot;viewport&quot; content=&quot;width=device-width,\n",
       "                initial-scale=1.0, maximum-scale=1.0, user-scalable=no&quot; /&gt;\n",
       "            &lt;style&gt;\n",
       "                #map_b50771394031ba816bc9e26c15c7f431 {\n",
       "                    position: relative;\n",
       "                    width: 100.0%;\n",
       "                    height: 100.0%;\n",
       "                    left: 0.0%;\n",
       "                    top: 0.0%;\n",
       "                }\n",
       "            &lt;/style&gt;\n",
       "        \n",
       "    \n",
       "                    &lt;style&gt;\n",
       "                        .foliumtooltip {\n",
       "                            \n",
       "                        }\n",
       "                       .foliumtooltip table{\n",
       "                            margin: auto;\n",
       "                        }\n",
       "                        .foliumtooltip tr{\n",
       "                            text-align: left;\n",
       "                        }\n",
       "                        .foliumtooltip th{\n",
       "                            padding: 2px; padding-right: 8px;\n",
       "                        }\n",
       "                    &lt;/style&gt;\n",
       "            \n",
       "&lt;/head&gt;\n",
       "&lt;body&gt;    \n",
       "    \n",
       "            &lt;div class=&quot;folium-map&quot; id=&quot;map_b50771394031ba816bc9e26c15c7f431&quot; &gt;&lt;/div&gt;\n",
       "        \n",
       "&lt;/body&gt;\n",
       "&lt;script&gt;    \n",
       "    \n",
       "            var map_b50771394031ba816bc9e26c15c7f431 = L.map(\n",
       "                &quot;map_b50771394031ba816bc9e26c15c7f431&quot;,\n",
       "                {\n",
       "                    center: [0, 0],\n",
       "                    crs: L.CRS.EPSG3857,\n",
       "                    zoom: 1,\n",
       "                    zoomControl: true,\n",
       "                    preferCanvas: false,\n",
       "                }\n",
       "            );\n",
       "\n",
       "            \n",
       "\n",
       "        \n",
       "    \n",
       "            var tile_layer_d3cf2a9eeaaf8d8b6696d35d7e2bdd9a = L.tileLayer(\n",
       "                &quot;https://{s}.tile.openstreetmap.org/{z}/{x}/{y}.png&quot;,\n",
       "                {&quot;attribution&quot;: &quot;Data by \\u0026copy; \\u003ca href=\\&quot;http://openstreetmap.org\\&quot;\\u003eOpenStreetMap\\u003c/a\\u003e, under \\u003ca href=\\&quot;http://www.openstreetmap.org/copyright\\&quot;\\u003eODbL\\u003c/a\\u003e.&quot;, &quot;detectRetina&quot;: false, &quot;maxNativeZoom&quot;: 18, &quot;maxZoom&quot;: 18, &quot;minZoom&quot;: 0, &quot;noWrap&quot;: false, &quot;opacity&quot;: 1, &quot;subdomains&quot;: &quot;abc&quot;, &quot;tms&quot;: false}\n",
       "            ).addTo(map_b50771394031ba816bc9e26c15c7f431);\n",
       "        \n",
       "    \n",
       "            map_b50771394031ba816bc9e26c15c7f431.fitBounds(\n",
       "                [[43.512082, 3.86047], [43.611242, 3.884022]],\n",
       "                {}\n",
       "            );\n",
       "        \n",
       "    \n",
       "\n",
       "        function geo_json_3bb728093e8415f2c629c3b5674fa9d3_onEachFeature(feature, layer) {\n",
       "            layer.on({\n",
       "            });\n",
       "        };\n",
       "        var geo_json_3bb728093e8415f2c629c3b5674fa9d3 = L.geoJson(null, {\n",
       "                onEachFeature: geo_json_3bb728093e8415f2c629c3b5674fa9d3_onEachFeature,\n",
       "            \n",
       "        });\n",
       "\n",
       "        function geo_json_3bb728093e8415f2c629c3b5674fa9d3_add (data) {\n",
       "            geo_json_3bb728093e8415f2c629c3b5674fa9d3\n",
       "                .addData(data)\n",
       "                .addTo(map_b50771394031ba816bc9e26c15c7f431);\n",
       "        }\n",
       "            geo_json_3bb728093e8415f2c629c3b5674fa9d3_add({&quot;features&quot;: [{&quot;geometry&quot;: {&quot;coordinates&quot;: [3.883389, 43.514004], &quot;type&quot;: &quot;Point&quot;}, &quot;properties&quot;: {&quot;cluster&quot;: 0, &quot;country&quot;: &quot;France&quot;, &quot;latitude&quot;: 43.514004, &quot;longitude&quot;: 3.883389, &quot;name&quot;: &quot;Maguelone&quot;, &quot;source&quot;: &quot;nominatim&quot;, &quot;sourceName&quot;: &quot;Maguelone, Villeneuve-l\\u00e8s-Maguelone, Montpellier, H\\u00e9rault, Occitanie, France m\\u00e9tropolitaine, 34750, France&quot;, &quot;xmlID&quot;: &quot;en.15&quot;}, &quot;type&quot;: &quot;Feature&quot;}, {&quot;geometry&quot;: {&quot;coordinates&quot;: [3.86047, 43.53222], &quot;type&quot;: &quot;Point&quot;}, &quot;properties&quot;: {&quot;cluster&quot;: 0, &quot;country&quot;: &quot;France&quot;, &quot;latitude&quot;: 43.53222, &quot;longitude&quot;: 3.86047, &quot;name&quot;: &quot;Maguelone&quot;, &quot;source&quot;: &quot;geonames&quot;, &quot;sourceName&quot;: &quot;Villeneuve-l\\u00e8s-Maguelone&quot;, &quot;xmlID&quot;: &quot;en.15&quot;}, &quot;type&quot;: &quot;Feature&quot;}, {&quot;geometry&quot;: {&quot;coordinates&quot;: [3.884022, 43.512082], &quot;type&quot;: &quot;Point&quot;}, &quot;properties&quot;: {&quot;cluster&quot;: 0, &quot;country&quot;: &quot;France&quot;, &quot;latitude&quot;: 43.512082, &quot;longitude&quot;: 3.884022, &quot;name&quot;: &quot;Maguelone&quot;, &quot;source&quot;: &quot;ign&quot;, &quot;sourceName&quot;: &quot;Villeneuve-l\\u00e8s-Maguelone&quot;, &quot;xmlID&quot;: &quot;en.15&quot;}, &quot;type&quot;: &quot;Feature&quot;}, {&quot;geometry&quot;: {&quot;coordinates&quot;: [3.876734, 43.611242], &quot;type&quot;: &quot;Point&quot;}, &quot;properties&quot;: {&quot;cluster&quot;: 0, &quot;country&quot;: &quot;France&quot;, &quot;latitude&quot;: 43.611242, &quot;longitude&quot;: 3.876734, &quot;name&quot;: &quot;Montpellier&quot;, &quot;source&quot;: &quot;nominatim&quot;, &quot;sourceName&quot;: &quot;Montpellier, H\\u00e9rault, Occitanie, France m\\u00e9tropolitaine, France&quot;, &quot;xmlID&quot;: &quot;en.23&quot;}, &quot;type&quot;: &quot;Feature&quot;}, {&quot;geometry&quot;: {&quot;coordinates&quot;: [3.87635, 43.61093], &quot;type&quot;: &quot;Point&quot;}, &quot;properties&quot;: {&quot;cluster&quot;: 0, &quot;country&quot;: &quot;France&quot;, &quot;latitude&quot;: 43.61093, &quot;longitude&quot;: 3.87635, &quot;name&quot;: &quot;Montpellier&quot;, &quot;source&quot;: &quot;geonames&quot;, &quot;sourceName&quot;: &quot;Montpellier&quot;, &quot;xmlID&quot;: &quot;en.23&quot;}, &quot;type&quot;: &quot;Feature&quot;}], &quot;type&quot;: &quot;FeatureCollection&quot;});\n",
       "\n",
       "        \n",
       "    \n",
       "    geo_json_3bb728093e8415f2c629c3b5674fa9d3.bindTooltip(\n",
       "    function(layer){\n",
       "    let div = L.DomUtil.create(&#x27;div&#x27;);\n",
       "    \n",
       "    let handleObject = feature=&gt;typeof(feature)==&#x27;object&#x27; ? JSON.stringify(feature) : feature;\n",
       "    let fields = [&quot;name&quot;, &quot;source&quot;];\n",
       "    let aliases = [&quot;name&quot;, &quot;source&quot;];\n",
       "    let table = &#x27;&lt;table&gt;&#x27; +\n",
       "        String(\n",
       "        fields.map(\n",
       "        (v,i)=&gt;\n",
       "        `&lt;tr&gt;\n",
       "            &lt;th&gt;${aliases[i].toLocaleString()}&lt;/th&gt;\n",
       "            \n",
       "            &lt;td&gt;${handleObject(layer.feature.properties[v]).toLocaleString()}&lt;/td&gt;\n",
       "        &lt;/tr&gt;`).join(&#x27;&#x27;))\n",
       "    +&#x27;&lt;/table&gt;&#x27;;\n",
       "    div.innerHTML=table;\n",
       "    \n",
       "    return div\n",
       "    }\n",
       "    ,{&quot;className&quot;: &quot;foliumtooltip&quot;, &quot;sticky&quot;: true});\n",
       "                     \n",
       "&lt;/script&gt;\" style=\"position:absolute;width:100%;height:100%;left:0;top:0;border:none !important;\" allowfullscreen webkitallowfullscreen mozallowfullscreen></iframe></div></div>"
      ],
      "text/plain": [
       "<folium.folium.Map at 0x1105c6fa0>"
      ]
     },
     "execution_count": 4,
     "metadata": {},
     "output_type": "execute_result"
    }
   ],
   "source": [
    "\n",
    "\n",
    "geoparser = Geoparser(version=\"Encyclopedie\", sources=['nominatim', 'geonames', 'ign'])\n",
    "doc = geoparser(content)\n",
    "\n",
    "doc.cluster_disambiguation() # add epsilon as a parameter\n",
    "\n",
    "displacy.render(doc.to_spacy_doc(), style=\"ent\", jupyter=True)\n",
    "doc.get_folium_map()"
   ]
  },
  {
   "cell_type": "code",
   "execution_count": 92,
   "metadata": {},
   "outputs": [
    {
     "data": {
      "text/html": [
       "<span class=\"tex2jax_ignore\"><div class=\"entities\" style=\"line-height: 2.5; direction: ltr\">\n",
       "<mark class=\"entity\" style=\"background: #ff9561; padding: 0.45em 0.6em; margin: 0 0.25em; line-height: 1; border-radius: 0.35em;\">\n",
       "    FRONTIGNAN\n",
       "    <span style=\"font-size: 0.8em; font-weight: bold; line-height: 1; border-radius: 0.35em; vertical-align: middle; margin-left: 0.5rem\">LOC</span>\n",
       "</mark>\n",
       " , ( Géog . ) petite ville de \n",
       "<mark class=\"entity\" style=\"background: #ff9561; padding: 0.45em 0.6em; margin: 0 0.25em; line-height: 1; border-radius: 0.35em;\">\n",
       "    France\n",
       "    <span style=\"font-size: 0.8em; font-weight: bold; line-height: 1; border-radius: 0.35em; vertical-align: middle; margin-left: 0.5rem\">LOC</span>\n",
       "</mark>\n",
       " . au \n",
       "<mark class=\"entity\" style=\"background: #ff9561; padding: 0.45em 0.6em; margin: 0 0.25em; line-height: 1; border-radius: 0.35em;\">\n",
       "    Bas-Languedoc\n",
       "    <span style=\"font-size: 0.8em; font-weight: bold; line-height: 1; border-radius: 0.35em; vertical-align: middle; margin-left: 0.5rem\">LOC</span>\n",
       "</mark>\n",
       " , connue par ses excellens vins muscats , &amp; ses raisins de caisse qu' on appelle passerilles . Quelques savans croyent , sans en donner de preuves , que cette ville est le forum \n",
       "<mark class=\"entity\" style=\"background: #ff9561; padding: 0.45em 0.6em; margin: 0 0.25em; line-height: 1; border-radius: 0.35em;\">\n",
       "    Domitii des Romains\n",
       "    <span style=\"font-size: 0.8em; font-weight: bold; line-height: 1; border-radius: 0.35em; vertical-align: middle; margin-left: 0.5rem\">LOC</span>\n",
       "</mark>\n",
       " . Elle est située sur l' étang de \n",
       "<mark class=\"entity\" style=\"background: #ff9561; padding: 0.45em 0.6em; margin: 0 0.25em; line-height: 1; border-radius: 0.35em;\">\n",
       "    Maguelone\n",
       "    <span style=\"font-size: 0.8em; font-weight: bold; line-height: 1; border-radius: 0.35em; vertical-align: middle; margin-left: 0.5rem\">LOC</span>\n",
       "</mark>\n",
       " , à six lieues N. E. d' \n",
       "<mark class=\"entity\" style=\"background: #ff9561; padding: 0.45em 0.6em; margin: 0 0.25em; line-height: 1; border-radius: 0.35em;\">\n",
       "    Agde\n",
       "    <span style=\"font-size: 0.8em; font-weight: bold; line-height: 1; border-radius: 0.35em; vertical-align: middle; margin-left: 0.5rem\">LOC</span>\n",
       "</mark>\n",
       " , &amp; cinq S. O. de \n",
       "<mark class=\"entity\" style=\"background: #ff9561; padding: 0.45em 0.6em; margin: 0 0.25em; line-height: 1; border-radius: 0.35em;\">\n",
       "    Montpellier\n",
       "    <span style=\"font-size: 0.8em; font-weight: bold; line-height: 1; border-radius: 0.35em; vertical-align: middle; margin-left: 0.5rem\">LOC</span>\n",
       "</mark>\n",
       " . \n",
       "<mark class=\"entity\" style=\"background: #ddd; padding: 0.45em 0.6em; margin: 0 0.25em; line-height: 1; border-radius: 0.35em;\">\n",
       "    Long . 15d . 24 ' . lat . 43d . 28 ' .\n",
       "    <span style=\"font-size: 0.8em; font-weight: bold; line-height: 1; border-radius: 0.35em; vertical-align: middle; margin-left: 0.5rem\">MISC</span>\n",
       "</mark>\n",
       " ( D. J. ) </div></span>"
      ],
      "text/plain": [
       "<IPython.core.display.HTML object>"
      ]
     },
     "metadata": {},
     "output_type": "display_data"
    },
    {
     "data": {
      "text/html": [
       "<div style=\"width:100%;\"><div style=\"position:relative;width:100%;height:0;padding-bottom:60%;\"><span style=\"color:#565656\">Make this Notebook Trusted to load map: File -> Trust Notebook</span><iframe srcdoc=\"&lt;!DOCTYPE html&gt;\n",
       "&lt;head&gt;    \n",
       "    &lt;meta http-equiv=&quot;content-type&quot; content=&quot;text/html; charset=UTF-8&quot; /&gt;\n",
       "    \n",
       "        &lt;script&gt;\n",
       "            L_NO_TOUCH = false;\n",
       "            L_DISABLE_3D = false;\n",
       "        &lt;/script&gt;\n",
       "    \n",
       "    &lt;style&gt;html, body {width: 100%;height: 100%;margin: 0;padding: 0;}&lt;/style&gt;\n",
       "    &lt;style&gt;#map {position:absolute;top:0;bottom:0;right:0;left:0;}&lt;/style&gt;\n",
       "    &lt;script src=&quot;https://cdn.jsdelivr.net/npm/leaflet@1.6.0/dist/leaflet.js&quot;&gt;&lt;/script&gt;\n",
       "    &lt;script src=&quot;https://code.jquery.com/jquery-1.12.4.min.js&quot;&gt;&lt;/script&gt;\n",
       "    &lt;script src=&quot;https://maxcdn.bootstrapcdn.com/bootstrap/3.2.0/js/bootstrap.min.js&quot;&gt;&lt;/script&gt;\n",
       "    &lt;script src=&quot;https://cdnjs.cloudflare.com/ajax/libs/Leaflet.awesome-markers/2.0.2/leaflet.awesome-markers.js&quot;&gt;&lt;/script&gt;\n",
       "    &lt;link rel=&quot;stylesheet&quot; href=&quot;https://cdn.jsdelivr.net/npm/leaflet@1.6.0/dist/leaflet.css&quot;/&gt;\n",
       "    &lt;link rel=&quot;stylesheet&quot; href=&quot;https://maxcdn.bootstrapcdn.com/bootstrap/3.2.0/css/bootstrap.min.css&quot;/&gt;\n",
       "    &lt;link rel=&quot;stylesheet&quot; href=&quot;https://maxcdn.bootstrapcdn.com/bootstrap/3.2.0/css/bootstrap-theme.min.css&quot;/&gt;\n",
       "    &lt;link rel=&quot;stylesheet&quot; href=&quot;https://maxcdn.bootstrapcdn.com/font-awesome/4.6.3/css/font-awesome.min.css&quot;/&gt;\n",
       "    &lt;link rel=&quot;stylesheet&quot; href=&quot;https://cdnjs.cloudflare.com/ajax/libs/Leaflet.awesome-markers/2.0.2/leaflet.awesome-markers.css&quot;/&gt;\n",
       "    &lt;link rel=&quot;stylesheet&quot; href=&quot;https://cdn.jsdelivr.net/gh/python-visualization/folium/folium/templates/leaflet.awesome.rotate.min.css&quot;/&gt;\n",
       "    \n",
       "            &lt;meta name=&quot;viewport&quot; content=&quot;width=device-width,\n",
       "                initial-scale=1.0, maximum-scale=1.0, user-scalable=no&quot; /&gt;\n",
       "            &lt;style&gt;\n",
       "                #map_14c7de34cc38ff6e71de79c9ae7f33d3 {\n",
       "                    position: relative;\n",
       "                    width: 100.0%;\n",
       "                    height: 100.0%;\n",
       "                    left: 0.0%;\n",
       "                    top: 0.0%;\n",
       "                }\n",
       "            &lt;/style&gt;\n",
       "        \n",
       "    \n",
       "                    &lt;style&gt;\n",
       "                        .foliumtooltip {\n",
       "                            \n",
       "                        }\n",
       "                       .foliumtooltip table{\n",
       "                            margin: auto;\n",
       "                        }\n",
       "                        .foliumtooltip tr{\n",
       "                            text-align: left;\n",
       "                        }\n",
       "                        .foliumtooltip th{\n",
       "                            padding: 2px; padding-right: 8px;\n",
       "                        }\n",
       "                    &lt;/style&gt;\n",
       "            \n",
       "&lt;/head&gt;\n",
       "&lt;body&gt;    \n",
       "    \n",
       "            &lt;div class=&quot;folium-map&quot; id=&quot;map_14c7de34cc38ff6e71de79c9ae7f33d3&quot; &gt;&lt;/div&gt;\n",
       "        \n",
       "&lt;/body&gt;\n",
       "&lt;script&gt;    \n",
       "    \n",
       "            var map_14c7de34cc38ff6e71de79c9ae7f33d3 = L.map(\n",
       "                &quot;map_14c7de34cc38ff6e71de79c9ae7f33d3&quot;,\n",
       "                {\n",
       "                    center: [0, 0],\n",
       "                    crs: L.CRS.EPSG3857,\n",
       "                    zoom: 1,\n",
       "                    zoomControl: true,\n",
       "                    preferCanvas: false,\n",
       "                }\n",
       "            );\n",
       "\n",
       "            \n",
       "\n",
       "        \n",
       "    \n",
       "            var tile_layer_4b917e9fe6b1a482e670cde78704923e = L.tileLayer(\n",
       "                &quot;https://{s}.tile.openstreetmap.org/{z}/{x}/{y}.png&quot;,\n",
       "                {&quot;attribution&quot;: &quot;Data by \\u0026copy; \\u003ca href=\\&quot;http://openstreetmap.org\\&quot;\\u003eOpenStreetMap\\u003c/a\\u003e, under \\u003ca href=\\&quot;http://www.openstreetmap.org/copyright\\&quot;\\u003eODbL\\u003c/a\\u003e.&quot;, &quot;detectRetina&quot;: false, &quot;maxNativeZoom&quot;: 18, &quot;maxZoom&quot;: 18, &quot;minZoom&quot;: 0, &quot;noWrap&quot;: false, &quot;opacity&quot;: 1, &quot;subdomains&quot;: &quot;abc&quot;, &quot;tms&quot;: false}\n",
       "            ).addTo(map_14c7de34cc38ff6e71de79c9ae7f33d3);\n",
       "        \n",
       "    \n",
       "            map_14c7de34cc38ff6e71de79c9ae7f33d3.fitBounds(\n",
       "                [[43.312447, 3.036528], [44.087262, 3.884022]],\n",
       "                {}\n",
       "            );\n",
       "        \n",
       "    \n",
       "\n",
       "        function geo_json_e40bd232f9af8f6ac1e80323d0a99b81_onEachFeature(feature, layer) {\n",
       "            layer.on({\n",
       "            });\n",
       "        };\n",
       "        var geo_json_e40bd232f9af8f6ac1e80323d0a99b81 = L.geoJson(null, {\n",
       "                onEachFeature: geo_json_e40bd232f9af8f6ac1e80323d0a99b81_onEachFeature,\n",
       "            \n",
       "        });\n",
       "\n",
       "        function geo_json_e40bd232f9af8f6ac1e80323d0a99b81_add (data) {\n",
       "            geo_json_e40bd232f9af8f6ac1e80323d0a99b81\n",
       "                .addData(data)\n",
       "                .addTo(map_14c7de34cc38ff6e71de79c9ae7f33d3);\n",
       "        }\n",
       "            geo_json_e40bd232f9af8f6ac1e80323d0a99b81_add({&quot;features&quot;: [{&quot;geometry&quot;: {&quot;coordinates&quot;: [3.756007, 43.444807], &quot;type&quot;: &quot;Point&quot;}, &quot;properties&quot;: {&quot;country&quot;: &quot;France&quot;, &quot;id&quot;: &quot;en.1&quot;, &quot;name&quot;: &quot;FRONTIGNAN&quot;, &quot;source&quot;: &quot;ign&quot;, &quot;sourceName&quot;: &quot;Frontignan&quot;, &quot;type&quot;: &quot;Commune&quot;}, &quot;type&quot;: &quot;Feature&quot;}, {&quot;geometry&quot;: {&quot;coordinates&quot;: [3.036528, 44.087262], &quot;type&quot;: &quot;Point&quot;}, &quot;properties&quot;: {&quot;country&quot;: &quot;France&quot;, &quot;id&quot;: &quot;en.5&quot;, &quot;name&quot;: &quot;France&quot;, &quot;source&quot;: &quot;ign&quot;, &quot;sourceName&quot;: &quot;Creissels&quot;, &quot;type&quot;: &quot;Lieu-dit non habit\\u00e9&quot;}, &quot;type&quot;: &quot;Feature&quot;}, {&quot;geometry&quot;: {&quot;coordinates&quot;: [3.238061, 43.720438], &quot;type&quot;: &quot;Point&quot;}, &quot;properties&quot;: {&quot;country&quot;: &quot;France&quot;, &quot;id&quot;: &quot;en.7&quot;, &quot;name&quot;: &quot;Bas-Languedoc&quot;, &quot;source&quot;: &quot;ign&quot;, &quot;sourceName&quot;: &quot;Lunas&quot;, &quot;type&quot;: &quot;Lieu-dit habit\\u00e9&quot;}, &quot;type&quot;: &quot;Feature&quot;}, {&quot;geometry&quot;: {&quot;coordinates&quot;: [3.254115, 43.350987], &quot;type&quot;: &quot;Point&quot;}, &quot;properties&quot;: {&quot;country&quot;: &quot;France&quot;, &quot;id&quot;: &quot;en.11&quot;, &quot;name&quot;: &quot;Domitii des Romains&quot;, &quot;source&quot;: &quot;ign&quot;, &quot;sourceName&quot;: &quot;B\\u00e9ziers&quot;, &quot;type&quot;: &quot;Zone industrielle&quot;}, &quot;type&quot;: &quot;Feature&quot;}, {&quot;geometry&quot;: {&quot;coordinates&quot;: [3.884022, 43.512082], &quot;type&quot;: &quot;Point&quot;}, &quot;properties&quot;: {&quot;country&quot;: &quot;France&quot;, &quot;id&quot;: &quot;en.15&quot;, &quot;name&quot;: &quot;Maguelone&quot;, &quot;source&quot;: &quot;ign&quot;, &quot;sourceName&quot;: &quot;Villeneuve-l\\u00e8s-Maguelone&quot;, &quot;type&quot;: &quot;Lieu-dit habit\\u00e9&quot;}, &quot;type&quot;: &quot;Feature&quot;}, {&quot;geometry&quot;: {&quot;coordinates&quot;: [3.470839, 43.312447], &quot;type&quot;: &quot;Point&quot;}, &quot;properties&quot;: {&quot;country&quot;: &quot;France&quot;, &quot;id&quot;: &quot;en.19&quot;, &quot;name&quot;: &quot;Agde&quot;, &quot;source&quot;: &quot;ign&quot;, &quot;sourceName&quot;: &quot;Agde&quot;, &quot;type&quot;: &quot;Commune&quot;}, &quot;type&quot;: &quot;Feature&quot;}, {&quot;geometry&quot;: {&quot;coordinates&quot;: [3.876269, 43.610578], &quot;type&quot;: &quot;Point&quot;}, &quot;properties&quot;: {&quot;country&quot;: &quot;France&quot;, &quot;id&quot;: &quot;en.23&quot;, &quot;name&quot;: &quot;Montpellier&quot;, &quot;source&quot;: &quot;ign&quot;, &quot;sourceName&quot;: &quot;Montpellier&quot;, &quot;type&quot;: &quot;Pr\\u00e9fecture&quot;}, &quot;type&quot;: &quot;Feature&quot;}], &quot;type&quot;: &quot;FeatureCollection&quot;});\n",
       "\n",
       "        \n",
       "    \n",
       "    geo_json_e40bd232f9af8f6ac1e80323d0a99b81.bindTooltip(\n",
       "    function(layer){\n",
       "    let div = L.DomUtil.create(&#x27;div&#x27;);\n",
       "    \n",
       "    let handleObject = feature=&gt;typeof(feature)==&#x27;object&#x27; ? JSON.stringify(feature) : feature;\n",
       "    let fields = [&quot;name&quot;, &quot;source&quot;];\n",
       "    let aliases = [&quot;name&quot;, &quot;source&quot;];\n",
       "    let table = &#x27;&lt;table&gt;&#x27; +\n",
       "        String(\n",
       "        fields.map(\n",
       "        (v,i)=&gt;\n",
       "        `&lt;tr&gt;\n",
       "            &lt;th&gt;${aliases[i].toLocaleString()}&lt;/th&gt;\n",
       "            \n",
       "            &lt;td&gt;${handleObject(layer.feature.properties[v]).toLocaleString()}&lt;/td&gt;\n",
       "        &lt;/tr&gt;`).join(&#x27;&#x27;))\n",
       "    +&#x27;&lt;/table&gt;&#x27;;\n",
       "    div.innerHTML=table;\n",
       "    \n",
       "    return div\n",
       "    }\n",
       "    ,{&quot;className&quot;: &quot;foliumtooltip&quot;, &quot;sticky&quot;: true});\n",
       "                     \n",
       "&lt;/script&gt;\" style=\"position:absolute;width:100%;height:100%;left:0;top:0;border:none !important;\" allowfullscreen webkitallowfullscreen mozallowfullscreen></iframe></div></div>"
      ],
      "text/plain": [
       "<folium.folium.Map at 0x163908ee0>"
      ]
     },
     "execution_count": 92,
     "metadata": {},
     "output_type": "execute_result"
    }
   ],
   "source": [
    "\n",
    "\n",
    "geoparser = Geoparser(version=\"Encyclopedie\", sources=['ign'], bbox=[2.900391,43.177141,4.185791,44.274705])\n",
    "doc = geoparser(content)\n",
    "\n",
    "displacy.render(doc.to_spacy_doc(), style=\"ent\", jupyter=True)\n",
    "doc.get_folium_map()"
   ]
  },
  {
   "cell_type": "code",
   "execution_count": null,
   "metadata": {},
   "outputs": [],
   "source": []
  },
  {
   "cell_type": "code",
   "execution_count": null,
   "metadata": {},
   "outputs": [],
   "source": []
  },
  {
   "cell_type": "code",
   "execution_count": null,
   "metadata": {},
   "outputs": [],
   "source": [
    "geocoder = Geocoder(max_rows=10)\n",
    "doc = geocoder('Héliopolis')"
   ]
  },
  {
   "cell_type": "markdown",
   "metadata": {},
   "source": [
    "## 8. Going further"
   ]
  },
  {
   "cell_type": "markdown",
   "metadata": {},
   "source": [
    "### 8.1 Extracting metadata and content from XML-TEI\n",
    "\n",
    "Here we assume that we have access to a directory with the corpus of documents. \n",
    "In our case, documents are XML-TEI files."
   ]
  },
  {
   "cell_type": "code",
   "execution_count": null,
   "metadata": {},
   "outputs": [],
   "source": [
    "path = './data/EDdA_vol7/' # path of the directory containing the corpus of documents\n",
    "\n",
    "# select one document for testing\n",
    "file = 'volume07-1002.tei' # FRONTIGNAN: https://artflsrv03.uchicago.edu/philologic4/encyclopedie1117/navigate/7/1002/\n",
    "\n",
    "# get the XML-TEI content of the document\n",
    "root = etree.parse(path + file, etree.XMLParser(remove_blank_text=True)).getroot()\n",
    "\n",
    "# print the XML-TEI content\n",
    "print(xml.parseString(etree.tostring(root)).toprettyxml(indent=' ')) "
   ]
  },
  {
   "cell_type": "markdown",
   "metadata": {},
   "source": [
    "In the following cell, we define a function for parsing and extracting metadata and text content from an XML-TEI file.\n",
    "In this example, we only extract from the metadata the normclass (classification of the article, e.g. 'Géographie'), the head (head word of the article), and the author of the article. Then, we also extract the textual content as raw text."
   ]
  },
  {
   "cell_type": "code",
   "execution_count": null,
   "metadata": {},
   "outputs": [],
   "source": [
    "def getDataFromEDDATEI(file_path, filename):\n",
    "    file_id = filename[:-4]\n",
    "    d = []\n",
    "    try:\n",
    "        volume = filename[6:8] \n",
    "        number = filename[9:-4] \n",
    "        head = ''\n",
    "        normClass = ''\n",
    "        author = ''\n",
    "        txtContent = ''\n",
    "        root = etree.parse(file_path+filename).getroot()\n",
    "        div1 = root.find('./text/body/div1')\n",
    "        if len(div1):\n",
    "            for elt in div1:\n",
    "                if elt.tag == 'p':\n",
    "                    txtContent += ''.join(elt.itertext())\n",
    "                    txtContent = txtContent.replace('\\n', ' ').strip()\n",
    "                elif elt.tag == 'index':\n",
    "                    if elt.get('type') == 'normclass':\n",
    "                        normClass = elt.get('value')\n",
    "                    if elt.get('type') == 'head':\n",
    "                        head = elt.get('value')\n",
    "                    if elt.get('type') == 'author':\n",
    "                        author = elt.get('value')\n",
    "        d = [filename, volume, number, head, normClass, author, txtContent]\n",
    "    except etree.XMLSyntaxError as e:\n",
    "        pass\n",
    "        #print(filename + ': ' + str(e))\n",
    "    return d"
   ]
  },
  {
   "cell_type": "markdown",
   "metadata": {},
   "source": [
    "* Use this function to get the metadata an XML-TEI file:"
   ]
  },
  {
   "cell_type": "code",
   "execution_count": null,
   "metadata": {},
   "outputs": [],
   "source": [
    "getDataFromEDDATEI(path, file)"
   ]
  },
  {
   "cell_type": "markdown",
   "metadata": {},
   "source": [
    "In order to easily analyse and use these data we will now load these information about all the documents in our directory into a [Python dataframe](https://pandas.pydata.org/pandas-docs/stable/reference/api/pandas.DataFrame.html):"
   ]
  },
  {
   "cell_type": "code",
   "execution_count": null,
   "metadata": {},
   "outputs": [],
   "source": [
    "data = []\n",
    "for doc in os.listdir(path):\n",
    "    if doc[-4:] == '.tei':\n",
    "        data.append(getDataFromEDDATEI(path, doc))\n",
    "df = pd.DataFrame(data, columns=['filename', 'volume', 'number', 'head', 'normClass', 'author', 'txtContent'])\n",
    "df = df.dropna()\n",
    "df = df.sort_values(['volume', 'number']).reset_index(drop = True)\n",
    "\n",
    "df.head(10) # show the 10 first rows of the dataframe\n",
    "#df.tail(10) # show the 10 last rows of the dataframe"
   ]
  },
  {
   "cell_type": "markdown",
   "metadata": {},
   "source": [
    "Now we have access to all the attributs and methods of the dataframe object. For instance, we can easily print the number of rows in our dataframe which correspond to the number of articles in our corpus:"
   ]
  },
  {
   "cell_type": "code",
   "execution_count": null,
   "metadata": {},
   "outputs": [],
   "source": [
    "n = df.shape[0]\n",
    "print('There are ' + str(n) + ' articles in the input directory')"
   ]
  },
  {
   "cell_type": "markdown",
   "metadata": {},
   "source": [
    "### 8.2 Searching by metadata\n",
    "\n",
    "We can select articles based on their classification in the *Encyclopédie*. (There are actually a few different ways that the ARTFL *Encyclopédie* articles have been classified. In this notebook we will be using the `normclass` field, which normalizes classifications given at time of publication that had many spelling variants).\n",
    "\n",
    "If we want all articles classified as 'Geography' we can make the request as follows (the output is stored as a new data frame `df_geo`: "
   ]
  },
  {
   "cell_type": "code",
   "execution_count": null,
   "metadata": {},
   "outputs": [],
   "source": [
    "req = 'Géographie'\n",
    "df_geo = dataset[dataset['normClass'].str.contains(req, case=False)]\n",
    "\n",
    "n = df_geo.shape[0]\n",
    "print('There are ' + str(n) + ' geography articles ('+ req +')')"
   ]
  },
  {
   "cell_type": "markdown",
   "metadata": {},
   "source": [
    "We can query based on any value in the dataframe (e.g. article metadata). For instance, we can query all the articles written by a specific author:\n",
    "\n",
    "* Count article for a single named author (Jaucourt)"
   ]
  },
  {
   "cell_type": "code",
   "execution_count": null,
   "metadata": {},
   "outputs": [],
   "source": [
    "val = 'Jaucourt'\n",
    "n = df_geo.loc[dataset['author'] == val].shape[0]\n",
    "print(str(n) + ' were written by '+ val)"
   ]
  },
  {
   "cell_type": "markdown",
   "metadata": {},
   "source": [
    "We can also easily show the number of articles per author:"
   ]
  },
  {
   "cell_type": "code",
   "execution_count": null,
   "metadata": {},
   "outputs": [],
   "source": [
    "df_geo.groupby(['author'])[\"filename\"].count()"
   ]
  },
  {
   "cell_type": "markdown",
   "metadata": {},
   "source": [
    "It is possible to show the value of one column in our dataframe for a specific row (i.e., by article) based on its name. For instance, if we want to know who wrote the article about Frontignan or if we want to see its content, we make these requests:"
   ]
  },
  {
   "cell_type": "code",
   "execution_count": null,
   "metadata": {},
   "outputs": [],
   "source": [
    "dataset.loc[dataset['head'] == 'FRONTIGNAN'].author.item()"
   ]
  },
  {
   "cell_type": "markdown",
   "metadata": {},
   "source": [
    "We can also perform a **keyword search** over the text content of all articles:\n",
    "\n",
    "* Select articles that contain 'france':"
   ]
  },
  {
   "cell_type": "code",
   "execution_count": null,
   "metadata": {},
   "outputs": [],
   "source": [
    "# search corpus by keyword (val)\n",
    "val = 'france'\n",
    "df_2 = dataset[dataset['text'].str.contains(val, case=False)]\n",
    "print(str(df_2.shape[0]) + ' articles contain the word \\''+ val + '\\'')"
   ]
  },
  {
   "cell_type": "markdown",
   "metadata": {},
   "source": [
    "It is also possible to search by **phrases**. The expression \"ville de\" is commonly used in the *Encyclopédie* to define the country or region of a place. Searching by this phrase gives us a sense of the broader geographical coverage of the corpus. \n",
    "\n",
    "Here we extract all articles that contain the expression 'ville de':"
   ]
  },
  {
   "cell_type": "code",
   "execution_count": null,
   "metadata": {},
   "outputs": [],
   "source": [
    "dataset[dataset['text'].str.contains(\"ville de\", case=False)]"
   ]
  },
  {
   "cell_type": "markdown",
   "metadata": {},
   "source": [
    "### 8.3 Processing several documents at once\n",
    "\n",
    "Usually, we want to process a sample of documents, not just one. \n",
    "\n",
    "As the process can be time consuming we will first select a small sample from our dataset to show how it works.\n",
    "\n",
    "* We can use the [sample()](https://pandas.pydata.org/docs/reference/api/pandas.DataFrame.sample.html) method from the pandas library to select randomly a small amount of documents"
   ]
  },
  {
   "cell_type": "code",
   "execution_count": null,
   "metadata": {},
   "outputs": [],
   "source": [
    "df_sampled = dataset.sample(3)\n",
    "df_sampled"
   ]
  },
  {
   "cell_type": "markdown",
   "metadata": {},
   "source": [
    "* Then, we keep only the text content of those documents:"
   ]
  },
  {
   "cell_type": "code",
   "execution_count": null,
   "metadata": {},
   "outputs": [],
   "source": [
    "contents = df_sampled.text"
   ]
  },
  {
   "cell_type": "markdown",
   "metadata": {},
   "source": [
    "`geoparser` can parse a `string`, a `list` of string or a `pandas.Series`.\n",
    "When the argument is a `list` or a `pandas.series`, the geoparser returns a `PerdidoCollection` object, while when it is a `string` it returns a `Perdido` object."
   ]
  },
  {
   "cell_type": "code",
   "execution_count": null,
   "metadata": {},
   "outputs": [],
   "source": [
    "docs = geoparser(contents)"
   ]
  },
  {
   "cell_type": "code",
   "execution_count": null,
   "metadata": {},
   "outputs": [],
   "source": [
    "for doc in docs:\n",
    "    print('-----')\n",
    "    displacy.render(doc.to_spacy_doc(), style=\"ent\", jupyter=True) "
   ]
  }
 ],
 "metadata": {
  "colab": {
   "collapsed_sections": [],
   "name": "Geoparsing.ipynb",
   "provenance": [],
   "toc_visible": true
  },
  "kernelspec": {
   "display_name": "Python 3.9.13 ('demo-perdido-egc-py39')",
   "language": "python",
   "name": "python3"
  },
  "language_info": {
   "codemirror_mode": {
    "name": "ipython",
    "version": 3
   },
   "file_extension": ".py",
   "mimetype": "text/x-python",
   "name": "python",
   "nbconvert_exporter": "python",
   "pygments_lexer": "ipython3",
   "version": "3.9.13"
  },
  "vscode": {
   "interpreter": {
    "hash": "49781ad1735bc90a6de953cd911de16c38c0dc835751caa26878ae3207769e1b"
   }
  }
 },
 "nbformat": 4,
 "nbformat_minor": 2
}
